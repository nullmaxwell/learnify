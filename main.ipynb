{
  "nbformat": 4,
  "nbformat_minor": 0,
  "metadata": {
    "colab": {
      "name": "learnify.ipynb",
      "provenance": [],
      "collapsed_sections": [],
      "machine_shape": "hm"
    },
    "interpreter": {
      "hash": "aee8b7b246df8f9039afb4144a1f6fd8d2ca17a180786b69acc140d282b71a49"
    },
    "kernelspec": {
      "display_name": "Python 3",
      "language": "python",
      "name": "python3"
    },
    "language_info": {
      "codemirror_mode": {
        "name": "ipython",
        "version": 3
      },
      "file_extension": ".py",
      "mimetype": "text/x-python",
      "name": "python",
      "nbconvert_exporter": "python",
      "pygments_lexer": "ipython3",
      "version": "3.9.5"
    },
    "metadata": {
      "interpreter": {
        "hash": "aee8b7b246df8f9039afb4144a1f6fd8d2ca17a180786b69acc140d282b71a49"
      }
    },
    "accelerator": "GPU"
  },
  "cells": [
    {
      "cell_type": "markdown",
      "metadata": {
        "id": "dNKX_4d2-eP-"
      },
      "source": [
        "# Setup and General Data Overview"
      ]
    },
    {
      "cell_type": "code",
      "metadata": {
        "id": "g8uFSwGC-eQC"
      },
      "source": [
        "import pandas as pd\n",
        "import numpy as np\n",
        "import tensorflow as tf\n",
        "import seaborn as sns\n",
        "import matplotlib.pyplot as plt"
      ],
      "execution_count": 1,
      "outputs": []
    },
    {
      "cell_type": "code",
      "metadata": {
        "colab": {
          "base_uri": "https://localhost:8080/"
        },
        "id": "J1OVTap-CkJh",
        "outputId": "d68895dc-112e-4256-de0a-3ed860590e12"
      },
      "source": [
        "!nvidia-smi"
      ],
      "execution_count": 2,
      "outputs": [
        {
          "output_type": "stream",
          "text": [
            "Sun Jun 20 19:19:59 2021       \n",
            "+-----------------------------------------------------------------------------+\n",
            "| NVIDIA-SMI 465.27       Driver Version: 460.32.03    CUDA Version: 11.2     |\n",
            "|-------------------------------+----------------------+----------------------+\n",
            "| GPU  Name        Persistence-M| Bus-Id        Disp.A | Volatile Uncorr. ECC |\n",
            "| Fan  Temp  Perf  Pwr:Usage/Cap|         Memory-Usage | GPU-Util  Compute M. |\n",
            "|                               |                      |               MIG M. |\n",
            "|===============================+======================+======================|\n",
            "|   0  Tesla P100-PCIE...  Off  | 00000000:00:04.0 Off |                    0 |\n",
            "| N/A   35C    P0    26W / 250W |      0MiB / 16280MiB |      0%      Default |\n",
            "|                               |                      |                  N/A |\n",
            "+-------------------------------+----------------------+----------------------+\n",
            "                                                                               \n",
            "+-----------------------------------------------------------------------------+\n",
            "| Processes:                                                                  |\n",
            "|  GPU   GI   CI        PID   Type   Process name                  GPU Memory |\n",
            "|        ID   ID                                                   Usage      |\n",
            "|=============================================================================|\n",
            "|  No running processes found                                                 |\n",
            "+-----------------------------------------------------------------------------+\n"
          ],
          "name": "stdout"
        }
      ]
    },
    {
      "cell_type": "code",
      "metadata": {
        "colab": {
          "base_uri": "https://localhost:8080/"
        },
        "id": "Ck-ZY94vG0BJ",
        "outputId": "45f1d6de-75f6-4f94-82f3-4e41fbcb21d6"
      },
      "source": [
        "from psutil import virtual_memory\n",
        "virtual_memory().total / 1e9"
      ],
      "execution_count": 3,
      "outputs": [
        {
          "output_type": "execute_result",
          "data": {
            "text/plain": [
              "27.339640832"
            ]
          },
          "metadata": {
            "tags": []
          },
          "execution_count": 3
        }
      ]
    },
    {
      "cell_type": "markdown",
      "metadata": {
        "id": "3YBIOcJrT4UD"
      },
      "source": [
        "Special thanks to [watsonbox's exportify repo](https://github.com/watsonbox/exportify) which allowed me to pull all of these songs and their features down from Spotify."
      ]
    },
    {
      "cell_type": "code",
      "metadata": {
        "id": "HyDkArFO-eQE",
        "colab": {
          "base_uri": "https://localhost:8080/"
        },
        "outputId": "0e0fa01b-3773-4b75-eb6c-9f253d0f7351"
      },
      "source": [
        "import os.path\n",
        "\n",
        "# raw_data = pd.read_csv('data/liked_labeled.csv') # local only\n",
        "if os.path.isfile('liked_labeled.csv') == False:\n",
        "  !wget https://raw.githubusercontent.com/nullmaxwell/learnify/main/data/liked_labeled.csv\n",
        "else:\n",
        "  print(\"Data already present!\")\n",
        "raw_data = pd.read_csv('liked_labeled.csv')"
      ],
      "execution_count": 4,
      "outputs": [
        {
          "output_type": "stream",
          "text": [
            "--2021-06-20 19:20:04--  https://raw.githubusercontent.com/nullmaxwell/learnify/main/data/liked_labeled.csv\n",
            "Resolving raw.githubusercontent.com (raw.githubusercontent.com)... 185.199.109.133, 185.199.108.133, 185.199.111.133, ...\n",
            "Connecting to raw.githubusercontent.com (raw.githubusercontent.com)|185.199.109.133|:443... connected.\n",
            "HTTP request sent, awaiting response... 200 OK\n",
            "Length: 2166386 (2.1M) [text/plain]\n",
            "Saving to: ‘liked_labeled.csv’\n",
            "\n",
            "liked_labeled.csv   100%[===================>]   2.07M  --.-KB/s    in 0.08s   \n",
            "\n",
            "2021-06-20 19:20:04 (26.6 MB/s) - ‘liked_labeled.csv’ saved [2166386/2166386]\n",
            "\n"
          ],
          "name": "stdout"
        }
      ]
    },
    {
      "cell_type": "code",
      "metadata": {
        "colab": {
          "base_uri": "https://localhost:8080/"
        },
        "id": "NqTogNIt-eQF",
        "outputId": "c7f975f0-f1f5-45cd-b1e5-12ae0126db8e"
      },
      "source": [
        "raw_data.info()"
      ],
      "execution_count": 5,
      "outputs": [
        {
          "output_type": "stream",
          "text": [
            "<class 'pandas.core.frame.DataFrame'>\n",
            "RangeIndex: 4296 entries, 0 to 4295\n",
            "Data columns (total 32 columns):\n",
            " #   Column                Non-Null Count  Dtype  \n",
            "---  ------                --------------  -----  \n",
            " 0   Unnamed: 0            4296 non-null   int64  \n",
            " 1   Track URI             4296 non-null   object \n",
            " 2   Track Name            4296 non-null   object \n",
            " 3   Artist URI(s)         4296 non-null   object \n",
            " 4   Artist Name(s)        4296 non-null   object \n",
            " 5   Album URI             4296 non-null   object \n",
            " 6   Album Name            4296 non-null   object \n",
            " 7   Album Artist URI(s)   4296 non-null   object \n",
            " 8   Album Artist Name(s)  4296 non-null   object \n",
            " 9   Album Release Date    4296 non-null   object \n",
            " 10  Album Image URL       4296 non-null   object \n",
            " 11  Disc Number           4296 non-null   int64  \n",
            " 12  Track Number          4296 non-null   int64  \n",
            " 13  Track Duration (ms)   4296 non-null   int64  \n",
            " 14  Track Preview URL     3247 non-null   object \n",
            " 15  Explicit              4296 non-null   bool   \n",
            " 16  Popularity            4296 non-null   int64  \n",
            " 17  Added By              0 non-null      float64\n",
            " 18  Added At              4296 non-null   object \n",
            " 19  Danceability          4293 non-null   float64\n",
            " 20  Energy                4293 non-null   float64\n",
            " 21  Key                   4293 non-null   float64\n",
            " 22  Loudness              4293 non-null   float64\n",
            " 23  Mode                  4293 non-null   float64\n",
            " 24  Speechiness           4293 non-null   float64\n",
            " 25  Acousticness          4293 non-null   float64\n",
            " 26  Instrumentalness      4293 non-null   float64\n",
            " 27  Liveness              4293 non-null   float64\n",
            " 28  Valence               4293 non-null   float64\n",
            " 29  Tempo                 4293 non-null   float64\n",
            " 30  Time Signature        4293 non-null   float64\n",
            " 31  Label                 4296 non-null   bool   \n",
            "dtypes: bool(2), float64(13), int64(5), object(12)\n",
            "memory usage: 1015.4+ KB\n"
          ],
          "name": "stdout"
        }
      ]
    },
    {
      "cell_type": "code",
      "metadata": {
        "colab": {
          "base_uri": "https://localhost:8080/",
          "height": 355
        },
        "id": "cCdCmPSn-eQI",
        "scrolled": true,
        "outputId": "c10ecbc4-20c6-4436-fba4-9aa5464b31f5"
      },
      "source": [
        "raw_data.describe()"
      ],
      "execution_count": 6,
      "outputs": [
        {
          "output_type": "execute_result",
          "data": {
            "text/html": [
              "<div>\n",
              "<style scoped>\n",
              "    .dataframe tbody tr th:only-of-type {\n",
              "        vertical-align: middle;\n",
              "    }\n",
              "\n",
              "    .dataframe tbody tr th {\n",
              "        vertical-align: top;\n",
              "    }\n",
              "\n",
              "    .dataframe thead th {\n",
              "        text-align: right;\n",
              "    }\n",
              "</style>\n",
              "<table border=\"1\" class=\"dataframe\">\n",
              "  <thead>\n",
              "    <tr style=\"text-align: right;\">\n",
              "      <th></th>\n",
              "      <th>Unnamed: 0</th>\n",
              "      <th>Disc Number</th>\n",
              "      <th>Track Number</th>\n",
              "      <th>Track Duration (ms)</th>\n",
              "      <th>Popularity</th>\n",
              "      <th>Added By</th>\n",
              "      <th>Danceability</th>\n",
              "      <th>Energy</th>\n",
              "      <th>Key</th>\n",
              "      <th>Loudness</th>\n",
              "      <th>Mode</th>\n",
              "      <th>Speechiness</th>\n",
              "      <th>Acousticness</th>\n",
              "      <th>Instrumentalness</th>\n",
              "      <th>Liveness</th>\n",
              "      <th>Valence</th>\n",
              "      <th>Tempo</th>\n",
              "      <th>Time Signature</th>\n",
              "    </tr>\n",
              "  </thead>\n",
              "  <tbody>\n",
              "    <tr>\n",
              "      <th>count</th>\n",
              "      <td>4296.000000</td>\n",
              "      <td>4296.000000</td>\n",
              "      <td>4296.000000</td>\n",
              "      <td>4.296000e+03</td>\n",
              "      <td>4296.000000</td>\n",
              "      <td>0.0</td>\n",
              "      <td>4293.000000</td>\n",
              "      <td>4293.000000</td>\n",
              "      <td>4293.000000</td>\n",
              "      <td>4293.000000</td>\n",
              "      <td>4293.000000</td>\n",
              "      <td>4293.000000</td>\n",
              "      <td>4293.000000</td>\n",
              "      <td>4293.000000</td>\n",
              "      <td>4293.000000</td>\n",
              "      <td>4293.000000</td>\n",
              "      <td>4293.000000</td>\n",
              "      <td>4293.000000</td>\n",
              "    </tr>\n",
              "    <tr>\n",
              "      <th>mean</th>\n",
              "      <td>2147.500000</td>\n",
              "      <td>1.032588</td>\n",
              "      <td>6.540503</td>\n",
              "      <td>2.423103e+05</td>\n",
              "      <td>31.929004</td>\n",
              "      <td>NaN</td>\n",
              "      <td>0.563541</td>\n",
              "      <td>0.533308</td>\n",
              "      <td>5.220825</td>\n",
              "      <td>-10.394896</td>\n",
              "      <td>0.612625</td>\n",
              "      <td>0.103522</td>\n",
              "      <td>0.374874</td>\n",
              "      <td>0.323438</td>\n",
              "      <td>0.192953</td>\n",
              "      <td>0.387757</td>\n",
              "      <td>117.886939</td>\n",
              "      <td>3.894712</td>\n",
              "    </tr>\n",
              "    <tr>\n",
              "      <th>std</th>\n",
              "      <td>1240.292707</td>\n",
              "      <td>0.321318</td>\n",
              "      <td>6.242312</td>\n",
              "      <td>2.894246e+05</td>\n",
              "      <td>23.515855</td>\n",
              "      <td>NaN</td>\n",
              "      <td>0.185046</td>\n",
              "      <td>0.247769</td>\n",
              "      <td>3.635817</td>\n",
              "      <td>6.086908</td>\n",
              "      <td>0.487207</td>\n",
              "      <td>0.122246</td>\n",
              "      <td>0.344682</td>\n",
              "      <td>0.383817</td>\n",
              "      <td>0.163539</td>\n",
              "      <td>0.249579</td>\n",
              "      <td>30.341885</td>\n",
              "      <td>0.472055</td>\n",
              "    </tr>\n",
              "    <tr>\n",
              "      <th>min</th>\n",
              "      <td>0.000000</td>\n",
              "      <td>1.000000</td>\n",
              "      <td>1.000000</td>\n",
              "      <td>4.800000e+03</td>\n",
              "      <td>0.000000</td>\n",
              "      <td>NaN</td>\n",
              "      <td>0.000000</td>\n",
              "      <td>0.000098</td>\n",
              "      <td>0.000000</td>\n",
              "      <td>-46.829000</td>\n",
              "      <td>0.000000</td>\n",
              "      <td>0.000000</td>\n",
              "      <td>0.000002</td>\n",
              "      <td>0.000000</td>\n",
              "      <td>0.000000</td>\n",
              "      <td>0.000000</td>\n",
              "      <td>0.000000</td>\n",
              "      <td>0.000000</td>\n",
              "    </tr>\n",
              "    <tr>\n",
              "      <th>25%</th>\n",
              "      <td>1073.750000</td>\n",
              "      <td>1.000000</td>\n",
              "      <td>2.000000</td>\n",
              "      <td>1.648762e+05</td>\n",
              "      <td>7.000000</td>\n",
              "      <td>NaN</td>\n",
              "      <td>0.453000</td>\n",
              "      <td>0.360000</td>\n",
              "      <td>2.000000</td>\n",
              "      <td>-12.582000</td>\n",
              "      <td>0.000000</td>\n",
              "      <td>0.037200</td>\n",
              "      <td>0.047200</td>\n",
              "      <td>0.000082</td>\n",
              "      <td>0.098500</td>\n",
              "      <td>0.175000</td>\n",
              "      <td>93.919000</td>\n",
              "      <td>4.000000</td>\n",
              "    </tr>\n",
              "    <tr>\n",
              "      <th>50%</th>\n",
              "      <td>2147.500000</td>\n",
              "      <td>1.000000</td>\n",
              "      <td>5.000000</td>\n",
              "      <td>2.148260e+05</td>\n",
              "      <td>34.000000</td>\n",
              "      <td>NaN</td>\n",
              "      <td>0.584000</td>\n",
              "      <td>0.550000</td>\n",
              "      <td>5.000000</td>\n",
              "      <td>-8.774000</td>\n",
              "      <td>1.000000</td>\n",
              "      <td>0.050900</td>\n",
              "      <td>0.274000</td>\n",
              "      <td>0.047200</td>\n",
              "      <td>0.121000</td>\n",
              "      <td>0.363000</td>\n",
              "      <td>117.964000</td>\n",
              "      <td>4.000000</td>\n",
              "    </tr>\n",
              "    <tr>\n",
              "      <th>75%</th>\n",
              "      <td>3221.250000</td>\n",
              "      <td>1.000000</td>\n",
              "      <td>9.000000</td>\n",
              "      <td>2.657785e+05</td>\n",
              "      <td>51.000000</td>\n",
              "      <td>NaN</td>\n",
              "      <td>0.694000</td>\n",
              "      <td>0.729000</td>\n",
              "      <td>8.000000</td>\n",
              "      <td>-6.421000</td>\n",
              "      <td>1.000000</td>\n",
              "      <td>0.105000</td>\n",
              "      <td>0.703000</td>\n",
              "      <td>0.781000</td>\n",
              "      <td>0.229000</td>\n",
              "      <td>0.573000</td>\n",
              "      <td>137.941000</td>\n",
              "      <td>4.000000</td>\n",
              "    </tr>\n",
              "    <tr>\n",
              "      <th>max</th>\n",
              "      <td>4295.000000</td>\n",
              "      <td>11.000000</td>\n",
              "      <td>42.000000</td>\n",
              "      <td>9.146416e+06</td>\n",
              "      <td>96.000000</td>\n",
              "      <td>NaN</td>\n",
              "      <td>0.980000</td>\n",
              "      <td>0.993000</td>\n",
              "      <td>11.000000</td>\n",
              "      <td>-0.394000</td>\n",
              "      <td>1.000000</td>\n",
              "      <td>0.928000</td>\n",
              "      <td>0.996000</td>\n",
              "      <td>0.991000</td>\n",
              "      <td>0.985000</td>\n",
              "      <td>0.982000</td>\n",
              "      <td>214.131000</td>\n",
              "      <td>5.000000</td>\n",
              "    </tr>\n",
              "  </tbody>\n",
              "</table>\n",
              "</div>"
            ],
            "text/plain": [
              "        Unnamed: 0  Disc Number  ...        Tempo  Time Signature\n",
              "count  4296.000000  4296.000000  ...  4293.000000     4293.000000\n",
              "mean   2147.500000     1.032588  ...   117.886939        3.894712\n",
              "std    1240.292707     0.321318  ...    30.341885        0.472055\n",
              "min       0.000000     1.000000  ...     0.000000        0.000000\n",
              "25%    1073.750000     1.000000  ...    93.919000        4.000000\n",
              "50%    2147.500000     1.000000  ...   117.964000        4.000000\n",
              "75%    3221.250000     1.000000  ...   137.941000        4.000000\n",
              "max    4295.000000    11.000000  ...   214.131000        5.000000\n",
              "\n",
              "[8 rows x 18 columns]"
            ]
          },
          "metadata": {
            "tags": []
          },
          "execution_count": 6
        }
      ]
    },
    {
      "cell_type": "markdown",
      "metadata": {
        "id": "9ZTf-SH1CZLD"
      },
      "source": [
        "# Data Exploration/Analysis"
      ]
    },
    {
      "cell_type": "markdown",
      "metadata": {
        "id": "Z1c8CfrRse5_"
      },
      "source": [
        "## Looking at liked songs generally first"
      ]
    },
    {
      "cell_type": "markdown",
      "metadata": {
        "id": "QzveBN2nCZLD"
      },
      "source": [
        "Note: The label in the last column constitutes a song that I like."
      ]
    },
    {
      "cell_type": "code",
      "metadata": {
        "id": "tHdy6o6-CZLD",
        "colab": {
          "base_uri": "https://localhost:8080/"
        },
        "outputId": "5fe643dd-4ba3-4ee3-ab93-8017917402aa"
      },
      "source": [
        "analysis_data = raw_data.copy()\n",
        "analysis_data = analysis_data.loc[analysis_data['Label'] == True]\n",
        "analysis_data.info()"
      ],
      "execution_count": 7,
      "outputs": [
        {
          "output_type": "stream",
          "text": [
            "<class 'pandas.core.frame.DataFrame'>\n",
            "Int64Index: 2092 entries, 3 to 4293\n",
            "Data columns (total 32 columns):\n",
            " #   Column                Non-Null Count  Dtype  \n",
            "---  ------                --------------  -----  \n",
            " 0   Unnamed: 0            2092 non-null   int64  \n",
            " 1   Track URI             2092 non-null   object \n",
            " 2   Track Name            2092 non-null   object \n",
            " 3   Artist URI(s)         2092 non-null   object \n",
            " 4   Artist Name(s)        2092 non-null   object \n",
            " 5   Album URI             2092 non-null   object \n",
            " 6   Album Name            2092 non-null   object \n",
            " 7   Album Artist URI(s)   2092 non-null   object \n",
            " 8   Album Artist Name(s)  2092 non-null   object \n",
            " 9   Album Release Date    2092 non-null   object \n",
            " 10  Album Image URL       2092 non-null   object \n",
            " 11  Disc Number           2092 non-null   int64  \n",
            " 12  Track Number          2092 non-null   int64  \n",
            " 13  Track Duration (ms)   2092 non-null   int64  \n",
            " 14  Track Preview URL     1627 non-null   object \n",
            " 15  Explicit              2092 non-null   bool   \n",
            " 16  Popularity            2092 non-null   int64  \n",
            " 17  Added By              0 non-null      float64\n",
            " 18  Added At              2092 non-null   object \n",
            " 19  Danceability          2091 non-null   float64\n",
            " 20  Energy                2091 non-null   float64\n",
            " 21  Key                   2091 non-null   float64\n",
            " 22  Loudness              2091 non-null   float64\n",
            " 23  Mode                  2091 non-null   float64\n",
            " 24  Speechiness           2091 non-null   float64\n",
            " 25  Acousticness          2091 non-null   float64\n",
            " 26  Instrumentalness      2091 non-null   float64\n",
            " 27  Liveness              2091 non-null   float64\n",
            " 28  Valence               2091 non-null   float64\n",
            " 29  Tempo                 2091 non-null   float64\n",
            " 30  Time Signature        2091 non-null   float64\n",
            " 31  Label                 2092 non-null   bool   \n",
            "dtypes: bool(2), float64(13), int64(5), object(12)\n",
            "memory usage: 510.7+ KB\n"
          ],
          "name": "stdout"
        }
      ]
    },
    {
      "cell_type": "markdown",
      "metadata": {
        "id": "o4k_WTJQTRqo"
      },
      "source": [
        "Several of the following visulizations are inspired and modified from [pavelkomarov's tast_analysis notebook](https://github.com/pavelkomarov/exportify/blob/master/taste_analysis.ipynb)."
      ]
    },
    {
      "cell_type": "code",
      "metadata": {
        "id": "6L9QxazNCZLE",
        "colab": {
          "base_uri": "https://localhost:8080/"
        },
        "outputId": "375e91f3-bfc2-4442-fe61-2145d4a86edb"
      },
      "source": [
        "from collections import defaultdict\n",
        "artists = defaultdict(int)\n",
        "for i,song in analysis_data.iterrows():\n",
        "\tfor musician in song['Artist Name(s)'].split(','):\n",
        "\t\tartists[musician] += 1\n",
        "\n",
        "artists = pd.DataFrame(artists.items(), columns=['Artist', 'Track Count']).sort_values('Track Count', ascending=False).reset_index(drop=True)\n",
        "\n",
        "print(\"Number of unique artists: \" + str(len(analysis_data['Artist Name(s)'].unique())))"
      ],
      "execution_count": 8,
      "outputs": [
        {
          "output_type": "stream",
          "text": [
            "Number of unique artists: 936\n"
          ],
          "name": "stdout"
        }
      ]
    },
    {
      "cell_type": "code",
      "metadata": {
        "tags": [],
        "id": "R_8cZoY8CZLG",
        "colab": {
          "base_uri": "https://localhost:8080/",
          "height": 763
        },
        "outputId": "d5eb307f-109f-4dbc-b80e-377ff19e152f"
      },
      "source": [
        "plt.figure(figsize=(18, 10))\n",
        "plt.bar(artists['Artist'][:50], artists['Track Count'][:50])\n",
        "plt.xticks(rotation=80)\n",
        "plt.xlabel(artists.columns[0])\n",
        "plt.ylabel(artists.columns[1])\n",
        "plt.title('Top 50 Artists by Number of Songs')"
      ],
      "execution_count": 9,
      "outputs": [
        {
          "output_type": "execute_result",
          "data": {
            "text/plain": [
              "Text(0.5, 1.0, 'Top 50 Artists by Number of Songs')"
            ]
          },
          "metadata": {
            "tags": []
          },
          "execution_count": 9
        },
        {
          "output_type": "display_data",
          "data": {
            "image/png": "[encoded data removed]",
            "text/plain": [
              "<Figure size 1296x720 with 1 Axes>"
            ]
          },
          "metadata": {
            "tags": [],
            "needs_background": "light"
          }
        }
      ]
    },
    {
      "cell_type": "code",
      "metadata": {
        "id": "hGfNo4wbCZLG",
        "colab": {
          "base_uri": "https://localhost:8080/",
          "height": 421
        },
        "outputId": "f3e195b8-a628-4a77-f9e9-fc1cfc6097b6"
      },
      "source": [
        "years = defaultdict(int)\n",
        "for i,song in analysis_data.iterrows():\n",
        "    years[song['Album Release Date'][:4]] += 1\n",
        "\n",
        "years = pd.DataFrame(years.items(), columns=['Year', 'Track Count']).sort_values('Year')\n",
        "\n",
        "plt.figure(figsize=(10, 6))\n",
        "plt.bar(years['Year'], years['Track Count'])\n",
        "plt.xticks(rotation=80)\n",
        "plt.xlabel(years.columns[0])\n",
        "plt.ylabel(years.columns[1])\n",
        "plt.title('Liked songs by Release Year Frequency');"
      ],
      "execution_count": 10,
      "outputs": [
        {
          "output_type": "display_data",
          "data": {
            "image/png": "[encoded data removed]",
            "text/plain": [
              "<Figure size 720x432 with 1 Axes>"
            ]
          },
          "metadata": {
            "tags": [],
            "needs_background": "light"
          }
        }
      ]
    },
    {
      "cell_type": "code",
      "metadata": {
        "id": "wCWDRkORCZLH",
        "colab": {
          "base_uri": "https://localhost:8080/",
          "height": 391
        },
        "outputId": "ab6e5376-70bd-42f8-ec9c-d121f2e67e46"
      },
      "source": [
        "import seaborn as sns\n",
        "\n",
        "plt.figure(figsize=(15,4))\n",
        "\n",
        "plt.subplot(1, 2, 1)\n",
        "axes = sns.countplot(analysis_data['Key'])\n",
        "axes.set(xticklabels=['C', 'C#', 'D', 'D#', 'E', 'F', 'F#', 'G', 'G#', 'A', 'A#', 'B'])\n",
        "plt.ylabel('Track Count')\n",
        "plt.title('Key Frequency')\n",
        "\n",
        "plt.subplot(1, 2, 2)\n",
        "axes = sns.countplot(analysis_data['Mode'])\n",
        "axes.set(xticklabels=['Minor', 'Major'])\n",
        "plt.ylabel('Track Count')\n",
        "plt.title('Major vs Minor Key Frequency');\n",
        "\n",
        "plt.tight_layout(w_pad=2)"
      ],
      "execution_count": 11,
      "outputs": [
        {
          "output_type": "stream",
          "text": [
            "/usr/local/lib/python3.7/dist-packages/seaborn/_decorators.py:43: FutureWarning: Pass the following variable as a keyword arg: x. From version 0.12, the only valid positional argument will be `data`, and passing other arguments without an explicit keyword will result in an error or misinterpretation.\n",
            "  FutureWarning\n",
            "/usr/local/lib/python3.7/dist-packages/seaborn/_decorators.py:43: FutureWarning: Pass the following variable as a keyword arg: x. From version 0.12, the only valid positional argument will be `data`, and passing other arguments without an explicit keyword will result in an error or misinterpretation.\n",
            "  FutureWarning\n"
          ],
          "name": "stderr"
        },
        {
          "output_type": "display_data",
          "data": {
            "image/png": "[encoded data removed]",
            "text/plain": [
              "<Figure size 1080x288 with 2 Axes>"
            ]
          },
          "metadata": {
            "tags": [],
            "needs_background": "light"
          }
        }
      ]
    },
    {
      "cell_type": "markdown",
      "metadata": {
        "id": "Uq2khUEesP-G"
      },
      "source": [
        "## Looking at the Bigger Picture\n"
      ]
    },
    {
      "cell_type": "code",
      "metadata": {
        "colab": {
          "base_uri": "https://localhost:8080/",
          "height": 198
        },
        "id": "zcJQFpUzsFV1",
        "outputId": "bff74ccc-742c-4f18-9ad1-3f2857cc6544"
      },
      "source": [
        "analysis_data = raw_data.copy()\n",
        "analysis_data.groupby('Label').mean()"
      ],
      "execution_count": 12,
      "outputs": [
        {
          "output_type": "execute_result",
          "data": {
            "text/html": [
              "<div>\n",
              "<style scoped>\n",
              "    .dataframe tbody tr th:only-of-type {\n",
              "        vertical-align: middle;\n",
              "    }\n",
              "\n",
              "    .dataframe tbody tr th {\n",
              "        vertical-align: top;\n",
              "    }\n",
              "\n",
              "    .dataframe thead th {\n",
              "        text-align: right;\n",
              "    }\n",
              "</style>\n",
              "<table border=\"1\" class=\"dataframe\">\n",
              "  <thead>\n",
              "    <tr style=\"text-align: right;\">\n",
              "      <th></th>\n",
              "      <th>Unnamed: 0</th>\n",
              "      <th>Disc Number</th>\n",
              "      <th>Track Number</th>\n",
              "      <th>Track Duration (ms)</th>\n",
              "      <th>Explicit</th>\n",
              "      <th>Popularity</th>\n",
              "      <th>Added By</th>\n",
              "      <th>Danceability</th>\n",
              "      <th>Energy</th>\n",
              "      <th>Key</th>\n",
              "      <th>Loudness</th>\n",
              "      <th>Mode</th>\n",
              "      <th>Speechiness</th>\n",
              "      <th>Acousticness</th>\n",
              "      <th>Instrumentalness</th>\n",
              "      <th>Liveness</th>\n",
              "      <th>Valence</th>\n",
              "      <th>Tempo</th>\n",
              "      <th>Time Signature</th>\n",
              "    </tr>\n",
              "    <tr>\n",
              "      <th>Label</th>\n",
              "      <th></th>\n",
              "      <th></th>\n",
              "      <th></th>\n",
              "      <th></th>\n",
              "      <th></th>\n",
              "      <th></th>\n",
              "      <th></th>\n",
              "      <th></th>\n",
              "      <th></th>\n",
              "      <th></th>\n",
              "      <th></th>\n",
              "      <th></th>\n",
              "      <th></th>\n",
              "      <th></th>\n",
              "      <th></th>\n",
              "      <th></th>\n",
              "      <th></th>\n",
              "      <th></th>\n",
              "      <th></th>\n",
              "    </tr>\n",
              "  </thead>\n",
              "  <tbody>\n",
              "    <tr>\n",
              "      <th>False</th>\n",
              "      <td>2198.617060</td>\n",
              "      <td>1.040381</td>\n",
              "      <td>7.369328</td>\n",
              "      <td>236687.539927</td>\n",
              "      <td>0.164701</td>\n",
              "      <td>27.604809</td>\n",
              "      <td>NaN</td>\n",
              "      <td>0.559191</td>\n",
              "      <td>0.529814</td>\n",
              "      <td>5.263397</td>\n",
              "      <td>-10.538458</td>\n",
              "      <td>0.589464</td>\n",
              "      <td>0.114923</td>\n",
              "      <td>0.377752</td>\n",
              "      <td>0.351939</td>\n",
              "      <td>0.200036</td>\n",
              "      <td>0.391058</td>\n",
              "      <td>117.172566</td>\n",
              "      <td>3.883742</td>\n",
              "    </tr>\n",
              "    <tr>\n",
              "      <th>True</th>\n",
              "      <td>2093.646272</td>\n",
              "      <td>1.024379</td>\n",
              "      <td>5.667304</td>\n",
              "      <td>248234.139101</td>\n",
              "      <td>0.174952</td>\n",
              "      <td>36.484704</td>\n",
              "      <td>NaN</td>\n",
              "      <td>0.568123</td>\n",
              "      <td>0.536986</td>\n",
              "      <td>5.175992</td>\n",
              "      <td>-10.243712</td>\n",
              "      <td>0.637016</td>\n",
              "      <td>0.091516</td>\n",
              "      <td>0.371844</td>\n",
              "      <td>0.293425</td>\n",
              "      <td>0.185493</td>\n",
              "      <td>0.384280</td>\n",
              "      <td>118.639233</td>\n",
              "      <td>3.906265</td>\n",
              "    </tr>\n",
              "  </tbody>\n",
              "</table>\n",
              "</div>"
            ],
            "text/plain": [
              "        Unnamed: 0  Disc Number  ...       Tempo  Time Signature\n",
              "Label                            ...                            \n",
              "False  2198.617060     1.040381  ...  117.172566        3.883742\n",
              "True   2093.646272     1.024379  ...  118.639233        3.906265\n",
              "\n",
              "[2 rows x 19 columns]"
            ]
          },
          "metadata": {
            "tags": []
          },
          "execution_count": 12
        }
      ]
    },
    {
      "cell_type": "markdown",
      "metadata": {
        "id": "b8ybINfds3ps"
      },
      "source": [
        "From this we have some observations:\n",
        "- The average popularity of songs that I like is more than those I do not like.\n",
        "- On average I am liking more tracks that are in a Major key.\n",
        "- I tend to like lett speechy tracks.\n",
        "- I prefer less instrumental tracks (not by too much). According to [Spotify's API reference](https://developer.spotify.com/documentation/web-api/reference/) this would indicate that on average my liked songs are containing more vocal content, which is interesting because if someone were to ask me this question I would probably respond with the opposite observation."
      ]
    },
    {
      "cell_type": "code",
      "metadata": {
        "colab": {
          "base_uri": "https://localhost:8080/",
          "height": 512
        },
        "id": "4591mVaRwpEK",
        "outputId": "31ec0ae0-0842-4a47-d333-ae8bc3857145"
      },
      "source": [
        "# ['C', 'C#', 'D', 'D#', 'E', 'F', 'F#', 'G', 'G#', 'A', 'A#', 'B']\n",
        "analysis_data.groupby('Key').mean()"
      ],
      "execution_count": 13,
      "outputs": [
        {
          "output_type": "execute_result",
          "data": {
            "text/html": [
              "<div>\n",
              "<style scoped>\n",
              "    .dataframe tbody tr th:only-of-type {\n",
              "        vertical-align: middle;\n",
              "    }\n",
              "\n",
              "    .dataframe tbody tr th {\n",
              "        vertical-align: top;\n",
              "    }\n",
              "\n",
              "    .dataframe thead th {\n",
              "        text-align: right;\n",
              "    }\n",
              "</style>\n",
              "<table border=\"1\" class=\"dataframe\">\n",
              "  <thead>\n",
              "    <tr style=\"text-align: right;\">\n",
              "      <th></th>\n",
              "      <th>Unnamed: 0</th>\n",
              "      <th>Disc Number</th>\n",
              "      <th>Track Number</th>\n",
              "      <th>Track Duration (ms)</th>\n",
              "      <th>Explicit</th>\n",
              "      <th>Popularity</th>\n",
              "      <th>Added By</th>\n",
              "      <th>Danceability</th>\n",
              "      <th>Energy</th>\n",
              "      <th>Loudness</th>\n",
              "      <th>Mode</th>\n",
              "      <th>Speechiness</th>\n",
              "      <th>Acousticness</th>\n",
              "      <th>Instrumentalness</th>\n",
              "      <th>Liveness</th>\n",
              "      <th>Valence</th>\n",
              "      <th>Tempo</th>\n",
              "      <th>Time Signature</th>\n",
              "      <th>Label</th>\n",
              "    </tr>\n",
              "    <tr>\n",
              "      <th>Key</th>\n",
              "      <th></th>\n",
              "      <th></th>\n",
              "      <th></th>\n",
              "      <th></th>\n",
              "      <th></th>\n",
              "      <th></th>\n",
              "      <th></th>\n",
              "      <th></th>\n",
              "      <th></th>\n",
              "      <th></th>\n",
              "      <th></th>\n",
              "      <th></th>\n",
              "      <th></th>\n",
              "      <th></th>\n",
              "      <th></th>\n",
              "      <th></th>\n",
              "      <th></th>\n",
              "      <th></th>\n",
              "      <th></th>\n",
              "    </tr>\n",
              "  </thead>\n",
              "  <tbody>\n",
              "    <tr>\n",
              "      <th>0.0</th>\n",
              "      <td>2085.915152</td>\n",
              "      <td>1.038384</td>\n",
              "      <td>6.721212</td>\n",
              "      <td>221065.911111</td>\n",
              "      <td>0.137374</td>\n",
              "      <td>32.064646</td>\n",
              "      <td>NaN</td>\n",
              "      <td>0.548035</td>\n",
              "      <td>0.517326</td>\n",
              "      <td>-10.461842</td>\n",
              "      <td>0.789899</td>\n",
              "      <td>0.085621</td>\n",
              "      <td>0.398969</td>\n",
              "      <td>0.338569</td>\n",
              "      <td>0.185462</td>\n",
              "      <td>0.378276</td>\n",
              "      <td>118.144028</td>\n",
              "      <td>3.890909</td>\n",
              "      <td>0.490909</td>\n",
              "    </tr>\n",
              "    <tr>\n",
              "      <th>1.0</th>\n",
              "      <td>2147.745283</td>\n",
              "      <td>1.035849</td>\n",
              "      <td>6.307547</td>\n",
              "      <td>250480.715094</td>\n",
              "      <td>0.283019</td>\n",
              "      <td>31.049057</td>\n",
              "      <td>NaN</td>\n",
              "      <td>0.603719</td>\n",
              "      <td>0.558732</td>\n",
              "      <td>-9.750691</td>\n",
              "      <td>0.686792</td>\n",
              "      <td>0.131452</td>\n",
              "      <td>0.321296</td>\n",
              "      <td>0.301386</td>\n",
              "      <td>0.190895</td>\n",
              "      <td>0.392844</td>\n",
              "      <td>117.221072</td>\n",
              "      <td>3.949057</td>\n",
              "      <td>0.500000</td>\n",
              "    </tr>\n",
              "    <tr>\n",
              "      <th>2.0</th>\n",
              "      <td>2247.328395</td>\n",
              "      <td>1.039506</td>\n",
              "      <td>6.506173</td>\n",
              "      <td>231245.464198</td>\n",
              "      <td>0.123457</td>\n",
              "      <td>29.846914</td>\n",
              "      <td>NaN</td>\n",
              "      <td>0.533584</td>\n",
              "      <td>0.535737</td>\n",
              "      <td>-10.179793</td>\n",
              "      <td>0.782716</td>\n",
              "      <td>0.086269</td>\n",
              "      <td>0.374760</td>\n",
              "      <td>0.321024</td>\n",
              "      <td>0.194462</td>\n",
              "      <td>0.375006</td>\n",
              "      <td>116.695281</td>\n",
              "      <td>3.883951</td>\n",
              "      <td>0.459259</td>\n",
              "    </tr>\n",
              "    <tr>\n",
              "      <th>3.0</th>\n",
              "      <td>2125.042857</td>\n",
              "      <td>1.007143</td>\n",
              "      <td>6.385714</td>\n",
              "      <td>212895.457143</td>\n",
              "      <td>0.128571</td>\n",
              "      <td>32.821429</td>\n",
              "      <td>NaN</td>\n",
              "      <td>0.555042</td>\n",
              "      <td>0.431869</td>\n",
              "      <td>-12.807400</td>\n",
              "      <td>0.621429</td>\n",
              "      <td>0.092522</td>\n",
              "      <td>0.503701</td>\n",
              "      <td>0.413260</td>\n",
              "      <td>0.165076</td>\n",
              "      <td>0.352465</td>\n",
              "      <td>113.129664</td>\n",
              "      <td>3.864286</td>\n",
              "      <td>0.585714</td>\n",
              "    </tr>\n",
              "    <tr>\n",
              "      <th>4.0</th>\n",
              "      <td>2096.023490</td>\n",
              "      <td>1.026846</td>\n",
              "      <td>6.721477</td>\n",
              "      <td>242011.560403</td>\n",
              "      <td>0.140940</td>\n",
              "      <td>33.248322</td>\n",
              "      <td>NaN</td>\n",
              "      <td>0.541803</td>\n",
              "      <td>0.536351</td>\n",
              "      <td>-10.178040</td>\n",
              "      <td>0.489933</td>\n",
              "      <td>0.084041</td>\n",
              "      <td>0.392277</td>\n",
              "      <td>0.300525</td>\n",
              "      <td>0.207067</td>\n",
              "      <td>0.378469</td>\n",
              "      <td>119.907872</td>\n",
              "      <td>3.889262</td>\n",
              "      <td>0.500000</td>\n",
              "    </tr>\n",
              "    <tr>\n",
              "      <th>5.0</th>\n",
              "      <td>2136.562310</td>\n",
              "      <td>1.027356</td>\n",
              "      <td>6.519757</td>\n",
              "      <td>266010.182371</td>\n",
              "      <td>0.133739</td>\n",
              "      <td>31.413374</td>\n",
              "      <td>NaN</td>\n",
              "      <td>0.550513</td>\n",
              "      <td>0.536502</td>\n",
              "      <td>-10.515988</td>\n",
              "      <td>0.574468</td>\n",
              "      <td>0.094173</td>\n",
              "      <td>0.396759</td>\n",
              "      <td>0.330578</td>\n",
              "      <td>0.198621</td>\n",
              "      <td>0.396662</td>\n",
              "      <td>116.075881</td>\n",
              "      <td>3.893617</td>\n",
              "      <td>0.492401</td>\n",
              "    </tr>\n",
              "    <tr>\n",
              "      <th>6.0</th>\n",
              "      <td>2081.170492</td>\n",
              "      <td>1.013115</td>\n",
              "      <td>6.501639</td>\n",
              "      <td>249424.918033</td>\n",
              "      <td>0.134426</td>\n",
              "      <td>29.796721</td>\n",
              "      <td>NaN</td>\n",
              "      <td>0.566066</td>\n",
              "      <td>0.541556</td>\n",
              "      <td>-10.186374</td>\n",
              "      <td>0.452459</td>\n",
              "      <td>0.110742</td>\n",
              "      <td>0.363552</td>\n",
              "      <td>0.341945</td>\n",
              "      <td>0.199674</td>\n",
              "      <td>0.387511</td>\n",
              "      <td>119.213754</td>\n",
              "      <td>3.947541</td>\n",
              "      <td>0.491803</td>\n",
              "    </tr>\n",
              "    <tr>\n",
              "      <th>7.0</th>\n",
              "      <td>2222.311751</td>\n",
              "      <td>1.059952</td>\n",
              "      <td>6.568345</td>\n",
              "      <td>232041.546763</td>\n",
              "      <td>0.141487</td>\n",
              "      <td>34.621103</td>\n",
              "      <td>NaN</td>\n",
              "      <td>0.555553</td>\n",
              "      <td>0.536761</td>\n",
              "      <td>-10.542427</td>\n",
              "      <td>0.721823</td>\n",
              "      <td>0.103544</td>\n",
              "      <td>0.376695</td>\n",
              "      <td>0.328109</td>\n",
              "      <td>0.194372</td>\n",
              "      <td>0.395613</td>\n",
              "      <td>117.615417</td>\n",
              "      <td>3.844125</td>\n",
              "      <td>0.450839</td>\n",
              "    </tr>\n",
              "    <tr>\n",
              "      <th>8.0</th>\n",
              "      <td>2278.511327</td>\n",
              "      <td>1.029126</td>\n",
              "      <td>6.508091</td>\n",
              "      <td>232546.417476</td>\n",
              "      <td>0.165049</td>\n",
              "      <td>31.074434</td>\n",
              "      <td>NaN</td>\n",
              "      <td>0.577841</td>\n",
              "      <td>0.500842</td>\n",
              "      <td>-11.172091</td>\n",
              "      <td>0.656958</td>\n",
              "      <td>0.112780</td>\n",
              "      <td>0.397335</td>\n",
              "      <td>0.361743</td>\n",
              "      <td>0.188878</td>\n",
              "      <td>0.369049</td>\n",
              "      <td>115.625071</td>\n",
              "      <td>3.841424</td>\n",
              "      <td>0.488673</td>\n",
              "    </tr>\n",
              "    <tr>\n",
              "      <th>9.0</th>\n",
              "      <td>2148.353808</td>\n",
              "      <td>1.034398</td>\n",
              "      <td>5.992629</td>\n",
              "      <td>235598.395577</td>\n",
              "      <td>0.144963</td>\n",
              "      <td>32.498771</td>\n",
              "      <td>NaN</td>\n",
              "      <td>0.547763</td>\n",
              "      <td>0.536634</td>\n",
              "      <td>-10.229943</td>\n",
              "      <td>0.538084</td>\n",
              "      <td>0.087635</td>\n",
              "      <td>0.385295</td>\n",
              "      <td>0.320845</td>\n",
              "      <td>0.184282</td>\n",
              "      <td>0.386029</td>\n",
              "      <td>120.742818</td>\n",
              "      <td>3.869779</td>\n",
              "      <td>0.501229</td>\n",
              "    </tr>\n",
              "    <tr>\n",
              "      <th>10.0</th>\n",
              "      <td>2171.967320</td>\n",
              "      <td>1.039216</td>\n",
              "      <td>7.336601</td>\n",
              "      <td>215941.264706</td>\n",
              "      <td>0.222222</td>\n",
              "      <td>32.173203</td>\n",
              "      <td>NaN</td>\n",
              "      <td>0.580362</td>\n",
              "      <td>0.513931</td>\n",
              "      <td>-11.093003</td>\n",
              "      <td>0.421569</td>\n",
              "      <td>0.133715</td>\n",
              "      <td>0.377672</td>\n",
              "      <td>0.297620</td>\n",
              "      <td>0.201334</td>\n",
              "      <td>0.394789</td>\n",
              "      <td>116.144804</td>\n",
              "      <td>3.879085</td>\n",
              "      <td>0.480392</td>\n",
              "    </tr>\n",
              "    <tr>\n",
              "      <th>11.0</th>\n",
              "      <td>2022.230114</td>\n",
              "      <td>1.011364</td>\n",
              "      <td>6.502841</td>\n",
              "      <td>262193.292614</td>\n",
              "      <td>0.224432</td>\n",
              "      <td>33.255682</td>\n",
              "      <td>NaN</td>\n",
              "      <td>0.591624</td>\n",
              "      <td>0.579747</td>\n",
              "      <td>-9.536599</td>\n",
              "      <td>0.414773</td>\n",
              "      <td>0.113811</td>\n",
              "      <td>0.308826</td>\n",
              "      <td>0.285394</td>\n",
              "      <td>0.197498</td>\n",
              "      <td>0.424885</td>\n",
              "      <td>121.142912</td>\n",
              "      <td>3.951705</td>\n",
              "      <td>0.465909</td>\n",
              "    </tr>\n",
              "  </tbody>\n",
              "</table>\n",
              "</div>"
            ],
            "text/plain": [
              "       Unnamed: 0  Disc Number  ...  Time Signature     Label\n",
              "Key                             ...                          \n",
              "0.0   2085.915152     1.038384  ...        3.890909  0.490909\n",
              "1.0   2147.745283     1.035849  ...        3.949057  0.500000\n",
              "2.0   2247.328395     1.039506  ...        3.883951  0.459259\n",
              "3.0   2125.042857     1.007143  ...        3.864286  0.585714\n",
              "4.0   2096.023490     1.026846  ...        3.889262  0.500000\n",
              "5.0   2136.562310     1.027356  ...        3.893617  0.492401\n",
              "6.0   2081.170492     1.013115  ...        3.947541  0.491803\n",
              "7.0   2222.311751     1.059952  ...        3.844125  0.450839\n",
              "8.0   2278.511327     1.029126  ...        3.841424  0.488673\n",
              "9.0   2148.353808     1.034398  ...        3.869779  0.501229\n",
              "10.0  2171.967320     1.039216  ...        3.879085  0.480392\n",
              "11.0  2022.230114     1.011364  ...        3.951705  0.465909\n",
              "\n",
              "[12 rows x 19 columns]"
            ]
          },
          "metadata": {
            "tags": []
          },
          "execution_count": 13
        }
      ]
    },
    {
      "cell_type": "markdown",
      "metadata": {
        "id": "gPPVSnMgxHE-"
      },
      "source": [
        "- Songs in C# are on average the most explicit? This is pretty interesting.\n",
        "- The most popular songs have a key of G."
      ]
    },
    {
      "cell_type": "code",
      "metadata": {
        "colab": {
          "base_uri": "https://localhost:8080/"
        },
        "id": "8-FtyLXmyAdz",
        "outputId": "7b19901a-f22e-4d09-b6a7-331bb0ba1846"
      },
      "source": [
        "cmatrix = analysis_data.corr()\n",
        "cmatrix[\"Label\"].sort_values(ascending = False)"
      ],
      "execution_count": 14,
      "outputs": [
        {
          "output_type": "execute_result",
          "data": {
            "text/plain": [
              "Label                  1.000000\n",
              "Popularity             0.188764\n",
              "Mode                   0.048790\n",
              "Loudness               0.024206\n",
              "Tempo                  0.024164\n",
              "Danceability           0.024129\n",
              "Time Signature         0.023851\n",
              "Track Duration (ms)    0.019943\n",
              "Energy                 0.014470\n",
              "Explicit               0.013651\n",
              "Acousticness          -0.008568\n",
              "Key                   -0.012017\n",
              "Valence               -0.013575\n",
              "Disc Number           -0.024896\n",
              "Unnamed: 0            -0.042307\n",
              "Liveness              -0.044454\n",
              "Instrumentalness      -0.076210\n",
              "Speechiness           -0.095719\n",
              "Track Number          -0.136299\n",
              "Added By                    NaN\n",
              "Name: Label, dtype: float64"
            ]
          },
          "metadata": {
            "tags": []
          },
          "execution_count": 14
        }
      ]
    },
    {
      "cell_type": "markdown",
      "metadata": {
        "id": "IVk7OCauykAa"
      },
      "source": [
        "From this correlation reading I'm inclined to believe that Track Number would be rather important in determing which songs I would like, but it's important to rmemeber there may be some bias here because single realeases would have a track number of 1 while tracks that reside within a full album will have a lot more variance."
      ]
    },
    {
      "cell_type": "code",
      "metadata": {
        "colab": {
          "base_uri": "https://localhost:8080/",
          "height": 642
        },
        "id": "mwlcG7P5zyUH",
        "outputId": "dbe3a519-8fd5-439e-9d02-ace69131ff67"
      },
      "source": [
        "pd.crosstab(analysis_data['Track Number'], analysis_data.Label).plot(kind = 'bar', figsize = (20,10))\n",
        "plt.title('Frequency of liked songs by Track Number')\n",
        "plt.xlabel('Track Number')\n",
        "plt.ylabel('Frequency of Occurance')"
      ],
      "execution_count": 15,
      "outputs": [
        {
          "output_type": "execute_result",
          "data": {
            "text/plain": [
              "Text(0, 0.5, 'Frequency of Occurance')"
            ]
          },
          "metadata": {
            "tags": []
          },
          "execution_count": 15
        },
        {
          "output_type": "display_data",
          "data": {
            "image/png": "[encoded data removed]",
            "text/plain": [
              "<Figure size 1440x720 with 1 Axes>"
            ]
          },
          "metadata": {
            "tags": [],
            "needs_background": "light"
          }
        }
      ]
    },
    {
      "cell_type": "markdown",
      "metadata": {
        "id": "yECiJK7G0RhJ"
      },
      "source": [
        "Sure enough we can see this imbalance indicating the presence of the bias I suspected. We will ditch this variable later on in the cleaning phase."
      ]
    },
    {
      "cell_type": "code",
      "metadata": {
        "colab": {
          "base_uri": "https://localhost:8080/",
          "height": 642
        },
        "id": "MyrN-t9n0fbu",
        "outputId": "7922c926-a964-4849-e8bd-4a29966f24fa"
      },
      "source": [
        "pd.crosstab(analysis_data['Popularity'].round(), analysis_data.Label).plot(kind = 'bar', figsize = (20,10))\n",
        "plt.title('Frequency of liked songs by Popularity')\n",
        "plt.xlabel('Popularity')\n",
        "plt.ylabel('Frequency of Occurance')"
      ],
      "execution_count": 16,
      "outputs": [
        {
          "output_type": "execute_result",
          "data": {
            "text/plain": [
              "Text(0, 0.5, 'Frequency of Occurance')"
            ]
          },
          "metadata": {
            "tags": []
          },
          "execution_count": 16
        },
        {
          "output_type": "display_data",
          "data": {
            "image/png": "[encoded data removed]",
            "text/plain": [
              "<Figure size 1440x720 with 1 Axes>"
            ]
          },
          "metadata": {
            "tags": [],
            "needs_background": "light"
          }
        }
      ]
    },
    {
      "cell_type": "code",
      "metadata": {
        "colab": {
          "base_uri": "https://localhost:8080/",
          "height": 652
        },
        "id": "efWMmti_4HOE",
        "outputId": "29a3be0e-8938-47ec-dc11-5788eec7f523"
      },
      "source": [
        "pd.crosstab(analysis_data['Key'], analysis_data.Label).plot(kind = 'bar', figsize = (20,10))\n",
        "plt.title('Frequency of liked songs by Key')\n",
        "plt.xlabel('Key')\n",
        "plt.ylabel('Frequency of Occurance')"
      ],
      "execution_count": 17,
      "outputs": [
        {
          "output_type": "execute_result",
          "data": {
            "text/plain": [
              "Text(0, 0.5, 'Frequency of Occurance')"
            ]
          },
          "metadata": {
            "tags": []
          },
          "execution_count": 17
        },
        {
          "output_type": "display_data",
          "data": {
            "image/png": "[encoded data removed]",
            "text/plain": [
              "<Figure size 1440x720 with 1 Axes>"
            ]
          },
          "metadata": {
            "tags": [],
            "needs_background": "light"
          }
        }
      ]
    },
    {
      "cell_type": "markdown",
      "metadata": {
        "id": "ioD1B50g53UO"
      },
      "source": [
        "Nothing incredibly telling with popularity and key. We will keep these variables around. It also appears that there are no major imbalances present (at least in these variables)."
      ]
    },
    {
      "cell_type": "markdown",
      "metadata": {
        "id": "gWIZVk64-eQL"
      },
      "source": [
        "# Data Cleaning"
      ]
    },
    {
      "cell_type": "markdown",
      "metadata": {
        "id": "uy5XhrzjRONh"
      },
      "source": [
        "## Copying Set Over"
      ]
    },
    {
      "cell_type": "code",
      "metadata": {
        "id": "ewYg5v5D-eQM"
      },
      "source": [
        "processing_data = raw_data.copy()\n",
        "\n",
        "# Features we are going to be training on\n",
        "features = ['Explicit', \n",
        "            'Popularity', \n",
        "            'Danceability', \n",
        "            'Energy', \n",
        "            'Key', \n",
        "            'Loudness', \n",
        "            'Mode', \n",
        "            'Speechiness', \n",
        "            'Acousticness', \n",
        "            'Instrumentalness', \n",
        "            'Liveness', \n",
        "            'Valence', \n",
        "            'Tempo', \n",
        "            'Time Signature',\n",
        "            'Label']\n",
        "labels = ['Label']\n",
        "\n",
        "processing_data = processing_data[features]"
      ],
      "execution_count": 18,
      "outputs": []
    },
    {
      "cell_type": "code",
      "metadata": {
        "colab": {
          "base_uri": "https://localhost:8080/"
        },
        "id": "KRPs6zcc-eQN",
        "outputId": "60feb81f-0f98-46de-a9f9-b562bdaa44c4"
      },
      "source": [
        "processing_data.info()"
      ],
      "execution_count": 19,
      "outputs": [
        {
          "output_type": "stream",
          "text": [
            "<class 'pandas.core.frame.DataFrame'>\n",
            "RangeIndex: 4296 entries, 0 to 4295\n",
            "Data columns (total 15 columns):\n",
            " #   Column            Non-Null Count  Dtype  \n",
            "---  ------            --------------  -----  \n",
            " 0   Explicit          4296 non-null   bool   \n",
            " 1   Popularity        4296 non-null   int64  \n",
            " 2   Danceability      4293 non-null   float64\n",
            " 3   Energy            4293 non-null   float64\n",
            " 4   Key               4293 non-null   float64\n",
            " 5   Loudness          4293 non-null   float64\n",
            " 6   Mode              4293 non-null   float64\n",
            " 7   Speechiness       4293 non-null   float64\n",
            " 8   Acousticness      4293 non-null   float64\n",
            " 9   Instrumentalness  4293 non-null   float64\n",
            " 10  Liveness          4293 non-null   float64\n",
            " 11  Valence           4293 non-null   float64\n",
            " 12  Tempo             4293 non-null   float64\n",
            " 13  Time Signature    4293 non-null   float64\n",
            " 14  Label             4296 non-null   bool   \n",
            "dtypes: bool(2), float64(12), int64(1)\n",
            "memory usage: 444.8 KB\n"
          ],
          "name": "stdout"
        }
      ]
    },
    {
      "cell_type": "code",
      "metadata": {
        "colab": {
          "base_uri": "https://localhost:8080/"
        },
        "id": "59IQkoSk-eQO",
        "outputId": "69dfe7d3-e39c-4588-f1fc-93ee6e0c9767"
      },
      "source": [
        "processing_data['Explicit'].value_counts()"
      ],
      "execution_count": 20,
      "outputs": [
        {
          "output_type": "execute_result",
          "data": {
            "text/plain": [
              "False    3567\n",
              "True      729\n",
              "Name: Explicit, dtype: int64"
            ]
          },
          "metadata": {
            "tags": []
          },
          "execution_count": 20
        }
      ]
    },
    {
      "cell_type": "code",
      "metadata": {
        "colab": {
          "base_uri": "https://localhost:8080/"
        },
        "id": "UnNIF2QN-eQP",
        "outputId": "01d890f3-ccc7-4eb3-f474-45513ff29d72"
      },
      "source": [
        "processing_data['Key'].value_counts()"
      ],
      "execution_count": 21,
      "outputs": [
        {
          "output_type": "execute_result",
          "data": {
            "text/plain": [
              "1.0     530\n",
              "0.0     495\n",
              "7.0     417\n",
              "9.0     407\n",
              "2.0     405\n",
              "11.0    352\n",
              "5.0     329\n",
              "8.0     309\n",
              "10.0    306\n",
              "6.0     305\n",
              "4.0     298\n",
              "3.0     140\n",
              "Name: Key, dtype: int64"
            ]
          },
          "metadata": {
            "tags": []
          },
          "execution_count": 21
        }
      ]
    },
    {
      "cell_type": "code",
      "metadata": {
        "colab": {
          "base_uri": "https://localhost:8080/"
        },
        "id": "eCsRnYH3-eQP",
        "outputId": "b9c34ce8-2272-4e02-d3c6-cbe067153c1b"
      },
      "source": [
        "processing_data['Mode'].value_counts()"
      ],
      "execution_count": 22,
      "outputs": [
        {
          "output_type": "execute_result",
          "data": {
            "text/plain": [
              "1.0    2630\n",
              "0.0    1663\n",
              "Name: Mode, dtype: int64"
            ]
          },
          "metadata": {
            "tags": []
          },
          "execution_count": 22
        }
      ]
    },
    {
      "cell_type": "code",
      "metadata": {
        "colab": {
          "base_uri": "https://localhost:8080/"
        },
        "id": "Th2f4Npj-eQQ",
        "outputId": "9a26e3ae-5506-4cda-90f3-e09d8cef9c08"
      },
      "source": [
        "# Checking for imbalance in the Labels (seems pretty good)\n",
        "processing_data['Label'].value_counts(True)"
      ],
      "execution_count": 23,
      "outputs": [
        {
          "output_type": "execute_result",
          "data": {
            "text/plain": [
              "False    0.513035\n",
              "True     0.486965\n",
              "Name: Label, dtype: float64"
            ]
          },
          "metadata": {
            "tags": []
          },
          "execution_count": 23
        }
      ]
    },
    {
      "cell_type": "markdown",
      "metadata": {
        "id": "z5BQ_Q7mLZv3"
      },
      "source": [
        "## Finding and Removing NaN Values"
      ]
    },
    {
      "cell_type": "code",
      "metadata": {
        "colab": {
          "base_uri": "https://localhost:8080/"
        },
        "id": "2dCOOYLL-eQQ",
        "outputId": "0acddfd7-9c4d-44d1-9272-5263d35e58be"
      },
      "source": [
        "for col in processing_data.columns:\n",
        "    print(col, \":\", processing_data[col].isnull().sum())"
      ],
      "execution_count": 24,
      "outputs": [
        {
          "output_type": "stream",
          "text": [
            "Explicit : 0\n",
            "Popularity : 0\n",
            "Danceability : 3\n",
            "Energy : 3\n",
            "Key : 3\n",
            "Loudness : 3\n",
            "Mode : 3\n",
            "Speechiness : 3\n",
            "Acousticness : 3\n",
            "Instrumentalness : 3\n",
            "Liveness : 3\n",
            "Valence : 3\n",
            "Tempo : 3\n",
            "Time Signature : 3\n",
            "Label : 0\n"
          ],
          "name": "stdout"
        }
      ]
    },
    {
      "cell_type": "code",
      "metadata": {
        "colab": {
          "base_uri": "https://localhost:8080/",
          "height": 143
        },
        "id": "bVe8up0S-eQQ",
        "outputId": "bf5ff022-5efe-41e4-833c-5e932ba82269"
      },
      "source": [
        "processing_data[processing_data['Danceability'].isna()]"
      ],
      "execution_count": 25,
      "outputs": [
        {
          "output_type": "execute_result",
          "data": {
            "text/html": [
              "<div>\n",
              "<style scoped>\n",
              "    .dataframe tbody tr th:only-of-type {\n",
              "        vertical-align: middle;\n",
              "    }\n",
              "\n",
              "    .dataframe tbody tr th {\n",
              "        vertical-align: top;\n",
              "    }\n",
              "\n",
              "    .dataframe thead th {\n",
              "        text-align: right;\n",
              "    }\n",
              "</style>\n",
              "<table border=\"1\" class=\"dataframe\">\n",
              "  <thead>\n",
              "    <tr style=\"text-align: right;\">\n",
              "      <th></th>\n",
              "      <th>Explicit</th>\n",
              "      <th>Popularity</th>\n",
              "      <th>Danceability</th>\n",
              "      <th>Energy</th>\n",
              "      <th>Key</th>\n",
              "      <th>Loudness</th>\n",
              "      <th>Mode</th>\n",
              "      <th>Speechiness</th>\n",
              "      <th>Acousticness</th>\n",
              "      <th>Instrumentalness</th>\n",
              "      <th>Liveness</th>\n",
              "      <th>Valence</th>\n",
              "      <th>Tempo</th>\n",
              "      <th>Time Signature</th>\n",
              "      <th>Label</th>\n",
              "    </tr>\n",
              "  </thead>\n",
              "  <tbody>\n",
              "    <tr>\n",
              "      <th>491</th>\n",
              "      <td>False</td>\n",
              "      <td>8</td>\n",
              "      <td>NaN</td>\n",
              "      <td>NaN</td>\n",
              "      <td>NaN</td>\n",
              "      <td>NaN</td>\n",
              "      <td>NaN</td>\n",
              "      <td>NaN</td>\n",
              "      <td>NaN</td>\n",
              "      <td>NaN</td>\n",
              "      <td>NaN</td>\n",
              "      <td>NaN</td>\n",
              "      <td>NaN</td>\n",
              "      <td>NaN</td>\n",
              "      <td>True</td>\n",
              "    </tr>\n",
              "    <tr>\n",
              "      <th>703</th>\n",
              "      <td>False</td>\n",
              "      <td>0</td>\n",
              "      <td>NaN</td>\n",
              "      <td>NaN</td>\n",
              "      <td>NaN</td>\n",
              "      <td>NaN</td>\n",
              "      <td>NaN</td>\n",
              "      <td>NaN</td>\n",
              "      <td>NaN</td>\n",
              "      <td>NaN</td>\n",
              "      <td>NaN</td>\n",
              "      <td>NaN</td>\n",
              "      <td>NaN</td>\n",
              "      <td>NaN</td>\n",
              "      <td>False</td>\n",
              "    </tr>\n",
              "    <tr>\n",
              "      <th>2067</th>\n",
              "      <td>False</td>\n",
              "      <td>0</td>\n",
              "      <td>NaN</td>\n",
              "      <td>NaN</td>\n",
              "      <td>NaN</td>\n",
              "      <td>NaN</td>\n",
              "      <td>NaN</td>\n",
              "      <td>NaN</td>\n",
              "      <td>NaN</td>\n",
              "      <td>NaN</td>\n",
              "      <td>NaN</td>\n",
              "      <td>NaN</td>\n",
              "      <td>NaN</td>\n",
              "      <td>NaN</td>\n",
              "      <td>False</td>\n",
              "    </tr>\n",
              "  </tbody>\n",
              "</table>\n",
              "</div>"
            ],
            "text/plain": [
              "      Explicit  Popularity  Danceability  ...  Tempo  Time Signature  Label\n",
              "491      False           8           NaN  ...    NaN             NaN   True\n",
              "703      False           0           NaN  ...    NaN             NaN  False\n",
              "2067     False           0           NaN  ...    NaN             NaN  False\n",
              "\n",
              "[3 rows x 15 columns]"
            ]
          },
          "metadata": {
            "tags": []
          },
          "execution_count": 25
        }
      ]
    },
    {
      "cell_type": "code",
      "metadata": {
        "id": "C6mM9unp-eQR"
      },
      "source": [
        "# Drop rows that contain any null values\n",
        "processing_data.dropna(inplace = True)"
      ],
      "execution_count": 26,
      "outputs": []
    },
    {
      "cell_type": "code",
      "metadata": {
        "colab": {
          "base_uri": "https://localhost:8080/"
        },
        "id": "ZyGxsbVF-eQR",
        "outputId": "f08f4abc-0868-4e86-a7b3-ed49c6941650"
      },
      "source": [
        "# Ensuring all features were fixed\n",
        "for col in processing_data.columns:\n",
        "    print(col, \":\", processing_data[col].isnull().sum())"
      ],
      "execution_count": 27,
      "outputs": [
        {
          "output_type": "stream",
          "text": [
            "Explicit : 0\n",
            "Popularity : 0\n",
            "Danceability : 0\n",
            "Energy : 0\n",
            "Key : 0\n",
            "Loudness : 0\n",
            "Mode : 0\n",
            "Speechiness : 0\n",
            "Acousticness : 0\n",
            "Instrumentalness : 0\n",
            "Liveness : 0\n",
            "Valence : 0\n",
            "Tempo : 0\n",
            "Time Signature : 0\n",
            "Label : 0\n"
          ],
          "name": "stdout"
        }
      ]
    },
    {
      "cell_type": "code",
      "metadata": {
        "id": "uaIw_Nsb-eQR"
      },
      "source": [
        "# Replacing any NaN values with median\n",
        "for col in processing_data.columns:\n",
        "    if processing_data[col].isnull().sum() > 0 == True and processing_data[col].dtypes not in ['bool', 'category'] == True:\n",
        "        processing_data[col] = processing_data[col].fillna(processing_data[col].median())"
      ],
      "execution_count": 28,
      "outputs": []
    },
    {
      "cell_type": "markdown",
      "metadata": {
        "id": "PzF2LZJ9LoWn"
      },
      "source": [
        "## Correlation Checking"
      ]
    },
    {
      "cell_type": "code",
      "metadata": {
        "colab": {
          "base_uri": "https://localhost:8080/",
          "height": 958
        },
        "id": "LePY_h7fy6IV",
        "outputId": "752acd0c-991c-4bad-b6e9-f3aed4112e30"
      },
      "source": [
        "f,ax = plt.subplots(figsize = (15,15))\n",
        "sns.heatmap(processing_data.corr(), annot = True, fmt = '.2g', cmap = 'RdYlGn', ax= ax)\n",
        "sns.set(font_scale = 0.75)\n",
        "plt.xlabel('Features')\n",
        "plt.show()"
      ],
      "execution_count": 29,
      "outputs": [
        {
          "output_type": "display_data",
          "data": {
            "image/png": "[encoded data removed]",
            "text/plain": [
              "<Figure size 1080x1080 with 2 Axes>"
            ]
          },
          "metadata": {
            "tags": [],
            "needs_background": "light"
          }
        }
      ]
    },
    {
      "cell_type": "code",
      "metadata": {
        "id": "vaS3Bh6a-eQS",
        "colab": {
          "base_uri": "https://localhost:8080/"
        },
        "outputId": "ace00d31-5425-4e5e-b26a-b0274a246683"
      },
      "source": [
        "cmatrix = processing_data.corr()\n",
        "cmatrix[\"Label\"].sort_values(ascending = False)"
      ],
      "execution_count": 30,
      "outputs": [
        {
          "output_type": "execute_result",
          "data": {
            "text/plain": [
              "Label               1.000000\n",
              "Popularity          0.188560\n",
              "Mode                0.048790\n",
              "Loudness            0.024206\n",
              "Tempo               0.024164\n",
              "Danceability        0.024129\n",
              "Time Signature      0.023851\n",
              "Energy              0.014470\n",
              "Explicit            0.013560\n",
              "Acousticness       -0.008568\n",
              "Key                -0.012017\n",
              "Valence            -0.013575\n",
              "Liveness           -0.044454\n",
              "Instrumentalness   -0.076210\n",
              "Speechiness        -0.095719\n",
              "Name: Label, dtype: float64"
            ]
          },
          "metadata": {
            "tags": []
          },
          "execution_count": 30
        }
      ]
    },
    {
      "cell_type": "markdown",
      "metadata": {
        "id": "CUPFloU1Lvbx"
      },
      "source": [
        "## Ordinal Encoding"
      ]
    },
    {
      "cell_type": "code",
      "metadata": {
        "id": "9o2FbtqvwL2p"
      },
      "source": [
        "def cutDown(df:pd.DataFrame, columns:list, bins:int):\n",
        "  \"\"\"Banding out the specified features within a data frame and recompiling them ordinally\"\"\"\n",
        "  for col in columns:\n",
        "    # Convert to float if its not a float\n",
        "    if df[col].dtypes.name not in ['float64']:\n",
        "      df[col] = df[col].astype(\"float64\")\n",
        "\n",
        "    # Cutting the column down\n",
        "    df[col] = pd.cut(df[col], bins)\n",
        "\n",
        "    # Pulling unique intervals\n",
        "    intervals = df[col].unique().sort_values(ascending = True)\n",
        "    df[col] = df[col].astype(\"object\")\n",
        "\n",
        "    # Ordinally encoding each interval in the column\n",
        "    for interval in intervals:\n",
        "      try:\n",
        "        for x in range(0,bins):\n",
        "          df[col].replace(intervals[x], int(x), inplace = True)\n",
        "      except Exception as e:\n",
        "        print(col + \" has an empty bin...\")\n",
        "        # raise e\n",
        "\n",
        "  return"
      ],
      "execution_count": 31,
      "outputs": []
    },
    {
      "cell_type": "code",
      "metadata": {
        "id": "zlAxVwDFuATe"
      },
      "source": [
        "# Variables that will be into 4 bins\n",
        "group1 = ['Popularity', 'Danceability', \n",
        "           'Energy','Loudness', \n",
        "           'Speechiness', 'Acousticness', \n",
        "           'Instrumentalness', 'Liveness', \n",
        "           'Valence', 'Tempo', \n",
        "           'Time Signature']"
      ],
      "execution_count": 32,
      "outputs": []
    },
    {
      "cell_type": "code",
      "metadata": {
        "colab": {
          "base_uri": "https://localhost:8080/"
        },
        "id": "jFo-nMxGAjXT",
        "outputId": "686f1ee0-2e4f-4ce0-ea2b-4a4537e0464f"
      },
      "source": [
        "cutDown(processing_data, columns = group1, bins = 4)"
      ],
      "execution_count": 33,
      "outputs": [
        {
          "output_type": "stream",
          "text": [
            "Time Signature has an empty bin...\n",
            "Time Signature has an empty bin...\n",
            "Time Signature has an empty bin...\n"
          ],
          "name": "stdout"
        }
      ]
    },
    {
      "cell_type": "code",
      "metadata": {
        "colab": {
          "base_uri": "https://localhost:8080/"
        },
        "id": "TZMRSs1yxPep",
        "outputId": "69bb8010-93b3-4c43-deaa-41c9a526506f"
      },
      "source": [
        "processing_data['Time Signature'].value_counts()"
      ],
      "execution_count": 34,
      "outputs": [
        {
          "output_type": "execute_result",
          "data": {
            "text/plain": [
              "2    3873\n",
              "1     360\n",
              "0      60\n",
              "Name: Time Signature, dtype: int64"
            ]
          },
          "metadata": {
            "tags": []
          },
          "execution_count": 34
        }
      ]
    },
    {
      "cell_type": "markdown",
      "metadata": {
        "id": "DLO9gZzCxgc1"
      },
      "source": [
        "Great, there is no data loss for the Time Signature feature, now we can move on to key and mode cutting and encoding."
      ]
    },
    {
      "cell_type": "code",
      "metadata": {
        "id": "moydxWLzxoIB"
      },
      "source": [
        "# Key and Mode cut down\n",
        "cutDown(processing_data, columns = ['Key'], bins = 12)\n",
        "cutDown(processing_data, columns = ['Mode'], bins = 2)"
      ],
      "execution_count": 35,
      "outputs": []
    },
    {
      "cell_type": "code",
      "metadata": {
        "id": "lY9dIYAH1SRS"
      },
      "source": [
        "cutDown(processing_data, columns = ['Explicit', 'Label'], bins = 2)"
      ],
      "execution_count": 36,
      "outputs": []
    },
    {
      "cell_type": "code",
      "metadata": {
        "colab": {
          "base_uri": "https://localhost:8080/"
        },
        "id": "JN1XMHApPXXA",
        "outputId": "a181d229-c411-419d-c958-9ea2df29fb64"
      },
      "source": [
        "processing_data.info()"
      ],
      "execution_count": 37,
      "outputs": [
        {
          "output_type": "stream",
          "text": [
            "<class 'pandas.core.frame.DataFrame'>\n",
            "Int64Index: 4293 entries, 0 to 4295\n",
            "Data columns (total 15 columns):\n",
            " #   Column            Non-Null Count  Dtype\n",
            "---  ------            --------------  -----\n",
            " 0   Explicit          4293 non-null   int64\n",
            " 1   Popularity        4293 non-null   int64\n",
            " 2   Danceability      4293 non-null   int64\n",
            " 3   Energy            4293 non-null   int64\n",
            " 4   Key               4293 non-null   int64\n",
            " 5   Loudness          4293 non-null   int64\n",
            " 6   Mode              4293 non-null   int64\n",
            " 7   Speechiness       4293 non-null   int64\n",
            " 8   Acousticness      4293 non-null   int64\n",
            " 9   Instrumentalness  4293 non-null   int64\n",
            " 10  Liveness          4293 non-null   int64\n",
            " 11  Valence           4293 non-null   int64\n",
            " 12  Tempo             4293 non-null   int64\n",
            " 13  Time Signature    4293 non-null   int64\n",
            " 14  Label             4293 non-null   int64\n",
            "dtypes: int64(15)\n",
            "memory usage: 536.6 KB\n"
          ],
          "name": "stdout"
        }
      ]
    },
    {
      "cell_type": "code",
      "metadata": {
        "colab": {
          "base_uri": "https://localhost:8080/",
          "height": 206
        },
        "id": "XbicNnF0TZqb",
        "outputId": "0164df14-3828-499f-da69-c72673c5aab3"
      },
      "source": [
        "processing_data.head(5)"
      ],
      "execution_count": 38,
      "outputs": [
        {
          "output_type": "execute_result",
          "data": {
            "text/html": [
              "<div>\n",
              "<style scoped>\n",
              "    .dataframe tbody tr th:only-of-type {\n",
              "        vertical-align: middle;\n",
              "    }\n",
              "\n",
              "    .dataframe tbody tr th {\n",
              "        vertical-align: top;\n",
              "    }\n",
              "\n",
              "    .dataframe thead th {\n",
              "        text-align: right;\n",
              "    }\n",
              "</style>\n",
              "<table border=\"1\" class=\"dataframe\">\n",
              "  <thead>\n",
              "    <tr style=\"text-align: right;\">\n",
              "      <th></th>\n",
              "      <th>Explicit</th>\n",
              "      <th>Popularity</th>\n",
              "      <th>Danceability</th>\n",
              "      <th>Energy</th>\n",
              "      <th>Key</th>\n",
              "      <th>Loudness</th>\n",
              "      <th>Mode</th>\n",
              "      <th>Speechiness</th>\n",
              "      <th>Acousticness</th>\n",
              "      <th>Instrumentalness</th>\n",
              "      <th>Liveness</th>\n",
              "      <th>Valence</th>\n",
              "      <th>Tempo</th>\n",
              "      <th>Time Signature</th>\n",
              "      <th>Label</th>\n",
              "    </tr>\n",
              "  </thead>\n",
              "  <tbody>\n",
              "    <tr>\n",
              "      <th>0</th>\n",
              "      <td>0</td>\n",
              "      <td>1</td>\n",
              "      <td>2</td>\n",
              "      <td>2</td>\n",
              "      <td>2</td>\n",
              "      <td>3</td>\n",
              "      <td>1</td>\n",
              "      <td>0</td>\n",
              "      <td>1</td>\n",
              "      <td>0</td>\n",
              "      <td>1</td>\n",
              "      <td>2</td>\n",
              "      <td>1</td>\n",
              "      <td>2</td>\n",
              "      <td>0</td>\n",
              "    </tr>\n",
              "    <tr>\n",
              "      <th>1</th>\n",
              "      <td>1</td>\n",
              "      <td>2</td>\n",
              "      <td>1</td>\n",
              "      <td>2</td>\n",
              "      <td>5</td>\n",
              "      <td>3</td>\n",
              "      <td>0</td>\n",
              "      <td>2</td>\n",
              "      <td>0</td>\n",
              "      <td>0</td>\n",
              "      <td>1</td>\n",
              "      <td>1</td>\n",
              "      <td>1</td>\n",
              "      <td>2</td>\n",
              "      <td>0</td>\n",
              "    </tr>\n",
              "    <tr>\n",
              "      <th>2</th>\n",
              "      <td>0</td>\n",
              "      <td>2</td>\n",
              "      <td>0</td>\n",
              "      <td>3</td>\n",
              "      <td>4</td>\n",
              "      <td>3</td>\n",
              "      <td>0</td>\n",
              "      <td>0</td>\n",
              "      <td>0</td>\n",
              "      <td>0</td>\n",
              "      <td>0</td>\n",
              "      <td>0</td>\n",
              "      <td>3</td>\n",
              "      <td>1</td>\n",
              "      <td>0</td>\n",
              "    </tr>\n",
              "    <tr>\n",
              "      <th>3</th>\n",
              "      <td>0</td>\n",
              "      <td>2</td>\n",
              "      <td>1</td>\n",
              "      <td>3</td>\n",
              "      <td>8</td>\n",
              "      <td>3</td>\n",
              "      <td>1</td>\n",
              "      <td>0</td>\n",
              "      <td>0</td>\n",
              "      <td>0</td>\n",
              "      <td>0</td>\n",
              "      <td>2</td>\n",
              "      <td>3</td>\n",
              "      <td>2</td>\n",
              "      <td>1</td>\n",
              "    </tr>\n",
              "    <tr>\n",
              "      <th>4</th>\n",
              "      <td>0</td>\n",
              "      <td>1</td>\n",
              "      <td>2</td>\n",
              "      <td>3</td>\n",
              "      <td>11</td>\n",
              "      <td>3</td>\n",
              "      <td>0</td>\n",
              "      <td>0</td>\n",
              "      <td>0</td>\n",
              "      <td>0</td>\n",
              "      <td>1</td>\n",
              "      <td>3</td>\n",
              "      <td>1</td>\n",
              "      <td>2</td>\n",
              "      <td>0</td>\n",
              "    </tr>\n",
              "  </tbody>\n",
              "</table>\n",
              "</div>"
            ],
            "text/plain": [
              "   Explicit  Popularity  Danceability  ...  Tempo  Time Signature  Label\n",
              "0         0           1             2  ...      1               2      0\n",
              "1         1           2             1  ...      1               2      0\n",
              "2         0           2             0  ...      3               1      0\n",
              "3         0           2             1  ...      3               2      1\n",
              "4         0           1             2  ...      1               2      0\n",
              "\n",
              "[5 rows x 15 columns]"
            ]
          },
          "metadata": {
            "tags": []
          },
          "execution_count": 38
        }
      ]
    },
    {
      "cell_type": "markdown",
      "metadata": {
        "id": "jt6EYdMuZ_Rq"
      },
      "source": [
        "# Data Set Splitting"
      ]
    },
    {
      "cell_type": "code",
      "metadata": {
        "id": "_qsk7uKV-eQV"
      },
      "source": [
        "from sklearn.model_selection import train_test_split\n",
        "\n",
        "ds_features = processing_data[features[:-1]]\n",
        "ds_labels = processing_data['Label']\n",
        "\n",
        "train_X, validation_X, train_Y, validation_Y  = train_test_split(ds_features, \n",
        "                                                                 ds_labels,\n",
        "                                                                 test_size = 0.20)"
      ],
      "execution_count": 39,
      "outputs": []
    },
    {
      "cell_type": "code",
      "metadata": {
        "colab": {
          "base_uri": "https://localhost:8080/"
        },
        "id": "EXshaf-B7-SO",
        "outputId": "af8bb9c1-6e20-4672-b570-db0c25657fe6"
      },
      "source": [
        "from imblearn.over_sampling import SMOTE\n",
        "\n",
        "samp = SMOTE(random_state = 0)\n",
        "\n",
        "columns = train_X.columns\n",
        "\n",
        "os_data_X, os_data_Y = samp.fit_sample(train_X, train_Y)\n",
        "\n",
        "os_data_X = pd.DataFrame(data = os_data_X, columns = columns)\n",
        "os_data_Y = pd.DataFrame(data = os_data_Y, columns = ['Label'])"
      ],
      "execution_count": 40,
      "outputs": [
        {
          "output_type": "stream",
          "text": [
            "/usr/local/lib/python3.7/dist-packages/sklearn/externals/six.py:31: FutureWarning: The module is deprecated in version 0.21 and will be removed in version 0.23 since we've dropped support for Python 2.7. Please rely on the official version of six (https://pypi.org/project/six/).\n",
            "  \"(https://pypi.org/project/six/).\", FutureWarning)\n",
            "/usr/local/lib/python3.7/dist-packages/sklearn/utils/deprecation.py:144: FutureWarning: The sklearn.neighbors.base module is  deprecated in version 0.22 and will be removed in version 0.24. The corresponding classes / functions should instead be imported from sklearn.neighbors. Anything that cannot be imported from sklearn.neighbors is now part of the private API.\n",
            "  warnings.warn(message, FutureWarning)\n",
            "/usr/local/lib/python3.7/dist-packages/sklearn/utils/deprecation.py:87: FutureWarning: Function safe_indexing is deprecated; safe_indexing is deprecated in version 0.22 and will be removed in version 0.24.\n",
            "  warnings.warn(msg, category=FutureWarning)\n"
          ],
          "name": "stderr"
        }
      ]
    },
    {
      "cell_type": "markdown",
      "metadata": {
        "id": "B9fQZLQ5DNz7"
      },
      "source": [
        "# Logistic Regression Approach"
      ]
    },
    {
      "cell_type": "markdown",
      "metadata": {
        "id": "zxYUtMAfmz41"
      },
      "source": [
        "## Prep"
      ]
    },
    {
      "cell_type": "code",
      "metadata": {
        "id": "jOiTHeNfNq3V"
      },
      "source": [
        "# Converting Trues and Falses into 0 or 1\n",
        "processing_data['Label'] = processing_data['Label'].astype('float64')"
      ],
      "execution_count": 41,
      "outputs": []
    },
    {
      "cell_type": "markdown",
      "metadata": {
        "id": "Nlb4ENFgm2W8"
      },
      "source": [
        "## Recursive Feature Elimination"
      ]
    },
    {
      "cell_type": "code",
      "metadata": {
        "colab": {
          "base_uri": "https://localhost:8080/"
        },
        "id": "tlhv4yLPCcVr",
        "outputId": "702905ca-6a4b-4f1b-852e-ed4014675126"
      },
      "source": [
        "from sklearn.feature_selection import RFE\n",
        "from sklearn.linear_model import LogisticRegression\n",
        "\n",
        "l_reg = LogisticRegression()\n",
        "\n",
        "selection = RFE(l_reg, 50)\n",
        "selection = selection.fit(os_data_X, os_data_Y.values.ravel())\n",
        "print(selection.support_)\n",
        "print(selection.ranking_)"
      ],
      "execution_count": 42,
      "outputs": [
        {
          "output_type": "stream",
          "text": [
            "[ True  True  True  True  True  True  True  True  True  True  True  True\n",
            "  True  True]\n",
            "[1 1 1 1 1 1 1 1 1 1 1 1 1 1]\n"
          ],
          "name": "stdout"
        }
      ]
    },
    {
      "cell_type": "markdown",
      "metadata": {
        "id": "wZP8hMMvm7oi"
      },
      "source": [
        "## Training"
      ]
    },
    {
      "cell_type": "markdown",
      "metadata": {
        "id": "w20o5L7hFqOY"
      },
      "source": [
        "Looks like we will be using all of the variables I trimmed down to, nice."
      ]
    },
    {
      "cell_type": "code",
      "metadata": {
        "colab": {
          "base_uri": "https://localhost:8080/"
        },
        "id": "lnAskoPaU1V-",
        "outputId": "7bf136fb-e400-474f-ed91-43469d7d4e98"
      },
      "source": [
        "l_reg.fit(os_data_X, os_data_Y)"
      ],
      "execution_count": 43,
      "outputs": [
        {
          "output_type": "stream",
          "text": [
            "/usr/local/lib/python3.7/dist-packages/sklearn/utils/validation.py:760: DataConversionWarning: A column-vector y was passed when a 1d array was expected. Please change the shape of y to (n_samples, ), for example using ravel().\n",
            "  y = column_or_1d(y, warn=True)\n"
          ],
          "name": "stderr"
        },
        {
          "output_type": "execute_result",
          "data": {
            "text/plain": [
              "LogisticRegression(C=1.0, class_weight=None, dual=False, fit_intercept=True,\n",
              "                   intercept_scaling=1, l1_ratio=None, max_iter=100,\n",
              "                   multi_class='auto', n_jobs=None, penalty='l2',\n",
              "                   random_state=None, solver='lbfgs', tol=0.0001, verbose=0,\n",
              "                   warm_start=False)"
            ]
          },
          "metadata": {
            "tags": []
          },
          "execution_count": 43
        }
      ]
    },
    {
      "cell_type": "markdown",
      "metadata": {
        "id": "HIrzotF-mviL"
      },
      "source": [
        "## Results"
      ]
    },
    {
      "cell_type": "code",
      "metadata": {
        "colab": {
          "base_uri": "https://localhost:8080/"
        },
        "id": "vx8QMiAaVEH_",
        "outputId": "d25f79f1-7d1c-47d0-93f0-00da1a3e6ad4"
      },
      "source": [
        "l_reg.score(validation_X, validation_Y) * 100"
      ],
      "execution_count": 44,
      "outputs": [
        {
          "output_type": "execute_result",
          "data": {
            "text/plain": [
              "57.15948777648428"
            ]
          },
          "metadata": {
            "tags": []
          },
          "execution_count": 44
        }
      ]
    },
    {
      "cell_type": "code",
      "metadata": {
        "colab": {
          "base_uri": "https://localhost:8080/"
        },
        "id": "Etv0u0UbYa1G",
        "outputId": "e027c1f8-925d-4fce-e787-4e7f5282205e"
      },
      "source": [
        "from sklearn.metrics import accuracy_score, precision_score, recall_score\n",
        "\n",
        "predictions = l_reg.predict(validation_X)\n",
        "\n",
        "print(\"Accuracy:\", round(accuracy_score(validation_Y, predictions), 3))\n",
        "print(\"Precision:\", round(precision_score(validation_Y, predictions), 3))\n",
        "print(\"Recall:\", round(recall_score(validation_Y, predictions), 3))"
      ],
      "execution_count": 45,
      "outputs": [
        {
          "output_type": "stream",
          "text": [
            "Accuracy: 0.572\n",
            "Precision: 0.56\n",
            "Recall: 0.547\n"
          ],
          "name": "stdout"
        }
      ]
    },
    {
      "cell_type": "code",
      "metadata": {
        "colab": {
          "base_uri": "https://localhost:8080/",
          "height": 309
        },
        "id": "eoOzW57umQDU",
        "outputId": "5c8a1eac-3617-4558-acd5-a731a4d45dbc"
      },
      "source": [
        "import seaborn as sns\n",
        "from sklearn.metrics import confusion_matrix\n",
        "\n",
        "conf_mat = confusion_matrix(validation_Y, predictions)\n",
        "labels = [0,1]\n",
        "fig, ax = plt.subplots()\n",
        "ticks = np.arange(len(labels))\n",
        "\n",
        "plt.xticks(ticks, labels)\n",
        "plt.yticks(ticks, labels)\n",
        "sns.heatmap(pd.DataFrame(conf_mat), annot=True, cmap=\"flare\", fmt='g')\n",
        "\n",
        "ax.xaxis.set_label_position(\"top\")\n",
        "plt.title('Logistic Regression Confusion matrix', y=1.1)\n",
        "plt.ylabel('True Label')\n",
        "plt.xlabel('Predicted Label')"
      ],
      "execution_count": 46,
      "outputs": [
        {
          "output_type": "execute_result",
          "data": {
            "text/plain": [
              "Text(0.5, 13.5, 'Predicted Label')"
            ]
          },
          "metadata": {
            "tags": []
          },
          "execution_count": 46
        },
        {
          "output_type": "display_data",
          "data": {
            "image/png": "[encoded data removed]",
            "text/plain": [
              "<Figure size 432x288 with 2 Axes>"
            ]
          },
          "metadata": {
            "tags": []
          }
        }
      ]
    },
    {
      "cell_type": "markdown",
      "metadata": {
        "id": "cPAl5bVgmado"
      },
      "source": [
        "Our results are very sub-optimal because we are seeing a nearly equal distribution of fasle negatives and false positives, this is far from what we want."
      ]
    },
    {
      "cell_type": "markdown",
      "metadata": {
        "id": "96MSO0LY-eQV"
      },
      "source": [
        "# Decision Tree Classification Approach"
      ]
    },
    {
      "cell_type": "markdown",
      "metadata": {
        "id": "jhGnO98onswJ"
      },
      "source": [
        "## Classifier Training"
      ]
    },
    {
      "cell_type": "code",
      "metadata": {
        "colab": {
          "base_uri": "https://localhost:8080/"
        },
        "id": "nc-_D2BA-eQV",
        "outputId": "b8c417a7-af3c-459e-e746-1b88960d8030"
      },
      "source": [
        "from sklearn.tree import DecisionTreeClassifier\n",
        "\n",
        "\n",
        "dt_model = DecisionTreeClassifier(max_depth = 5)\n",
        "dt_model.fit(train_X, train_Y)\n",
        "\n",
        "dt_model.score(validation_X, validation_Y)*100"
      ],
      "execution_count": 47,
      "outputs": [
        {
          "output_type": "execute_result",
          "data": {
            "text/plain": [
              "57.15948777648428"
            ]
          },
          "metadata": {
            "tags": []
          },
          "execution_count": 47
        }
      ]
    },
    {
      "cell_type": "markdown",
      "metadata": {
        "id": "HHarrPlpnvzY"
      },
      "source": [
        "## Classifier Results"
      ]
    },
    {
      "cell_type": "code",
      "metadata": {
        "colab": {
          "base_uri": "https://localhost:8080/"
        },
        "id": "Yu7JnRh7ac9n",
        "outputId": "00b16621-977b-4113-e1ca-3b8f94bfbedc"
      },
      "source": [
        "predictions = dt_model.predict(validation_X)\n",
        "\n",
        "print(\"Accuracy:\", round(accuracy_score(validation_Y, predictions), 3))\n",
        "print(\"Precision:\", round(precision_score(validation_Y, predictions), 3))\n",
        "print(\"Recall:\", round(recall_score(validation_Y, predictions), 3))"
      ],
      "execution_count": 48,
      "outputs": [
        {
          "output_type": "stream",
          "text": [
            "Accuracy: 0.572\n",
            "Precision: 0.565\n",
            "Recall: 0.513\n"
          ],
          "name": "stdout"
        }
      ]
    },
    {
      "cell_type": "code",
      "metadata": {
        "colab": {
          "base_uri": "https://localhost:8080/",
          "height": 309
        },
        "id": "7Uj1YQbIkOAZ",
        "outputId": "929e0945-ce4c-4eab-c78f-4baa4442eeeb"
      },
      "source": [
        "conf_mat = confusion_matrix(validation_Y, predictions)\n",
        "labels = [0,1]\n",
        "fig, ax = plt.subplots()\n",
        "ticks = np.arange(len(labels))\n",
        "\n",
        "plt.xticks(ticks, labels)\n",
        "plt.yticks(ticks, labels)\n",
        "sns.heatmap(pd.DataFrame(conf_mat), annot=True, cmap=\"flare\", fmt='g')\n",
        "\n",
        "ax.xaxis.set_label_position(\"top\")\n",
        "plt.title('Decision Tree Confusion matrix', y=1.1)\n",
        "plt.ylabel('True Label')\n",
        "plt.xlabel('Predicted Label')"
      ],
      "execution_count": 49,
      "outputs": [
        {
          "output_type": "execute_result",
          "data": {
            "text/plain": [
              "Text(0.5, 13.5, 'Predicted Label')"
            ]
          },
          "metadata": {
            "tags": []
          },
          "execution_count": 49
        },
        {
          "output_type": "display_data",
          "data": {
            "image/png": "[encoded data removed]",
            "text/plain": [
              "<Figure size 432x288 with 2 Axes>"
            ]
          },
          "metadata": {
            "tags": []
          }
        }
      ]
    },
    {
      "cell_type": "markdown",
      "metadata": {
        "id": "rlWDkdTUoOF9"
      },
      "source": [
        "# Random Forest Approach"
      ]
    },
    {
      "cell_type": "markdown",
      "metadata": {
        "id": "6NColvPeoAyJ"
      },
      "source": [
        "## Random Forest Classifier Training"
      ]
    },
    {
      "cell_type": "code",
      "metadata": {
        "colab": {
          "base_uri": "https://localhost:8080/"
        },
        "id": "4P2wGFj_-eQV",
        "outputId": "83d95366-ac8a-4968-8b45-37f143649303"
      },
      "source": [
        "from sklearn.ensemble import RandomForestClassifier\n",
        "\n",
        "rf_model = RandomForestClassifier(criterion = 'entropy', max_depth = 5, n_estimators = 100)\n",
        "rf_model.fit(train_X, train_Y)\n",
        "\n",
        "rf_model.score(validation_X, validation_Y) * 100"
      ],
      "execution_count": 50,
      "outputs": [
        {
          "output_type": "execute_result",
          "data": {
            "text/plain": [
              "57.275902211874275"
            ]
          },
          "metadata": {
            "tags": []
          },
          "execution_count": 50
        }
      ]
    },
    {
      "cell_type": "markdown",
      "metadata": {
        "id": "IpuoyjBmoIJ7"
      },
      "source": [
        "## Random Forest Classifier Results"
      ]
    },
    {
      "cell_type": "code",
      "metadata": {
        "colab": {
          "base_uri": "https://localhost:8080/"
        },
        "id": "IiIvZxzFah2h",
        "outputId": "baadd228-6527-47e9-af8a-40b0c6d55b30"
      },
      "source": [
        "predictions = rf_model.predict(validation_X)\n",
        "\n",
        "print(\"Accuracy:\", round(accuracy_score(validation_Y, predictions), 3))\n",
        "print(\"Precision:\", round(precision_score(validation_Y, predictions), 3))\n",
        "print(\"Recall:\", round(recall_score(validation_Y, predictions), 3))"
      ],
      "execution_count": 51,
      "outputs": [
        {
          "output_type": "stream",
          "text": [
            "Accuracy: 0.573\n",
            "Precision: 0.587\n",
            "Recall: 0.405\n"
          ],
          "name": "stdout"
        }
      ]
    },
    {
      "cell_type": "code",
      "metadata": {
        "colab": {
          "base_uri": "https://localhost:8080/",
          "height": 309
        },
        "id": "0lChg2TilZKq",
        "outputId": "35e1fb89-a787-4d9f-cf33-7140e46cbf06"
      },
      "source": [
        "conf_mat = confusion_matrix(validation_Y, predictions)\n",
        "labels = [0,1]\n",
        "fig, ax = plt.subplots()\n",
        "ticks = np.arange(len(labels))\n",
        "\n",
        "plt.xticks(ticks, labels)\n",
        "plt.yticks(ticks, labels)\n",
        "sns.heatmap(pd.DataFrame(conf_mat), annot=True, cmap=\"flare\", fmt='g')\n",
        "\n",
        "ax.xaxis.set_label_position(\"top\")\n",
        "plt.title('Random Forest Decision Tree Confusion matrix', y=1.1)\n",
        "plt.ylabel('True Label')\n",
        "plt.xlabel('Predicted Label')"
      ],
      "execution_count": 52,
      "outputs": [
        {
          "output_type": "execute_result",
          "data": {
            "text/plain": [
              "Text(0.5, 13.5, 'Predicted Label')"
            ]
          },
          "metadata": {
            "tags": []
          },
          "execution_count": 52
        },
        {
          "output_type": "display_data",
          "data": {
            "image/png": "[encoded data removed]",
            "text/plain": [
              "<Figure size 432x288 with 2 Axes>"
            ]
          },
          "metadata": {
            "tags": []
          }
        }
      ]
    },
    {
      "cell_type": "markdown",
      "metadata": {
        "id": "vJeJHqDF-eQW"
      },
      "source": [
        "# Neural Network Data Prep\n",
        "In order to this we must tranform the labels into their 0 and 1 counterparts to fit the Binary classification specifications."
      ]
    },
    {
      "cell_type": "code",
      "metadata": {
        "id": "zaw1FCAU-eQX"
      },
      "source": [
        "# Copy of the training sets and conversion \n",
        "nn_train_X = train_X.copy()\n",
        "nn_validation_X = validation_X.copy()\n",
        "\n",
        "nn_train_Y = train_Y.copy()\n",
        "# nn_train_Y[nn_train_Y[:] == True] = 1.0\n",
        "\n",
        "nn_validation_Y = validation_Y.copy()\n",
        "# nn_validation_Y[nn_validation_Y[:] == True] = 1.0"
      ],
      "execution_count": 74,
      "outputs": []
    },
    {
      "cell_type": "code",
      "metadata": {
        "id": "fyhG84w_-eQX"
      },
      "source": [
        "# Ordinal encoding for categorical variables\n",
        "for col in nn_train_X.columns:\n",
        "    if nn_train_X[col].dtypes.name == 'category' or nn_train_X[col].dtypes.name == 'int64':\n",
        "        nn_train_X[col] = nn_train_X[col].astype(\"float64\")\n",
        "\n",
        "for col in nn_validation_X.columns:\n",
        "    if nn_validation_X[col].dtypes.name == 'category' or nn_validation_X[col].dtypes.name == 'int64':\n",
        "        nn_validation_X[col] = nn_validation_X[col].astype(\"float64\")"
      ],
      "execution_count": 75,
      "outputs": []
    },
    {
      "cell_type": "code",
      "metadata": {
        "colab": {
          "base_uri": "https://localhost:8080/"
        },
        "id": "xKgRGV3O-eQX",
        "outputId": "3b418ade-9eb3-492c-d6f4-2ce41a57cc81"
      },
      "source": [
        "nn_validation_X.info()"
      ],
      "execution_count": 76,
      "outputs": [
        {
          "output_type": "stream",
          "text": [
            "<class 'pandas.core.frame.DataFrame'>\n",
            "Int64Index: 859 entries, 3793 to 2626\n",
            "Data columns (total 14 columns):\n",
            " #   Column            Non-Null Count  Dtype  \n",
            "---  ------            --------------  -----  \n",
            " 0   Explicit          859 non-null    float64\n",
            " 1   Popularity        859 non-null    float64\n",
            " 2   Danceability      859 non-null    float64\n",
            " 3   Energy            859 non-null    float64\n",
            " 4   Key               859 non-null    float64\n",
            " 5   Loudness          859 non-null    float64\n",
            " 6   Mode              859 non-null    float64\n",
            " 7   Speechiness       859 non-null    float64\n",
            " 8   Acousticness      859 non-null    float64\n",
            " 9   Instrumentalness  859 non-null    float64\n",
            " 10  Liveness          859 non-null    float64\n",
            " 11  Valence           859 non-null    float64\n",
            " 12  Tempo             859 non-null    float64\n",
            " 13  Time Signature    859 non-null    float64\n",
            "dtypes: float64(14)\n",
            "memory usage: 100.7 KB\n"
          ],
          "name": "stdout"
        }
      ]
    },
    {
      "cell_type": "code",
      "metadata": {
        "colab": {
          "base_uri": "https://localhost:8080/"
        },
        "id": "bQWMWo_Z-eQY",
        "outputId": "b439c723-5a43-49ea-80ef-6bb91744de37"
      },
      "source": [
        "nn_validation_X.info()"
      ],
      "execution_count": 77,
      "outputs": [
        {
          "output_type": "stream",
          "text": [
            "<class 'pandas.core.frame.DataFrame'>\n",
            "Int64Index: 859 entries, 3793 to 2626\n",
            "Data columns (total 14 columns):\n",
            " #   Column            Non-Null Count  Dtype  \n",
            "---  ------            --------------  -----  \n",
            " 0   Explicit          859 non-null    float64\n",
            " 1   Popularity        859 non-null    float64\n",
            " 2   Danceability      859 non-null    float64\n",
            " 3   Energy            859 non-null    float64\n",
            " 4   Key               859 non-null    float64\n",
            " 5   Loudness          859 non-null    float64\n",
            " 6   Mode              859 non-null    float64\n",
            " 7   Speechiness       859 non-null    float64\n",
            " 8   Acousticness      859 non-null    float64\n",
            " 9   Instrumentalness  859 non-null    float64\n",
            " 10  Liveness          859 non-null    float64\n",
            " 11  Valence           859 non-null    float64\n",
            " 12  Tempo             859 non-null    float64\n",
            " 13  Time Signature    859 non-null    float64\n",
            "dtypes: float64(14)\n",
            "memory usage: 100.7 KB\n"
          ],
          "name": "stdout"
        }
      ]
    },
    {
      "cell_type": "code",
      "metadata": {
        "id": "0CQeyJ6h-eQY"
      },
      "source": [
        "# Normalizing Training Data\n",
        "nn_train_X -= nn_train_X.mean(axis = 0)\n",
        "nn_train_X /= nn_train_X.std(axis = 0)"
      ],
      "execution_count": 78,
      "outputs": []
    },
    {
      "cell_type": "code",
      "metadata": {
        "id": "pV4vGanh-eQY"
      },
      "source": [
        "# Normalizing Validation Data\n",
        "nn_validation_X -= nn_validation_X.mean(axis = 0)\n",
        "nn_validation_X /= nn_validation_X.std(axis = 0)"
      ],
      "execution_count": 79,
      "outputs": []
    },
    {
      "cell_type": "markdown",
      "metadata": {
        "id": "zhJb6Yf3EWuw"
      },
      "source": [
        "# Binary Classification Neural Network Approach"
      ]
    },
    {
      "cell_type": "markdown",
      "metadata": {
        "id": "jrgYY-KKo2nD"
      },
      "source": [
        "## BCNN Definition"
      ]
    },
    {
      "cell_type": "code",
      "metadata": {
        "colab": {
          "base_uri": "https://localhost:8080/"
        },
        "id": "pWOxgpZt-eQY",
        "outputId": "0ed0168f-639a-40ec-af4a-ea5b730de070"
      },
      "source": [
        "from tensorflow.keras.layers import Dense\n",
        "from tensorflow.keras.models import Sequential\n",
        "\n",
        "nn_model = Sequential()\n",
        "nn_model.add(Dense(8, input_dim = len(ds_features.columns), activation = 'relu'))\n",
        "nn_model.add(Dense(4, activation = 'relu'))\n",
        "nn_model.add(Dense(2, activation = 'relu'))\n",
        "nn_model.add(Dense(1, activation = 'tanh'))\n",
        "\n",
        "nn_model.summary()"
      ],
      "execution_count": 80,
      "outputs": [
        {
          "output_type": "stream",
          "text": [
            "Model: \"sequential_2\"\n",
            "_________________________________________________________________\n",
            "Layer (type)                 Output Shape              Param #   \n",
            "=================================================================\n",
            "dense_8 (Dense)              (None, 8)                 120       \n",
            "_________________________________________________________________\n",
            "dense_9 (Dense)              (None, 4)                 36        \n",
            "_________________________________________________________________\n",
            "dense_10 (Dense)             (None, 2)                 10        \n",
            "_________________________________________________________________\n",
            "dense_11 (Dense)             (None, 1)                 3         \n",
            "=================================================================\n",
            "Total params: 169\n",
            "Trainable params: 169\n",
            "Non-trainable params: 0\n",
            "_________________________________________________________________\n"
          ],
          "name": "stdout"
        }
      ]
    },
    {
      "cell_type": "markdown",
      "metadata": {
        "id": "mXuYRSV0o6oo"
      },
      "source": [
        "## BCNN Training"
      ]
    },
    {
      "cell_type": "code",
      "metadata": {
        "colab": {
          "base_uri": "https://localhost:8080/"
        },
        "id": "KN2D91CYAnGr",
        "outputId": "2ad59b55-ae43-4151-f9a1-b525ba004439"
      },
      "source": [
        "# Checking devices available\n",
        "tf.config.list_physical_devices()"
      ],
      "execution_count": 81,
      "outputs": [
        {
          "output_type": "execute_result",
          "data": {
            "text/plain": [
              "[PhysicalDevice(name='/physical_device:CPU:0', device_type='CPU'),\n",
              " PhysicalDevice(name='/physical_device:GPU:0', device_type='GPU')]"
            ]
          },
          "metadata": {
            "tags": []
          },
          "execution_count": 81
        }
      ]
    },
    {
      "cell_type": "code",
      "metadata": {
        "colab": {
          "base_uri": "https://localhost:8080/"
        },
        "id": "DgWT_5g2-eQZ",
        "tags": [
          "outputPrepend"
        ],
        "outputId": "b8d39fd0-2ac7-41f7-9e6b-253a84e0f3ee"
      },
      "source": [
        "# Training model\n",
        "with tf.device('/GPU:0'):\n",
        "    nn_model.compile(loss = 'binary_crossentropy', optimizer = 'adam', metrics = ['accuracy'])\n",
        "    nn_model.fit(nn_train_X, nn_train_Y, epochs = 100, verbose = True, validation_data = (nn_validation_X, nn_validation_Y))"
      ],
      "execution_count": 82,
      "outputs": [
        {
          "output_type": "stream",
          "text": [
            "Epoch 1/100\n",
            "108/108 [==============================] - 1s 3ms/step - loss: 1.0396 - accuracy: 0.5006 - val_loss: 0.8512 - val_accuracy: 0.5041\n",
            "Epoch 2/100\n",
            "108/108 [==============================] - 0s 2ms/step - loss: 0.8227 - accuracy: 0.4869 - val_loss: 0.7842 - val_accuracy: 0.5087\n",
            "Epoch 3/100\n",
            "108/108 [==============================] - 0s 2ms/step - loss: 0.7732 - accuracy: 0.4985 - val_loss: 0.7570 - val_accuracy: 0.5064\n",
            "Epoch 4/100\n",
            "108/108 [==============================] - 0s 2ms/step - loss: 0.7462 - accuracy: 0.5064 - val_loss: 0.7385 - val_accuracy: 0.5204\n",
            "Epoch 5/100\n",
            "108/108 [==============================] - 0s 2ms/step - loss: 0.7281 - accuracy: 0.5181 - val_loss: 0.7278 - val_accuracy: 0.5274\n",
            "Epoch 6/100\n",
            "108/108 [==============================] - 0s 2ms/step - loss: 0.7146 - accuracy: 0.5303 - val_loss: 0.7186 - val_accuracy: 0.5274\n",
            "Epoch 7/100\n",
            "108/108 [==============================] - 0s 2ms/step - loss: 0.7047 - accuracy: 0.5390 - val_loss: 0.7117 - val_accuracy: 0.5332\n",
            "Epoch 8/100\n",
            "108/108 [==============================] - 0s 2ms/step - loss: 0.6969 - accuracy: 0.5495 - val_loss: 0.7063 - val_accuracy: 0.5239\n",
            "Epoch 9/100\n",
            "108/108 [==============================] - 0s 2ms/step - loss: 0.6911 - accuracy: 0.5597 - val_loss: 0.7026 - val_accuracy: 0.5169\n",
            "Epoch 10/100\n",
            "108/108 [==============================] - 0s 2ms/step - loss: 0.6865 - accuracy: 0.5661 - val_loss: 0.6990 - val_accuracy: 0.5262\n",
            "Epoch 11/100\n",
            "108/108 [==============================] - 0s 2ms/step - loss: 0.6829 - accuracy: 0.5690 - val_loss: 0.6974 - val_accuracy: 0.5215\n",
            "Epoch 12/100\n",
            "108/108 [==============================] - 0s 2ms/step - loss: 0.6800 - accuracy: 0.5728 - val_loss: 0.6963 - val_accuracy: 0.5250\n",
            "Epoch 13/100\n",
            "108/108 [==============================] - 0s 2ms/step - loss: 0.6774 - accuracy: 0.5804 - val_loss: 0.6955 - val_accuracy: 0.5250\n",
            "Epoch 14/100\n",
            "108/108 [==============================] - 0s 2ms/step - loss: 0.6759 - accuracy: 0.5775 - val_loss: 0.6944 - val_accuracy: 0.5285\n",
            "Epoch 15/100\n",
            "108/108 [==============================] - 0s 2ms/step - loss: 0.6733 - accuracy: 0.5801 - val_loss: 0.6932 - val_accuracy: 0.5343\n",
            "Epoch 16/100\n",
            "108/108 [==============================] - 0s 2ms/step - loss: 0.6716 - accuracy: 0.5836 - val_loss: 0.6929 - val_accuracy: 0.5378\n",
            "Epoch 17/100\n",
            "108/108 [==============================] - 0s 2ms/step - loss: 0.6704 - accuracy: 0.5839 - val_loss: 0.6929 - val_accuracy: 0.5332\n",
            "Epoch 18/100\n",
            "108/108 [==============================] - 0s 2ms/step - loss: 0.6683 - accuracy: 0.5879 - val_loss: 0.6922 - val_accuracy: 0.5378\n",
            "Epoch 19/100\n",
            "108/108 [==============================] - 0s 2ms/step - loss: 0.6671 - accuracy: 0.5862 - val_loss: 0.6918 - val_accuracy: 0.5402\n",
            "Epoch 20/100\n",
            "108/108 [==============================] - 0s 2ms/step - loss: 0.6658 - accuracy: 0.5877 - val_loss: 0.6918 - val_accuracy: 0.5390\n",
            "Epoch 21/100\n",
            "108/108 [==============================] - 0s 2ms/step - loss: 0.6646 - accuracy: 0.5853 - val_loss: 0.6914 - val_accuracy: 0.5471\n",
            "Epoch 22/100\n",
            "108/108 [==============================] - 0s 2ms/step - loss: 0.6635 - accuracy: 0.5900 - val_loss: 0.6918 - val_accuracy: 0.5506\n",
            "Epoch 23/100\n",
            "108/108 [==============================] - 0s 2ms/step - loss: 0.6626 - accuracy: 0.5906 - val_loss: 0.6918 - val_accuracy: 0.5530\n",
            "Epoch 24/100\n",
            "108/108 [==============================] - 0s 2ms/step - loss: 0.6617 - accuracy: 0.5903 - val_loss: 0.6910 - val_accuracy: 0.5448\n",
            "Epoch 25/100\n",
            "108/108 [==============================] - 0s 2ms/step - loss: 0.6611 - accuracy: 0.5967 - val_loss: 0.6909 - val_accuracy: 0.5565\n",
            "Epoch 26/100\n",
            "108/108 [==============================] - 0s 2ms/step - loss: 0.6602 - accuracy: 0.5911 - val_loss: 0.6912 - val_accuracy: 0.5530\n",
            "Epoch 27/100\n",
            "108/108 [==============================] - 0s 2ms/step - loss: 0.6594 - accuracy: 0.5944 - val_loss: 0.6902 - val_accuracy: 0.5634\n",
            "Epoch 28/100\n",
            "108/108 [==============================] - 0s 2ms/step - loss: 0.6586 - accuracy: 0.5976 - val_loss: 0.6902 - val_accuracy: 0.5565\n",
            "Epoch 29/100\n",
            "108/108 [==============================] - 0s 2ms/step - loss: 0.6578 - accuracy: 0.5999 - val_loss: 0.6914 - val_accuracy: 0.5541\n",
            "Epoch 30/100\n",
            "108/108 [==============================] - 0s 2ms/step - loss: 0.6575 - accuracy: 0.5973 - val_loss: 0.6904 - val_accuracy: 0.5530\n",
            "Epoch 31/100\n",
            "108/108 [==============================] - 0s 2ms/step - loss: 0.6564 - accuracy: 0.6013 - val_loss: 0.6927 - val_accuracy: 0.5565\n",
            "Epoch 32/100\n",
            "108/108 [==============================] - 0s 2ms/step - loss: 0.6559 - accuracy: 0.6057 - val_loss: 0.6925 - val_accuracy: 0.5634\n",
            "Epoch 33/100\n",
            "108/108 [==============================] - 0s 2ms/step - loss: 0.6550 - accuracy: 0.6008 - val_loss: 0.6926 - val_accuracy: 0.5471\n",
            "Epoch 34/100\n",
            "108/108 [==============================] - 0s 2ms/step - loss: 0.6554 - accuracy: 0.6080 - val_loss: 0.6916 - val_accuracy: 0.5623\n",
            "Epoch 35/100\n",
            "108/108 [==============================] - 0s 2ms/step - loss: 0.6543 - accuracy: 0.6069 - val_loss: 0.6961 - val_accuracy: 0.5681\n",
            "Epoch 36/100\n",
            "108/108 [==============================] - 0s 2ms/step - loss: 0.6538 - accuracy: 0.6092 - val_loss: 0.6967 - val_accuracy: 0.5646\n",
            "Epoch 37/100\n",
            "108/108 [==============================] - 0s 2ms/step - loss: 0.6532 - accuracy: 0.6022 - val_loss: 0.6962 - val_accuracy: 0.5576\n",
            "Epoch 38/100\n",
            "108/108 [==============================] - 0s 2ms/step - loss: 0.6527 - accuracy: 0.6048 - val_loss: 0.6928 - val_accuracy: 0.5600\n",
            "Epoch 39/100\n",
            "108/108 [==============================] - 0s 2ms/step - loss: 0.6522 - accuracy: 0.6077 - val_loss: 0.6923 - val_accuracy: 0.5576\n",
            "Epoch 40/100\n",
            "108/108 [==============================] - 0s 2ms/step - loss: 0.6514 - accuracy: 0.6075 - val_loss: 0.7235 - val_accuracy: 0.5576\n",
            "Epoch 41/100\n",
            "108/108 [==============================] - 0s 2ms/step - loss: 0.6510 - accuracy: 0.6043 - val_loss: 0.7117 - val_accuracy: 0.5518\n",
            "Epoch 42/100\n",
            "108/108 [==============================] - 0s 2ms/step - loss: 0.6507 - accuracy: 0.6080 - val_loss: 0.7012 - val_accuracy: 0.5553\n",
            "Epoch 43/100\n",
            "108/108 [==============================] - 0s 2ms/step - loss: 0.6503 - accuracy: 0.6098 - val_loss: 0.7233 - val_accuracy: 0.5553\n",
            "Epoch 44/100\n",
            "108/108 [==============================] - 0s 2ms/step - loss: 0.6505 - accuracy: 0.6101 - val_loss: 0.6996 - val_accuracy: 0.5506\n",
            "Epoch 45/100\n",
            "108/108 [==============================] - 0s 2ms/step - loss: 0.6506 - accuracy: 0.6089 - val_loss: 0.6928 - val_accuracy: 0.5530\n",
            "Epoch 46/100\n",
            "108/108 [==============================] - 0s 2ms/step - loss: 0.6501 - accuracy: 0.6127 - val_loss: 0.6964 - val_accuracy: 0.5553\n",
            "Epoch 47/100\n",
            "108/108 [==============================] - 0s 2ms/step - loss: 0.6491 - accuracy: 0.6101 - val_loss: 0.7244 - val_accuracy: 0.5518\n",
            "Epoch 48/100\n",
            "108/108 [==============================] - 0s 2ms/step - loss: 0.6484 - accuracy: 0.6127 - val_loss: 0.7251 - val_accuracy: 0.5518\n",
            "Epoch 49/100\n",
            "108/108 [==============================] - 0s 2ms/step - loss: 0.6480 - accuracy: 0.6176 - val_loss: 0.6966 - val_accuracy: 0.5541\n",
            "Epoch 50/100\n",
            "108/108 [==============================] - 0s 2ms/step - loss: 0.6482 - accuracy: 0.6197 - val_loss: 0.7230 - val_accuracy: 0.5460\n",
            "Epoch 51/100\n",
            "108/108 [==============================] - 0s 2ms/step - loss: 0.6470 - accuracy: 0.6133 - val_loss: 0.7243 - val_accuracy: 0.5483\n",
            "Epoch 52/100\n",
            "108/108 [==============================] - 0s 2ms/step - loss: 0.6466 - accuracy: 0.6168 - val_loss: 0.7098 - val_accuracy: 0.5506\n",
            "Epoch 53/100\n",
            "108/108 [==============================] - 0s 2ms/step - loss: 0.6468 - accuracy: 0.6174 - val_loss: 0.7256 - val_accuracy: 0.5390\n",
            "Epoch 54/100\n",
            "108/108 [==============================] - 0s 2ms/step - loss: 0.6460 - accuracy: 0.6121 - val_loss: 0.7258 - val_accuracy: 0.5425\n",
            "Epoch 55/100\n",
            "108/108 [==============================] - 0s 2ms/step - loss: 0.6462 - accuracy: 0.6153 - val_loss: 0.7236 - val_accuracy: 0.5460\n",
            "Epoch 56/100\n",
            "108/108 [==============================] - 0s 2ms/step - loss: 0.6445 - accuracy: 0.6194 - val_loss: 0.7241 - val_accuracy: 0.5460\n",
            "Epoch 57/100\n",
            "108/108 [==============================] - 0s 2ms/step - loss: 0.6447 - accuracy: 0.6165 - val_loss: 0.7235 - val_accuracy: 0.5553\n",
            "Epoch 58/100\n",
            "108/108 [==============================] - 0s 2ms/step - loss: 0.6447 - accuracy: 0.6185 - val_loss: 0.7243 - val_accuracy: 0.5471\n",
            "Epoch 59/100\n",
            "108/108 [==============================] - 0s 2ms/step - loss: 0.6441 - accuracy: 0.6194 - val_loss: 0.7266 - val_accuracy: 0.5460\n",
            "Epoch 60/100\n",
            "108/108 [==============================] - 0s 2ms/step - loss: 0.6448 - accuracy: 0.6147 - val_loss: 0.7257 - val_accuracy: 0.5495\n",
            "Epoch 61/100\n",
            "108/108 [==============================] - 0s 2ms/step - loss: 0.6436 - accuracy: 0.6194 - val_loss: 0.7262 - val_accuracy: 0.5448\n",
            "Epoch 62/100\n",
            "108/108 [==============================] - 0s 2ms/step - loss: 0.6431 - accuracy: 0.6232 - val_loss: 0.7281 - val_accuracy: 0.5448\n",
            "Epoch 63/100\n",
            "108/108 [==============================] - 0s 2ms/step - loss: 0.6432 - accuracy: 0.6182 - val_loss: 0.7263 - val_accuracy: 0.5471\n",
            "Epoch 64/100\n",
            "108/108 [==============================] - 0s 2ms/step - loss: 0.6426 - accuracy: 0.6179 - val_loss: 0.7242 - val_accuracy: 0.5460\n",
            "Epoch 65/100\n",
            "108/108 [==============================] - 0s 2ms/step - loss: 0.6422 - accuracy: 0.6232 - val_loss: 0.7393 - val_accuracy: 0.5495\n",
            "Epoch 66/100\n",
            "108/108 [==============================] - 0s 3ms/step - loss: 0.6422 - accuracy: 0.6191 - val_loss: 0.7258 - val_accuracy: 0.5495\n",
            "Epoch 67/100\n",
            "108/108 [==============================] - 0s 2ms/step - loss: 0.6425 - accuracy: 0.6191 - val_loss: 0.7407 - val_accuracy: 0.5471\n",
            "Epoch 68/100\n",
            "108/108 [==============================] - 0s 2ms/step - loss: 0.6430 - accuracy: 0.6188 - val_loss: 0.7238 - val_accuracy: 0.5448\n",
            "Epoch 69/100\n",
            "108/108 [==============================] - 0s 2ms/step - loss: 0.6411 - accuracy: 0.6270 - val_loss: 0.7240 - val_accuracy: 0.5460\n",
            "Epoch 70/100\n",
            "108/108 [==============================] - 0s 2ms/step - loss: 0.6408 - accuracy: 0.6211 - val_loss: 0.7261 - val_accuracy: 0.5483\n",
            "Epoch 71/100\n",
            "108/108 [==============================] - 0s 2ms/step - loss: 0.6412 - accuracy: 0.6252 - val_loss: 0.7083 - val_accuracy: 0.5530\n",
            "Epoch 72/100\n",
            "108/108 [==============================] - 0s 2ms/step - loss: 0.6419 - accuracy: 0.6226 - val_loss: 0.7245 - val_accuracy: 0.5553\n",
            "Epoch 73/100\n",
            "108/108 [==============================] - 0s 2ms/step - loss: 0.6407 - accuracy: 0.6325 - val_loss: 0.7239 - val_accuracy: 0.5518\n",
            "Epoch 74/100\n",
            "108/108 [==============================] - 0s 2ms/step - loss: 0.6399 - accuracy: 0.6241 - val_loss: 0.7389 - val_accuracy: 0.5565\n",
            "Epoch 75/100\n",
            "108/108 [==============================] - 0s 2ms/step - loss: 0.6398 - accuracy: 0.6211 - val_loss: 0.7082 - val_accuracy: 0.5634\n",
            "Epoch 76/100\n",
            "108/108 [==============================] - 0s 2ms/step - loss: 0.6398 - accuracy: 0.6226 - val_loss: 0.7442 - val_accuracy: 0.5495\n",
            "Epoch 77/100\n",
            "108/108 [==============================] - 0s 3ms/step - loss: 0.6398 - accuracy: 0.6226 - val_loss: 0.7293 - val_accuracy: 0.5588\n",
            "Epoch 78/100\n",
            "108/108 [==============================] - 0s 2ms/step - loss: 0.6400 - accuracy: 0.6241 - val_loss: 0.7375 - val_accuracy: 0.5518\n",
            "Epoch 79/100\n",
            "108/108 [==============================] - 0s 2ms/step - loss: 0.6390 - accuracy: 0.6287 - val_loss: 0.7384 - val_accuracy: 0.5588\n",
            "Epoch 80/100\n",
            "108/108 [==============================] - 0s 2ms/step - loss: 0.6410 - accuracy: 0.6246 - val_loss: 0.7370 - val_accuracy: 0.5553\n",
            "Epoch 81/100\n",
            "108/108 [==============================] - 0s 2ms/step - loss: 0.6390 - accuracy: 0.6226 - val_loss: 0.7407 - val_accuracy: 0.5565\n",
            "Epoch 82/100\n",
            "108/108 [==============================] - 0s 2ms/step - loss: 0.6395 - accuracy: 0.6203 - val_loss: 0.7372 - val_accuracy: 0.5541\n",
            "Epoch 83/100\n",
            "108/108 [==============================] - 0s 2ms/step - loss: 0.6382 - accuracy: 0.6229 - val_loss: 0.7420 - val_accuracy: 0.5506\n",
            "Epoch 84/100\n",
            "108/108 [==============================] - 0s 2ms/step - loss: 0.6377 - accuracy: 0.6270 - val_loss: 0.7243 - val_accuracy: 0.5588\n",
            "Epoch 85/100\n",
            "108/108 [==============================] - 0s 2ms/step - loss: 0.6379 - accuracy: 0.6252 - val_loss: 0.7384 - val_accuracy: 0.5530\n",
            "Epoch 86/100\n",
            "108/108 [==============================] - 0s 2ms/step - loss: 0.6383 - accuracy: 0.6287 - val_loss: 0.7371 - val_accuracy: 0.5495\n",
            "Epoch 87/100\n",
            "108/108 [==============================] - 0s 2ms/step - loss: 0.6382 - accuracy: 0.6278 - val_loss: 0.7359 - val_accuracy: 0.5506\n",
            "Epoch 88/100\n",
            "108/108 [==============================] - 0s 2ms/step - loss: 0.6373 - accuracy: 0.6281 - val_loss: 0.7402 - val_accuracy: 0.5588\n",
            "Epoch 89/100\n",
            "108/108 [==============================] - 0s 2ms/step - loss: 0.6373 - accuracy: 0.6261 - val_loss: 0.7389 - val_accuracy: 0.5634\n",
            "Epoch 90/100\n",
            "108/108 [==============================] - 0s 2ms/step - loss: 0.6378 - accuracy: 0.6229 - val_loss: 0.7370 - val_accuracy: 0.5541\n",
            "Epoch 91/100\n",
            "108/108 [==============================] - 0s 2ms/step - loss: 0.6383 - accuracy: 0.6255 - val_loss: 0.7059 - val_accuracy: 0.5495\n",
            "Epoch 92/100\n",
            "108/108 [==============================] - 0s 2ms/step - loss: 0.6369 - accuracy: 0.6214 - val_loss: 0.7255 - val_accuracy: 0.5541\n",
            "Epoch 93/100\n",
            "108/108 [==============================] - 0s 2ms/step - loss: 0.6364 - accuracy: 0.6287 - val_loss: 0.7351 - val_accuracy: 0.5518\n",
            "Epoch 94/100\n",
            "108/108 [==============================] - 0s 2ms/step - loss: 0.6379 - accuracy: 0.6270 - val_loss: 0.7069 - val_accuracy: 0.5530\n",
            "Epoch 95/100\n",
            "108/108 [==============================] - 0s 2ms/step - loss: 0.6360 - accuracy: 0.6284 - val_loss: 0.7358 - val_accuracy: 0.5634\n",
            "Epoch 96/100\n",
            "108/108 [==============================] - 0s 2ms/step - loss: 0.6365 - accuracy: 0.6305 - val_loss: 0.7369 - val_accuracy: 0.5600\n",
            "Epoch 97/100\n",
            "108/108 [==============================] - 0s 2ms/step - loss: 0.6353 - accuracy: 0.6255 - val_loss: 0.7444 - val_accuracy: 0.5623\n",
            "Epoch 98/100\n",
            "108/108 [==============================] - 0s 2ms/step - loss: 0.6363 - accuracy: 0.6270 - val_loss: 0.7355 - val_accuracy: 0.5530\n",
            "Epoch 99/100\n",
            "108/108 [==============================] - 0s 2ms/step - loss: 0.6363 - accuracy: 0.6287 - val_loss: 0.7349 - val_accuracy: 0.5611\n",
            "Epoch 100/100\n",
            "108/108 [==============================] - 0s 2ms/step - loss: 0.6352 - accuracy: 0.6261 - val_loss: 0.7360 - val_accuracy: 0.5483\n"
          ],
          "name": "stdout"
        }
      ]
    },
    {
      "cell_type": "markdown",
      "metadata": {
        "id": "OcUSqsZF4ufC"
      },
      "source": [
        "## BCNN Results"
      ]
    },
    {
      "cell_type": "code",
      "metadata": {
        "colab": {
          "base_uri": "https://localhost:8080/"
        },
        "id": "QaptcWWk4ysw",
        "outputId": "3d8074a4-8173-4aab-aeba-b6651e256661"
      },
      "source": [
        "from sklearn.metrics import accuracy_score, precision_score, recall_score, f1_score\n",
        "\n",
        "predictions = nn_model.predict(nn_validation_X).round()\n",
        "\n",
        "print(\"Accuracy:\", round(accuracy_score(nn_validation_Y, predictions), 3))\n",
        "print(\"Precision:\", round(precision_score(nn_validation_Y, predictions), 3))\n",
        "print(\"Recall:\", round(recall_score(nn_validation_Y, predictions), 3))"
      ],
      "execution_count": 83,
      "outputs": [
        {
          "output_type": "stream",
          "text": [
            "Accuracy: 0.548\n",
            "Precision: 0.536\n",
            "Recall: 0.523\n"
          ],
          "name": "stdout"
        }
      ]
    },
    {
      "cell_type": "code",
      "metadata": {
        "colab": {
          "base_uri": "https://localhost:8080/",
          "height": 309
        },
        "id": "tggIqq3P44I9",
        "outputId": "c7b739f3-9239-477d-efeb-fe8aa4f1c8e7"
      },
      "source": [
        "conf_mat = confusion_matrix(nn_validation_Y, predictions)\n",
        "labels = [0,1]\n",
        "fig, ax = plt.subplots()\n",
        "ticks = np.arange(len(labels))\n",
        "\n",
        "plt.xticks(ticks, labels)\n",
        "plt.yticks(ticks, labels)\n",
        "sns.heatmap(pd.DataFrame(conf_mat), annot=True, cmap=\"flare\", fmt='g')\n",
        "\n",
        "ax.xaxis.set_label_position(\"top\")\n",
        "plt.title('BCNN Confusion matrix', y=1.1)\n",
        "plt.ylabel('True Label')\n",
        "plt.xlabel('Predicted Label')"
      ],
      "execution_count": 84,
      "outputs": [
        {
          "output_type": "execute_result",
          "data": {
            "text/plain": [
              "Text(0.5, 13.5, 'Predicted Label')"
            ]
          },
          "metadata": {
            "tags": []
          },
          "execution_count": 84
        },
        {
          "output_type": "display_data",
          "data": {
            "image/png": "[encoded data removed]",
            "text/plain": [
              "<Figure size 432x288 with 2 Axes>"
            ]
          },
          "metadata": {
            "tags": []
          }
        }
      ]
    },
    {
      "cell_type": "markdown",
      "metadata": {
        "id": "6husdth-IEbx"
      },
      "source": [
        "# Convolutional Neural Network Approach (SuperTML)\n",
        "Following concepts from this paper here: https://arxiv.org/abs/1903.06246"
      ]
    },
    {
      "cell_type": "markdown",
      "metadata": {
        "id": "wxqnqWRxpH-p"
      },
      "source": [
        "## Data Prep"
      ]
    },
    {
      "cell_type": "code",
      "metadata": {
        "id": "ZLH3oHR1MTtf"
      },
      "source": [
        "# Copying datasets over to be manipulated\n",
        "cnn_train_X = nn_train_X.copy()\n",
        "cnn_train_Y = nn_train_Y.copy()\n",
        "\n",
        "cnn_valid_X = nn_validation_X.copy()\n",
        "cnn_valid_Y = nn_validation_Y.copy()"
      ],
      "execution_count": 85,
      "outputs": []
    },
    {
      "cell_type": "markdown",
      "metadata": {
        "id": "fVcqYKffpMNX"
      },
      "source": [
        "## Transforming Features Into Images"
      ]
    },
    {
      "cell_type": "code",
      "metadata": {
        "colab": {
          "base_uri": "https://localhost:8080/"
        },
        "id": "YhkyPOXkkpBN",
        "tags": [
          "outputPrepend"
        ],
        "outputId": "3c62aa6d-d9ad-4145-c48b-436d4749f112"
      },
      "source": [
        "!fc-list"
      ],
      "execution_count": 86,
      "outputs": [
        {
          "output_type": "stream",
          "text": [
            "/usr/share/fonts/truetype/liberation/LiberationSansNarrow-Italic.ttf: Liberation Sans Narrow:style=Italic\n",
            "/usr/share/fonts/truetype/liberation/LiberationSans-Regular.ttf: Liberation Sans:style=Regular\n",
            "/usr/share/fonts/truetype/liberation/LiberationMono-BoldItalic.ttf: Liberation Mono:style=Bold Italic\n",
            "/usr/share/fonts/truetype/liberation/LiberationSerif-Italic.ttf: Liberation Serif:style=Italic\n",
            "/usr/share/fonts/truetype/liberation/LiberationMono-Bold.ttf: Liberation Mono:style=Bold\n",
            "/usr/share/fonts/truetype/liberation/LiberationSansNarrow-Regular.ttf: Liberation Sans Narrow:style=Regular\n",
            "/usr/share/fonts/truetype/liberation/LiberationSerif-Bold.ttf: Liberation Serif:style=Bold\n",
            "/usr/share/fonts/truetype/liberation/LiberationMono-Regular.ttf: Liberation Mono:style=Regular\n",
            "/usr/share/fonts/truetype/liberation/LiberationSans-Italic.ttf: Liberation Sans:style=Italic\n",
            "/usr/share/fonts/truetype/liberation/LiberationSerif-BoldItalic.ttf: Liberation Serif:style=Bold Italic\n",
            "/usr/share/fonts/truetype/liberation/LiberationSansNarrow-BoldItalic.ttf: Liberation Sans Narrow:style=Bold Italic\n",
            "/usr/share/fonts/truetype/liberation/LiberationMono-Italic.ttf: Liberation Mono:style=Italic\n",
            "/usr/share/fonts/truetype/liberation/LiberationSans-BoldItalic.ttf: Liberation Sans:style=Bold Italic\n",
            "/usr/share/fonts/truetype/liberation/LiberationSerif-Regular.ttf: Liberation Serif:style=Regular\n",
            "/usr/share/fonts/truetype/liberation/LiberationSansNarrow-Bold.ttf: Liberation Sans Narrow:style=Bold\n",
            "/usr/share/fonts/truetype/liberation/LiberationSans-Bold.ttf: Liberation Sans:style=Bold\n",
            "/usr/share/fonts/truetype/humor-sans/Humor-Sans.ttf: Humor Sans:style=Regular\n"
          ],
          "name": "stdout"
        }
      ]
    },
    {
      "cell_type": "markdown",
      "metadata": {
        "id": "WmKvLxzkSKlH"
      },
      "source": [
        "A large portion of the following conversion algorithm is based on [EmjayAhn's implementation of feature creation.](https://github.com/EmjayAhn/SuperTML-pytorch/blob/c962956fe80112ec9cae9086fca296b52c67718a/data_preparation.py#L28)\n",
        "\n",
        "My algorithm differs in the number of parameters it is converting, its final format (channels last), and that it is taking a Pandas data frame as input."
      ]
    },
    {
      "cell_type": "code",
      "metadata": {
        "id": "HHweDWNwpgFk"
      },
      "source": [
        "# can likely improve this by not constructing a dataset in memory\n",
        "\n",
        "from PIL import Image, ImageDraw, ImageFont\n",
        "import pandas as pd\n",
        "\n",
        "def imageEncode(data):\n",
        "    images = []\n",
        "    font = ImageFont.truetype(\"LiberationMono-Regular.ttf\", size = 25)\n",
        "    location = [(25, 20), (100, 20), (175, 20), \n",
        "                (25, 70), (100, 70), (175, 70), \n",
        "                (25, 120), (100, 120), (175, 120), \n",
        "                (25, 170), (100, 170),(175, 170),\n",
        "                (50, 215), (150, 215)]\n",
        "    \n",
        "\n",
        "    # Going through each row\n",
        "    for row in data.iterrows():\n",
        "        # Generate base image\n",
        "        bg = np.array([[0 for _ in range(255)] for _ in range(255)], dtype = 'uint8')\n",
        "        image = Image.fromarray(bg)\n",
        "        draw = ImageDraw.Draw(image)\n",
        "\n",
        "        # Adding each feature to the image\n",
        "        l = 0\n",
        "        for col in range(0, len(data.columns)):\n",
        "          value = round(row[1][col], 2)\n",
        "#           if value < -0.50:\n",
        "#             draw.text(location[l], str(value), fill = '#333399', font = font)\n",
        "#           elif value > -0.50 and value < 0.0:\n",
        "#             draw.text(location[l], str(value), fill = '#3366cc', font = font)\n",
        "#           elif value == 0.0:\n",
        "#             draw.text(location[l], str(value), fill = 'white', font = font)\n",
        "#           elif value > 0.0 and value < 0.50:\n",
        "#             draw.text(location[l], str(value), fill = '#cc6600', font = font)\n",
        "#           elif value > 0.50:\n",
        "#             draw.text(location[l], str(value), fill = '#cc3300', font = font)\n",
        "          \n",
        "          draw.text(location[l], str(value), fill = 'white', font = font)\n",
        "          l += 1\n",
        "        \n",
        "        rgb = [np.array(image, dtype='uint8') for _ in range(3)]\n",
        "        images.append(rgb)\n",
        "\n",
        "    images = np.array(images) / 255\n",
        "\n",
        "    # move to channels last format\n",
        "    images = np.moveaxis(images, 1, -1)\n",
        "\n",
        "    return images"
      ],
      "execution_count": 87,
      "outputs": []
    },
    {
      "cell_type": "code",
      "metadata": {
        "id": "pG36FrXsTn12"
      },
      "source": [
        "temp_set = imageEncode(cnn_train_X.sample(1))"
      ],
      "execution_count": 88,
      "outputs": []
    },
    {
      "cell_type": "code",
      "metadata": {
        "colab": {
          "base_uri": "https://localhost:8080/",
          "height": 266
        },
        "id": "hcQPl0HqCZLU",
        "outputId": "54015f7e-ef20-4cb4-85d0-e48e9f58501d"
      },
      "source": [
        "plt.figure()\n",
        "plt.xticks([])\n",
        "plt.yticks([])\n",
        "plt.grid(False)\n",
        "plt.imshow(temp_set[0])"
      ],
      "execution_count": 89,
      "outputs": [
        {
          "output_type": "execute_result",
          "data": {
            "text/plain": [
              "<matplotlib.image.AxesImage at 0x7f209ccf7dd0>"
            ]
          },
          "metadata": {
            "tags": []
          },
          "execution_count": 89
        },
        {
          "output_type": "display_data",
          "data": {
            "image/png": "[encoded data removed]",
            "text/plain": [
              "<Figure size 432x288 with 1 Axes>"
            ]
          },
          "metadata": {
            "tags": []
          }
        }
      ]
    },
    {
      "cell_type": "code",
      "metadata": {
        "id": "HjnbElh7CZLV"
      },
      "source": [
        "cnn_train_X = imageEncode(cnn_train_X)\n",
        "cnn_valid_X = imageEncode(cnn_valid_X)"
      ],
      "execution_count": 90,
      "outputs": []
    },
    {
      "cell_type": "code",
      "metadata": {
        "colab": {
          "base_uri": "https://localhost:8080/"
        },
        "id": "lkd-mhm4CZLV",
        "outputId": "fadb93fd-ff1a-4891-a9e6-d0ed94480fb0"
      },
      "source": [
        "print(cnn_train_X.shape)\n",
        "print(cnn_valid_X.shape)"
      ],
      "execution_count": 91,
      "outputs": [
        {
          "output_type": "stream",
          "text": [
            "(3434, 255, 255, 3)\n",
            "(859, 255, 255, 3)\n"
          ],
          "name": "stdout"
        }
      ]
    },
    {
      "cell_type": "markdown",
      "metadata": {
        "id": "tk4dWfiupf1l"
      },
      "source": [
        "## Network Definition"
      ]
    },
    {
      "cell_type": "code",
      "metadata": {
        "colab": {
          "base_uri": "https://localhost:8080/"
        },
        "id": "TDhvy6zxCZLV",
        "outputId": "53781302-a479-4ab8-8fbd-870c478832c9"
      },
      "source": [
        "from tensorflow.keras import datasets, layers, models\n",
        "from tensorflow.keras.models import Sequential\n",
        "from tensorflow.keras.layers import Input, Dropout, Flatten, Conv2D, MaxPooling2D, Dense, Activation\n",
        "    \n",
        "cnn_model = Sequential()\n",
        "cnn_model.add(Conv2D(32, (3, 3), activation='relu', input_shape=(255, 255, 3)))\n",
        "cnn_model.add(MaxPooling2D((2, 2)))\n",
        "cnn_model.add(Conv2D(64, (3, 3), activation='relu'))\n",
        "cnn_model.add(MaxPooling2D((2, 2)))\n",
        "cnn_model.add(Conv2D(64, (3, 3), activation='relu'))\n",
        "\n",
        "cnn_model.add(Flatten())\n",
        "cnn_model.add(Dense(64, activation='relu'))\n",
        "cnn_model.add(Dense(10))\n",
        "cnn_model.add(Dense(1, activation = 'tanh'))\n",
        "\n",
        "cnn_model.summary()"
      ],
      "execution_count": 92,
      "outputs": [
        {
          "output_type": "stream",
          "text": [
            "Model: \"sequential_3\"\n",
            "_________________________________________________________________\n",
            "Layer (type)                 Output Shape              Param #   \n",
            "=================================================================\n",
            "conv2d (Conv2D)              (None, 253, 253, 32)      896       \n",
            "_________________________________________________________________\n",
            "max_pooling2d (MaxPooling2D) (None, 126, 126, 32)      0         \n",
            "_________________________________________________________________\n",
            "conv2d_1 (Conv2D)            (None, 124, 124, 64)      18496     \n",
            "_________________________________________________________________\n",
            "max_pooling2d_1 (MaxPooling2 (None, 62, 62, 64)        0         \n",
            "_________________________________________________________________\n",
            "conv2d_2 (Conv2D)            (None, 60, 60, 64)        36928     \n",
            "_________________________________________________________________\n",
            "flatten (Flatten)            (None, 230400)            0         \n",
            "_________________________________________________________________\n",
            "dense_12 (Dense)             (None, 64)                14745664  \n",
            "_________________________________________________________________\n",
            "dense_13 (Dense)             (None, 10)                650       \n",
            "_________________________________________________________________\n",
            "dense_14 (Dense)             (None, 1)                 11        \n",
            "=================================================================\n",
            "Total params: 14,802,645\n",
            "Trainable params: 14,802,645\n",
            "Non-trainable params: 0\n",
            "_________________________________________________________________\n"
          ],
          "name": "stdout"
        }
      ]
    },
    {
      "cell_type": "markdown",
      "metadata": {
        "id": "EToVAfzzp0RQ"
      },
      "source": [
        "## Network Training"
      ]
    },
    {
      "cell_type": "code",
      "metadata": {
        "id": "6Ddtm6gMCZLW",
        "colab": {
          "base_uri": "https://localhost:8080/"
        },
        "outputId": "f5887ac8-6f63-4e2e-c83c-40883a24c7ab"
      },
      "source": [
        "optimizer = tf.keras.optimizers.Adam(learning_rate = 0.0001)\n",
        "\n",
        "with tf.device('/GPU:0'):\n",
        "    cnn_model.compile(loss = 'binary_crossentropy', optimizer = optimizer, metrics = ['accuracy'])\n",
        "    cnn_model.fit(cnn_train_X, cnn_train_Y, epochs = 100, verbose = True, validation_data = (cnn_valid_X, cnn_valid_Y))"
      ],
      "execution_count": 93,
      "outputs": [
        {
          "output_type": "stream",
          "text": [
            "Epoch 1/100\n",
            "108/108 [==============================] - 19s 43ms/step - loss: 0.8706 - accuracy: 0.5422 - val_loss: 0.6870 - val_accuracy: 0.5320\n",
            "Epoch 2/100\n",
            "108/108 [==============================] - 4s 37ms/step - loss: 0.6792 - accuracy: 0.5731 - val_loss: 0.6798 - val_accuracy: 0.5530\n",
            "Epoch 3/100\n",
            "108/108 [==============================] - 4s 37ms/step - loss: 0.6711 - accuracy: 0.5859 - val_loss: 0.6802 - val_accuracy: 0.5471\n",
            "Epoch 4/100\n",
            "108/108 [==============================] - 4s 37ms/step - loss: 0.6693 - accuracy: 0.5856 - val_loss: 0.6834 - val_accuracy: 0.5646\n",
            "Epoch 5/100\n",
            "108/108 [==============================] - 4s 37ms/step - loss: 0.6699 - accuracy: 0.5955 - val_loss: 0.6825 - val_accuracy: 0.5518\n",
            "Epoch 6/100\n",
            "108/108 [==============================] - 4s 37ms/step - loss: 0.6693 - accuracy: 0.5844 - val_loss: 0.6841 - val_accuracy: 0.5483\n",
            "Epoch 7/100\n",
            "108/108 [==============================] - 4s 37ms/step - loss: 0.6687 - accuracy: 0.5944 - val_loss: 0.6822 - val_accuracy: 0.5634\n",
            "Epoch 8/100\n",
            "108/108 [==============================] - 4s 37ms/step - loss: 0.6649 - accuracy: 0.5941 - val_loss: 0.6932 - val_accuracy: 0.5332\n",
            "Epoch 9/100\n",
            "108/108 [==============================] - 4s 37ms/step - loss: 0.6655 - accuracy: 0.5868 - val_loss: 0.6846 - val_accuracy: 0.5390\n",
            "Epoch 10/100\n",
            "108/108 [==============================] - 4s 37ms/step - loss: 0.6629 - accuracy: 0.5949 - val_loss: 0.6855 - val_accuracy: 0.5588\n",
            "Epoch 11/100\n",
            "108/108 [==============================] - 4s 37ms/step - loss: 0.6627 - accuracy: 0.5952 - val_loss: 0.6817 - val_accuracy: 0.5530\n",
            "Epoch 12/100\n",
            "108/108 [==============================] - 4s 37ms/step - loss: 0.6601 - accuracy: 0.5970 - val_loss: 0.7584 - val_accuracy: 0.5239\n",
            "Epoch 13/100\n",
            "108/108 [==============================] - 4s 37ms/step - loss: 0.6635 - accuracy: 0.5909 - val_loss: 0.6932 - val_accuracy: 0.5413\n",
            "Epoch 14/100\n",
            "108/108 [==============================] - 4s 37ms/step - loss: 0.6624 - accuracy: 0.5929 - val_loss: 0.6987 - val_accuracy: 0.5308\n",
            "Epoch 15/100\n",
            "108/108 [==============================] - 4s 37ms/step - loss: 0.6624 - accuracy: 0.5929 - val_loss: 0.6852 - val_accuracy: 0.5600\n",
            "Epoch 16/100\n",
            "108/108 [==============================] - 4s 37ms/step - loss: 0.6602 - accuracy: 0.6002 - val_loss: 0.6889 - val_accuracy: 0.5378\n",
            "Epoch 17/100\n",
            "108/108 [==============================] - 4s 37ms/step - loss: 0.6576 - accuracy: 0.5981 - val_loss: 0.6865 - val_accuracy: 0.5495\n",
            "Epoch 18/100\n",
            "108/108 [==============================] - 4s 37ms/step - loss: 0.6569 - accuracy: 0.6095 - val_loss: 0.6968 - val_accuracy: 0.5565\n",
            "Epoch 19/100\n",
            "108/108 [==============================] - 4s 37ms/step - loss: 0.6586 - accuracy: 0.5941 - val_loss: 0.6870 - val_accuracy: 0.5506\n",
            "Epoch 20/100\n",
            "108/108 [==============================] - 4s 37ms/step - loss: 0.6573 - accuracy: 0.6077 - val_loss: 0.6924 - val_accuracy: 0.5448\n",
            "Epoch 21/100\n",
            "108/108 [==============================] - 4s 37ms/step - loss: 0.6603 - accuracy: 0.6028 - val_loss: 0.6923 - val_accuracy: 0.5343\n",
            "Epoch 22/100\n",
            "108/108 [==============================] - 4s 37ms/step - loss: 0.6560 - accuracy: 0.6066 - val_loss: 0.7375 - val_accuracy: 0.5320\n",
            "Epoch 23/100\n",
            "108/108 [==============================] - 4s 37ms/step - loss: 0.6580 - accuracy: 0.5993 - val_loss: 0.6858 - val_accuracy: 0.5506\n",
            "Epoch 24/100\n",
            "108/108 [==============================] - 4s 37ms/step - loss: 0.6557 - accuracy: 0.5990 - val_loss: 0.6962 - val_accuracy: 0.5262\n",
            "Epoch 25/100\n",
            "108/108 [==============================] - 4s 37ms/step - loss: 0.6548 - accuracy: 0.6057 - val_loss: 0.6875 - val_accuracy: 0.5483\n",
            "Epoch 26/100\n",
            "108/108 [==============================] - 4s 37ms/step - loss: 0.6543 - accuracy: 0.6034 - val_loss: 0.7197 - val_accuracy: 0.5355\n",
            "Epoch 27/100\n",
            "108/108 [==============================] - 4s 37ms/step - loss: 0.6593 - accuracy: 0.6013 - val_loss: 0.6929 - val_accuracy: 0.5367\n",
            "Epoch 28/100\n",
            "108/108 [==============================] - 4s 37ms/step - loss: 0.6595 - accuracy: 0.5999 - val_loss: 0.6864 - val_accuracy: 0.5460\n",
            "Epoch 29/100\n",
            "108/108 [==============================] - 4s 37ms/step - loss: 0.6544 - accuracy: 0.6037 - val_loss: 0.6871 - val_accuracy: 0.5600\n",
            "Epoch 30/100\n",
            "108/108 [==============================] - 4s 37ms/step - loss: 0.6521 - accuracy: 0.6092 - val_loss: 0.6909 - val_accuracy: 0.5460\n",
            "Epoch 31/100\n",
            "108/108 [==============================] - 4s 37ms/step - loss: 0.6511 - accuracy: 0.6095 - val_loss: 0.6929 - val_accuracy: 0.5320\n",
            "Epoch 32/100\n",
            "108/108 [==============================] - 4s 37ms/step - loss: 0.6522 - accuracy: 0.6080 - val_loss: 0.6872 - val_accuracy: 0.5541\n",
            "Epoch 33/100\n",
            "108/108 [==============================] - 4s 37ms/step - loss: 0.6523 - accuracy: 0.6002 - val_loss: 0.6856 - val_accuracy: 0.5565\n",
            "Epoch 34/100\n",
            "108/108 [==============================] - 4s 37ms/step - loss: 0.6518 - accuracy: 0.6086 - val_loss: 0.6999 - val_accuracy: 0.5274\n",
            "Epoch 35/100\n",
            "108/108 [==============================] - 4s 37ms/step - loss: 0.6498 - accuracy: 0.6098 - val_loss: 0.6921 - val_accuracy: 0.5448\n",
            "Epoch 36/100\n",
            "108/108 [==============================] - 4s 37ms/step - loss: 0.6511 - accuracy: 0.6057 - val_loss: 0.6904 - val_accuracy: 0.5611\n",
            "Epoch 37/100\n",
            "108/108 [==============================] - 4s 37ms/step - loss: 0.6487 - accuracy: 0.6130 - val_loss: 0.6973 - val_accuracy: 0.5332\n",
            "Epoch 38/100\n",
            "108/108 [==============================] - 4s 37ms/step - loss: 0.6507 - accuracy: 0.6121 - val_loss: 0.6958 - val_accuracy: 0.5250\n",
            "Epoch 39/100\n",
            "108/108 [==============================] - 4s 37ms/step - loss: 0.6562 - accuracy: 0.6005 - val_loss: 0.6921 - val_accuracy: 0.5390\n",
            "Epoch 40/100\n",
            "108/108 [==============================] - 4s 37ms/step - loss: 0.6510 - accuracy: 0.6048 - val_loss: 0.7216 - val_accuracy: 0.5297\n",
            "Epoch 41/100\n",
            "108/108 [==============================] - 4s 37ms/step - loss: 0.6526 - accuracy: 0.6150 - val_loss: 0.6896 - val_accuracy: 0.5390\n",
            "Epoch 42/100\n",
            "108/108 [==============================] - 4s 37ms/step - loss: 0.6496 - accuracy: 0.5999 - val_loss: 0.6912 - val_accuracy: 0.5495\n",
            "Epoch 43/100\n",
            "108/108 [==============================] - 4s 37ms/step - loss: 0.6488 - accuracy: 0.6121 - val_loss: 0.7274 - val_accuracy: 0.5332\n",
            "Epoch 44/100\n",
            "108/108 [==============================] - 4s 37ms/step - loss: 0.6469 - accuracy: 0.6194 - val_loss: 0.7146 - val_accuracy: 0.5355\n",
            "Epoch 45/100\n",
            "108/108 [==============================] - 4s 37ms/step - loss: 0.6483 - accuracy: 0.6200 - val_loss: 0.7507 - val_accuracy: 0.5355\n",
            "Epoch 46/100\n",
            "108/108 [==============================] - 4s 37ms/step - loss: 0.6479 - accuracy: 0.6075 - val_loss: 0.6991 - val_accuracy: 0.5378\n",
            "Epoch 47/100\n",
            "108/108 [==============================] - 4s 37ms/step - loss: 0.6476 - accuracy: 0.6174 - val_loss: 0.6966 - val_accuracy: 0.5274\n",
            "Epoch 48/100\n",
            "108/108 [==============================] - 4s 37ms/step - loss: 0.6465 - accuracy: 0.6104 - val_loss: 0.6902 - val_accuracy: 0.5425\n",
            "Epoch 49/100\n",
            "108/108 [==============================] - 4s 37ms/step - loss: 0.6507 - accuracy: 0.6112 - val_loss: 0.6923 - val_accuracy: 0.5285\n",
            "Epoch 50/100\n",
            "108/108 [==============================] - 4s 37ms/step - loss: 0.6464 - accuracy: 0.6092 - val_loss: 0.6957 - val_accuracy: 0.5250\n",
            "Epoch 51/100\n",
            "108/108 [==============================] - 4s 37ms/step - loss: 0.6444 - accuracy: 0.6214 - val_loss: 0.7273 - val_accuracy: 0.5355\n",
            "Epoch 52/100\n",
            "108/108 [==============================] - 4s 37ms/step - loss: 0.6447 - accuracy: 0.6270 - val_loss: 0.7146 - val_accuracy: 0.5308\n",
            "Epoch 53/100\n",
            "108/108 [==============================] - 4s 37ms/step - loss: 0.6462 - accuracy: 0.6107 - val_loss: 0.6975 - val_accuracy: 0.5332\n",
            "Epoch 54/100\n",
            "108/108 [==============================] - 4s 37ms/step - loss: 0.6460 - accuracy: 0.6168 - val_loss: 0.7136 - val_accuracy: 0.5355\n",
            "Epoch 55/100\n",
            "108/108 [==============================] - 4s 37ms/step - loss: 0.6449 - accuracy: 0.6153 - val_loss: 0.7232 - val_accuracy: 0.5297\n",
            "Epoch 56/100\n",
            "108/108 [==============================] - 4s 37ms/step - loss: 0.6434 - accuracy: 0.6168 - val_loss: 0.7380 - val_accuracy: 0.5262\n",
            "Epoch 57/100\n",
            "108/108 [==============================] - 4s 37ms/step - loss: 0.6441 - accuracy: 0.6130 - val_loss: 0.7097 - val_accuracy: 0.5308\n",
            "Epoch 58/100\n",
            "108/108 [==============================] - 4s 37ms/step - loss: 0.6530 - accuracy: 0.6194 - val_loss: 0.6959 - val_accuracy: 0.5274\n",
            "Epoch 59/100\n",
            "108/108 [==============================] - 4s 37ms/step - loss: 0.6472 - accuracy: 0.6118 - val_loss: 0.7118 - val_accuracy: 0.5239\n",
            "Epoch 60/100\n",
            "108/108 [==============================] - 4s 37ms/step - loss: 0.6426 - accuracy: 0.6229 - val_loss: 0.7438 - val_accuracy: 0.5308\n",
            "Epoch 61/100\n",
            "108/108 [==============================] - 4s 37ms/step - loss: 0.6465 - accuracy: 0.6226 - val_loss: 0.7193 - val_accuracy: 0.5239\n",
            "Epoch 62/100\n",
            "108/108 [==============================] - 4s 37ms/step - loss: 0.6428 - accuracy: 0.6223 - val_loss: 0.7285 - val_accuracy: 0.5239\n",
            "Epoch 63/100\n",
            "108/108 [==============================] - 4s 37ms/step - loss: 0.6429 - accuracy: 0.6095 - val_loss: 0.6981 - val_accuracy: 0.5448\n",
            "Epoch 64/100\n",
            "108/108 [==============================] - 4s 37ms/step - loss: 0.6518 - accuracy: 0.6031 - val_loss: 0.7341 - val_accuracy: 0.5204\n",
            "Epoch 65/100\n",
            "108/108 [==============================] - 4s 37ms/step - loss: 0.6442 - accuracy: 0.6118 - val_loss: 0.7322 - val_accuracy: 0.5297\n",
            "Epoch 66/100\n",
            "108/108 [==============================] - 4s 37ms/step - loss: 0.6415 - accuracy: 0.6191 - val_loss: 0.7248 - val_accuracy: 0.5320\n",
            "Epoch 67/100\n",
            "108/108 [==============================] - 4s 37ms/step - loss: 0.6403 - accuracy: 0.6273 - val_loss: 0.7116 - val_accuracy: 0.5320\n",
            "Epoch 68/100\n",
            "108/108 [==============================] - 4s 37ms/step - loss: 0.6397 - accuracy: 0.6255 - val_loss: 0.7264 - val_accuracy: 0.5320\n",
            "Epoch 69/100\n",
            "108/108 [==============================] - 4s 37ms/step - loss: 0.6389 - accuracy: 0.6258 - val_loss: 0.7438 - val_accuracy: 0.5250\n",
            "Epoch 70/100\n",
            "108/108 [==============================] - 4s 37ms/step - loss: 0.6399 - accuracy: 0.6275 - val_loss: 0.7449 - val_accuracy: 0.5297\n",
            "Epoch 71/100\n",
            "108/108 [==============================] - 4s 37ms/step - loss: 0.6399 - accuracy: 0.6171 - val_loss: 0.7566 - val_accuracy: 0.5332\n",
            "Epoch 72/100\n",
            "108/108 [==============================] - 4s 37ms/step - loss: 0.6383 - accuracy: 0.6249 - val_loss: 0.7596 - val_accuracy: 0.5274\n",
            "Epoch 73/100\n",
            "108/108 [==============================] - 4s 37ms/step - loss: 0.6390 - accuracy: 0.6206 - val_loss: 0.7194 - val_accuracy: 0.5274\n",
            "Epoch 74/100\n",
            "108/108 [==============================] - 4s 37ms/step - loss: 0.6393 - accuracy: 0.6235 - val_loss: 0.6922 - val_accuracy: 0.5355\n",
            "Epoch 75/100\n",
            "108/108 [==============================] - 4s 37ms/step - loss: 0.6420 - accuracy: 0.6255 - val_loss: 0.7352 - val_accuracy: 0.5285\n",
            "Epoch 76/100\n",
            "108/108 [==============================] - 4s 37ms/step - loss: 0.6377 - accuracy: 0.6176 - val_loss: 0.7510 - val_accuracy: 0.5320\n",
            "Epoch 77/100\n",
            "108/108 [==============================] - 4s 37ms/step - loss: 0.6387 - accuracy: 0.6232 - val_loss: 0.7266 - val_accuracy: 0.5378\n",
            "Epoch 78/100\n",
            "108/108 [==============================] - 4s 37ms/step - loss: 0.6357 - accuracy: 0.6275 - val_loss: 0.7290 - val_accuracy: 0.5355\n",
            "Epoch 79/100\n",
            "108/108 [==============================] - 4s 37ms/step - loss: 0.6328 - accuracy: 0.6293 - val_loss: 0.7504 - val_accuracy: 0.5297\n",
            "Epoch 80/100\n",
            "108/108 [==============================] - 4s 37ms/step - loss: 0.6328 - accuracy: 0.6264 - val_loss: 0.7445 - val_accuracy: 0.5285\n",
            "Epoch 81/100\n",
            "108/108 [==============================] - 4s 37ms/step - loss: 0.6315 - accuracy: 0.6374 - val_loss: 0.7502 - val_accuracy: 0.5239\n",
            "Epoch 82/100\n",
            "108/108 [==============================] - 4s 37ms/step - loss: 0.6290 - accuracy: 0.6299 - val_loss: 0.7672 - val_accuracy: 0.5308\n",
            "Epoch 83/100\n",
            "108/108 [==============================] - 4s 37ms/step - loss: 0.6263 - accuracy: 0.6340 - val_loss: 0.7647 - val_accuracy: 0.5274\n",
            "Epoch 84/100\n",
            "108/108 [==============================] - 4s 37ms/step - loss: 0.6272 - accuracy: 0.6386 - val_loss: 0.7542 - val_accuracy: 0.5332\n",
            "Epoch 85/100\n",
            "108/108 [==============================] - 4s 37ms/step - loss: 0.6288 - accuracy: 0.6246 - val_loss: 0.8629 - val_accuracy: 0.5297\n",
            "Epoch 86/100\n",
            "108/108 [==============================] - 4s 37ms/step - loss: 0.6240 - accuracy: 0.6366 - val_loss: 0.7341 - val_accuracy: 0.5425\n",
            "Epoch 87/100\n",
            "108/108 [==============================] - 4s 37ms/step - loss: 0.6291 - accuracy: 0.6316 - val_loss: 0.8192 - val_accuracy: 0.5320\n",
            "Epoch 88/100\n",
            "108/108 [==============================] - 4s 37ms/step - loss: 0.6237 - accuracy: 0.6337 - val_loss: 0.8573 - val_accuracy: 0.5413\n",
            "Epoch 89/100\n",
            "108/108 [==============================] - 4s 37ms/step - loss: 0.6220 - accuracy: 0.6351 - val_loss: 0.8533 - val_accuracy: 0.5355\n",
            "Epoch 90/100\n",
            "108/108 [==============================] - 4s 37ms/step - loss: 0.6215 - accuracy: 0.6383 - val_loss: 0.8103 - val_accuracy: 0.5437\n",
            "Epoch 91/100\n",
            "108/108 [==============================] - 4s 37ms/step - loss: 0.6184 - accuracy: 0.6366 - val_loss: 0.7339 - val_accuracy: 0.5390\n",
            "Epoch 92/100\n",
            "108/108 [==============================] - 4s 37ms/step - loss: 0.6257 - accuracy: 0.6293 - val_loss: 0.8171 - val_accuracy: 0.5367\n",
            "Epoch 93/100\n",
            "108/108 [==============================] - 4s 37ms/step - loss: 0.6221 - accuracy: 0.6377 - val_loss: 0.8197 - val_accuracy: 0.5367\n",
            "Epoch 94/100\n",
            "108/108 [==============================] - 4s 37ms/step - loss: 0.6171 - accuracy: 0.6395 - val_loss: 0.8814 - val_accuracy: 0.5471\n",
            "Epoch 95/100\n",
            "108/108 [==============================] - 4s 37ms/step - loss: 0.6155 - accuracy: 0.6479 - val_loss: 0.8213 - val_accuracy: 0.5413\n",
            "Epoch 96/100\n",
            "108/108 [==============================] - 4s 37ms/step - loss: 0.6130 - accuracy: 0.6433 - val_loss: 0.8101 - val_accuracy: 0.5437\n",
            "Epoch 97/100\n",
            "108/108 [==============================] - 4s 37ms/step - loss: 0.6122 - accuracy: 0.6523 - val_loss: 0.8508 - val_accuracy: 0.5355\n",
            "Epoch 98/100\n",
            "108/108 [==============================] - 4s 37ms/step - loss: 0.6103 - accuracy: 0.6514 - val_loss: 0.8871 - val_accuracy: 0.5355\n",
            "Epoch 99/100\n",
            "108/108 [==============================] - 4s 37ms/step - loss: 0.6102 - accuracy: 0.6529 - val_loss: 0.9044 - val_accuracy: 0.5413\n",
            "Epoch 100/100\n",
            "108/108 [==============================] - 4s 37ms/step - loss: 0.6124 - accuracy: 0.6436 - val_loss: 0.8625 - val_accuracy: 0.5425\n"
          ],
          "name": "stdout"
        }
      ]
    },
    {
      "cell_type": "markdown",
      "metadata": {
        "id": "uCeUl9Br7fyd"
      },
      "source": [
        "## SuperTML Evaluation"
      ]
    },
    {
      "cell_type": "code",
      "metadata": {
        "colab": {
          "base_uri": "https://localhost:8080/"
        },
        "id": "uBsngQws7dNr",
        "outputId": "02030266-092f-40b4-f909-e121ee72af94"
      },
      "source": [
        "from sklearn.metrics import accuracy_score, precision_score, recall_score, f1_score\n",
        "\n",
        "predictions = cnn_model.predict(cnn_valid_X).round()\n",
        "\n",
        "print(\"Accuracy:\", round(accuracy_score(cnn_valid_Y, predictions), 3))\n",
        "print(\"Precision:\", round(precision_score(cnn_valid_Y, predictions), 3))\n",
        "print(\"Recall:\", round(recall_score(cnn_valid_Y, predictions), 3))\n",
        "print(\"F1 Score:\", round(f1_score(cnn_valid_Y, predictions), 3))"
      ],
      "execution_count": 94,
      "outputs": [
        {
          "output_type": "stream",
          "text": [
            "Accuracy: 0.542\n",
            "Precision: 0.553\n",
            "Recall: 0.302\n",
            "F1 Score: 0.391\n"
          ],
          "name": "stdout"
        }
      ]
    },
    {
      "cell_type": "code",
      "metadata": {
        "colab": {
          "base_uri": "https://localhost:8080/",
          "height": 309
        },
        "id": "XsMysJaI73ES",
        "outputId": "b7f06081-f7ff-41ea-c681-53c962e8a2dc"
      },
      "source": [
        "conf_mat = confusion_matrix(cnn_valid_Y, predictions)\n",
        "labels = [0,1]\n",
        "fig, ax = plt.subplots()\n",
        "ticks = np.arange(len(labels))\n",
        "\n",
        "plt.xticks(ticks, labels)\n",
        "plt.yticks(ticks, labels)\n",
        "sns.heatmap(pd.DataFrame(conf_mat), annot=True, cmap=\"flare\", fmt='g')\n",
        "\n",
        "ax.xaxis.set_label_position(\"top\")\n",
        "plt.title('SuperTML Confusion matrix', y=1.1)\n",
        "plt.ylabel('True Label')\n",
        "plt.xlabel('Predicted Label')"
      ],
      "execution_count": 95,
      "outputs": [
        {
          "output_type": "execute_result",
          "data": {
            "text/plain": [
              "Text(0.5, 13.5, 'Predicted Label')"
            ]
          },
          "metadata": {
            "tags": []
          },
          "execution_count": 95
        },
        {
          "output_type": "display_data",
          "data": {
            "image/png": "[encoded data removed]",
            "text/plain": [
              "<Figure size 432x288 with 2 Axes>"
            ]
          },
          "metadata": {
            "tags": []
          }
        }
      ]
    }
  ]
}
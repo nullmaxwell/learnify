{
  "nbformat": 4,
  "nbformat_minor": 0,
  "metadata": {
    "accelerator": "GPU",
    "colab": {
      "name": "main.ipynb",
      "provenance": [],
      "collapsed_sections": [
        "dNKX_4d2-eP-",
        "zhJb6Yf3EWuw"
      ],
      "toc_visible": true,
      "machine_shape": "hm"
    },
    "interpreter": {
      "hash": "aee8b7b246df8f9039afb4144a1f6fd8d2ca17a180786b69acc140d282b71a49"
    },
    "kernelspec": {
      "display_name": "Python 3",
      "language": "python",
      "name": "python3"
    },
    "language_info": {
      "codemirror_mode": {
        "name": "ipython",
        "version": 3
      },
      "file_extension": ".py",
      "mimetype": "text/x-python",
      "name": "python",
      "nbconvert_exporter": "python",
      "pygments_lexer": "ipython3",
      "version": "3.9.5"
    },
    "metadata": {
      "interpreter": {
        "hash": "aee8b7b246df8f9039afb4144a1f6fd8d2ca17a180786b69acc140d282b71a49"
      }
    }
  },
  "cells": [
    {
      "cell_type": "markdown",
      "metadata": {
        "id": "dNKX_4d2-eP-"
      },
      "source": [
        "# Setup and General Data Overview"
      ]
    },
    {
      "cell_type": "code",
      "metadata": {
        "id": "g8uFSwGC-eQC"
      },
      "source": [
        "import pandas as pd\n",
        "import numpy as np\n",
        "import tensorflow as tf\n",
        "import seaborn as sns\n",
        "import matplotlib.pyplot as plt"
      ],
      "execution_count": 1,
      "outputs": []
    },
    {
      "cell_type": "code",
      "metadata": {
        "colab": {
          "base_uri": "https://localhost:8080/"
        },
        "id": "J1OVTap-CkJh",
        "outputId": "f9a9ace2-c725-4576-d2da-b665fe078457"
      },
      "source": [
        "!nvidia-smi"
      ],
      "execution_count": 2,
      "outputs": [
        {
          "output_type": "stream",
          "text": [
            "Fri Jun 18 19:53:02 2021       \n",
            "+-----------------------------------------------------------------------------+\n",
            "| NVIDIA-SMI 465.27       Driver Version: 460.32.03    CUDA Version: 11.2     |\n",
            "|-------------------------------+----------------------+----------------------+\n",
            "| GPU  Name        Persistence-M| Bus-Id        Disp.A | Volatile Uncorr. ECC |\n",
            "| Fan  Temp  Perf  Pwr:Usage/Cap|         Memory-Usage | GPU-Util  Compute M. |\n",
            "|                               |                      |               MIG M. |\n",
            "|===============================+======================+======================|\n",
            "|   0  Tesla V100-SXM2...  Off  | 00000000:00:04.0 Off |                    0 |\n",
            "| N/A   43C    P0    25W / 300W |      0MiB / 16160MiB |      0%      Default |\n",
            "|                               |                      |                  N/A |\n",
            "+-------------------------------+----------------------+----------------------+\n",
            "                                                                               \n",
            "+-----------------------------------------------------------------------------+\n",
            "| Processes:                                                                  |\n",
            "|  GPU   GI   CI        PID   Type   Process name                  GPU Memory |\n",
            "|        ID   ID                                                   Usage      |\n",
            "|=============================================================================|\n",
            "|  No running processes found                                                 |\n",
            "+-----------------------------------------------------------------------------+\n"
          ],
          "name": "stdout"
        }
      ]
    },
    {
      "cell_type": "code",
      "metadata": {
        "colab": {
          "base_uri": "https://localhost:8080/"
        },
        "id": "Ck-ZY94vG0BJ",
        "outputId": "c6f65e69-c224-49ca-f1ff-aea776ccfc4e"
      },
      "source": [
        "from psutil import virtual_memory\n",
        "virtual_memory().total / 1e9"
      ],
      "execution_count": 3,
      "outputs": [
        {
          "output_type": "execute_result",
          "data": {
            "text/plain": [
              "27.339640832"
            ]
          },
          "metadata": {
            "tags": []
          },
          "execution_count": 3
        }
      ]
    },
    {
      "cell_type": "markdown",
      "metadata": {
        "id": "3YBIOcJrT4UD"
      },
      "source": [
        "Special thanks to [watsonbox's exportify repo](https://github.com/watsonbox/exportify) which allowed me to pull all of these songs and their features down from Spotify."
      ]
    },
    {
      "cell_type": "code",
      "metadata": {
        "id": "HyDkArFO-eQE",
        "colab": {
          "base_uri": "https://localhost:8080/"
        },
        "outputId": "355cfbf6-8644-4013-f543-f481e7dfe999"
      },
      "source": [
        "import os.path\n",
        "\n",
        "# raw_data = pd.read_csv('data/liked_labeled.csv') # local only\n",
        "if os.path.isfile('liked_labeled.csv') == False:\n",
        "  !wget https://raw.githubusercontent.com/nullmaxwell/learnify/main/data/liked_labeled.csv\n",
        "else:\n",
        "  print(\"Data already present!\")\n",
        "raw_data = pd.read_csv('liked_labeled.csv')"
      ],
      "execution_count": 4,
      "outputs": [
        {
          "output_type": "stream",
          "text": [
            "Data already present!\n"
          ],
          "name": "stdout"
        }
      ]
    },
    {
      "cell_type": "code",
      "metadata": {
        "colab": {
          "base_uri": "https://localhost:8080/"
        },
        "id": "NqTogNIt-eQF",
        "outputId": "2ba0771b-b9f7-40ca-b4ae-8c4d97d3eb11"
      },
      "source": [
        "raw_data.info()"
      ],
      "execution_count": 5,
      "outputs": [
        {
          "output_type": "stream",
          "text": [
            "<class 'pandas.core.frame.DataFrame'>\n",
            "RangeIndex: 4296 entries, 0 to 4295\n",
            "Data columns (total 32 columns):\n",
            " #   Column                Non-Null Count  Dtype  \n",
            "---  ------                --------------  -----  \n",
            " 0   Unnamed: 0            4296 non-null   int64  \n",
            " 1   Track URI             4296 non-null   object \n",
            " 2   Track Name            4296 non-null   object \n",
            " 3   Artist URI(s)         4296 non-null   object \n",
            " 4   Artist Name(s)        4296 non-null   object \n",
            " 5   Album URI             4296 non-null   object \n",
            " 6   Album Name            4296 non-null   object \n",
            " 7   Album Artist URI(s)   4296 non-null   object \n",
            " 8   Album Artist Name(s)  4296 non-null   object \n",
            " 9   Album Release Date    4296 non-null   object \n",
            " 10  Album Image URL       4296 non-null   object \n",
            " 11  Disc Number           4296 non-null   int64  \n",
            " 12  Track Number          4296 non-null   int64  \n",
            " 13  Track Duration (ms)   4296 non-null   int64  \n",
            " 14  Track Preview URL     3247 non-null   object \n",
            " 15  Explicit              4296 non-null   bool   \n",
            " 16  Popularity            4296 non-null   int64  \n",
            " 17  Added By              0 non-null      float64\n",
            " 18  Added At              4296 non-null   object \n",
            " 19  Danceability          4293 non-null   float64\n",
            " 20  Energy                4293 non-null   float64\n",
            " 21  Key                   4293 non-null   float64\n",
            " 22  Loudness              4293 non-null   float64\n",
            " 23  Mode                  4293 non-null   float64\n",
            " 24  Speechiness           4293 non-null   float64\n",
            " 25  Acousticness          4293 non-null   float64\n",
            " 26  Instrumentalness      4293 non-null   float64\n",
            " 27  Liveness              4293 non-null   float64\n",
            " 28  Valence               4293 non-null   float64\n",
            " 29  Tempo                 4293 non-null   float64\n",
            " 30  Time Signature        4293 non-null   float64\n",
            " 31  Label                 4296 non-null   bool   \n",
            "dtypes: bool(2), float64(13), int64(5), object(12)\n",
            "memory usage: 1015.4+ KB\n"
          ],
          "name": "stdout"
        }
      ]
    },
    {
      "cell_type": "code",
      "metadata": {
        "colab": {
          "base_uri": "https://localhost:8080/",
          "height": 355
        },
        "id": "cCdCmPSn-eQI",
        "scrolled": true,
        "outputId": "43338300-aa42-47ed-b7d1-db5bbcdbb313"
      },
      "source": [
        "raw_data.describe()"
      ],
      "execution_count": 6,
      "outputs": [
        {
          "output_type": "execute_result",
          "data": {
            "text/html": [
              "<div>\n",
              "<style scoped>\n",
              "    .dataframe tbody tr th:only-of-type {\n",
              "        vertical-align: middle;\n",
              "    }\n",
              "\n",
              "    .dataframe tbody tr th {\n",
              "        vertical-align: top;\n",
              "    }\n",
              "\n",
              "    .dataframe thead th {\n",
              "        text-align: right;\n",
              "    }\n",
              "</style>\n",
              "<table border=\"1\" class=\"dataframe\">\n",
              "  <thead>\n",
              "    <tr style=\"text-align: right;\">\n",
              "      <th></th>\n",
              "      <th>Unnamed: 0</th>\n",
              "      <th>Disc Number</th>\n",
              "      <th>Track Number</th>\n",
              "      <th>Track Duration (ms)</th>\n",
              "      <th>Popularity</th>\n",
              "      <th>Added By</th>\n",
              "      <th>Danceability</th>\n",
              "      <th>Energy</th>\n",
              "      <th>Key</th>\n",
              "      <th>Loudness</th>\n",
              "      <th>Mode</th>\n",
              "      <th>Speechiness</th>\n",
              "      <th>Acousticness</th>\n",
              "      <th>Instrumentalness</th>\n",
              "      <th>Liveness</th>\n",
              "      <th>Valence</th>\n",
              "      <th>Tempo</th>\n",
              "      <th>Time Signature</th>\n",
              "    </tr>\n",
              "  </thead>\n",
              "  <tbody>\n",
              "    <tr>\n",
              "      <th>count</th>\n",
              "      <td>4296.000000</td>\n",
              "      <td>4296.000000</td>\n",
              "      <td>4296.000000</td>\n",
              "      <td>4.296000e+03</td>\n",
              "      <td>4296.000000</td>\n",
              "      <td>0.0</td>\n",
              "      <td>4293.000000</td>\n",
              "      <td>4293.000000</td>\n",
              "      <td>4293.000000</td>\n",
              "      <td>4293.000000</td>\n",
              "      <td>4293.000000</td>\n",
              "      <td>4293.000000</td>\n",
              "      <td>4293.000000</td>\n",
              "      <td>4293.000000</td>\n",
              "      <td>4293.000000</td>\n",
              "      <td>4293.000000</td>\n",
              "      <td>4293.000000</td>\n",
              "      <td>4293.000000</td>\n",
              "    </tr>\n",
              "    <tr>\n",
              "      <th>mean</th>\n",
              "      <td>2147.500000</td>\n",
              "      <td>1.032588</td>\n",
              "      <td>6.540503</td>\n",
              "      <td>2.423103e+05</td>\n",
              "      <td>31.929004</td>\n",
              "      <td>NaN</td>\n",
              "      <td>0.563541</td>\n",
              "      <td>0.533308</td>\n",
              "      <td>5.220825</td>\n",
              "      <td>-10.394896</td>\n",
              "      <td>0.612625</td>\n",
              "      <td>0.103522</td>\n",
              "      <td>0.374874</td>\n",
              "      <td>0.323438</td>\n",
              "      <td>0.192953</td>\n",
              "      <td>0.387757</td>\n",
              "      <td>117.886939</td>\n",
              "      <td>3.894712</td>\n",
              "    </tr>\n",
              "    <tr>\n",
              "      <th>std</th>\n",
              "      <td>1240.292707</td>\n",
              "      <td>0.321318</td>\n",
              "      <td>6.242312</td>\n",
              "      <td>2.894246e+05</td>\n",
              "      <td>23.515855</td>\n",
              "      <td>NaN</td>\n",
              "      <td>0.185046</td>\n",
              "      <td>0.247769</td>\n",
              "      <td>3.635817</td>\n",
              "      <td>6.086908</td>\n",
              "      <td>0.487207</td>\n",
              "      <td>0.122246</td>\n",
              "      <td>0.344682</td>\n",
              "      <td>0.383817</td>\n",
              "      <td>0.163539</td>\n",
              "      <td>0.249579</td>\n",
              "      <td>30.341885</td>\n",
              "      <td>0.472055</td>\n",
              "    </tr>\n",
              "    <tr>\n",
              "      <th>min</th>\n",
              "      <td>0.000000</td>\n",
              "      <td>1.000000</td>\n",
              "      <td>1.000000</td>\n",
              "      <td>4.800000e+03</td>\n",
              "      <td>0.000000</td>\n",
              "      <td>NaN</td>\n",
              "      <td>0.000000</td>\n",
              "      <td>0.000098</td>\n",
              "      <td>0.000000</td>\n",
              "      <td>-46.829000</td>\n",
              "      <td>0.000000</td>\n",
              "      <td>0.000000</td>\n",
              "      <td>0.000002</td>\n",
              "      <td>0.000000</td>\n",
              "      <td>0.000000</td>\n",
              "      <td>0.000000</td>\n",
              "      <td>0.000000</td>\n",
              "      <td>0.000000</td>\n",
              "    </tr>\n",
              "    <tr>\n",
              "      <th>25%</th>\n",
              "      <td>1073.750000</td>\n",
              "      <td>1.000000</td>\n",
              "      <td>2.000000</td>\n",
              "      <td>1.648762e+05</td>\n",
              "      <td>7.000000</td>\n",
              "      <td>NaN</td>\n",
              "      <td>0.453000</td>\n",
              "      <td>0.360000</td>\n",
              "      <td>2.000000</td>\n",
              "      <td>-12.582000</td>\n",
              "      <td>0.000000</td>\n",
              "      <td>0.037200</td>\n",
              "      <td>0.047200</td>\n",
              "      <td>0.000082</td>\n",
              "      <td>0.098500</td>\n",
              "      <td>0.175000</td>\n",
              "      <td>93.919000</td>\n",
              "      <td>4.000000</td>\n",
              "    </tr>\n",
              "    <tr>\n",
              "      <th>50%</th>\n",
              "      <td>2147.500000</td>\n",
              "      <td>1.000000</td>\n",
              "      <td>5.000000</td>\n",
              "      <td>2.148260e+05</td>\n",
              "      <td>34.000000</td>\n",
              "      <td>NaN</td>\n",
              "      <td>0.584000</td>\n",
              "      <td>0.550000</td>\n",
              "      <td>5.000000</td>\n",
              "      <td>-8.774000</td>\n",
              "      <td>1.000000</td>\n",
              "      <td>0.050900</td>\n",
              "      <td>0.274000</td>\n",
              "      <td>0.047200</td>\n",
              "      <td>0.121000</td>\n",
              "      <td>0.363000</td>\n",
              "      <td>117.964000</td>\n",
              "      <td>4.000000</td>\n",
              "    </tr>\n",
              "    <tr>\n",
              "      <th>75%</th>\n",
              "      <td>3221.250000</td>\n",
              "      <td>1.000000</td>\n",
              "      <td>9.000000</td>\n",
              "      <td>2.657785e+05</td>\n",
              "      <td>51.000000</td>\n",
              "      <td>NaN</td>\n",
              "      <td>0.694000</td>\n",
              "      <td>0.729000</td>\n",
              "      <td>8.000000</td>\n",
              "      <td>-6.421000</td>\n",
              "      <td>1.000000</td>\n",
              "      <td>0.105000</td>\n",
              "      <td>0.703000</td>\n",
              "      <td>0.781000</td>\n",
              "      <td>0.229000</td>\n",
              "      <td>0.573000</td>\n",
              "      <td>137.941000</td>\n",
              "      <td>4.000000</td>\n",
              "    </tr>\n",
              "    <tr>\n",
              "      <th>max</th>\n",
              "      <td>4295.000000</td>\n",
              "      <td>11.000000</td>\n",
              "      <td>42.000000</td>\n",
              "      <td>9.146416e+06</td>\n",
              "      <td>96.000000</td>\n",
              "      <td>NaN</td>\n",
              "      <td>0.980000</td>\n",
              "      <td>0.993000</td>\n",
              "      <td>11.000000</td>\n",
              "      <td>-0.394000</td>\n",
              "      <td>1.000000</td>\n",
              "      <td>0.928000</td>\n",
              "      <td>0.996000</td>\n",
              "      <td>0.991000</td>\n",
              "      <td>0.985000</td>\n",
              "      <td>0.982000</td>\n",
              "      <td>214.131000</td>\n",
              "      <td>5.000000</td>\n",
              "    </tr>\n",
              "  </tbody>\n",
              "</table>\n",
              "</div>"
            ],
            "text/plain": [
              "        Unnamed: 0  Disc Number  ...        Tempo  Time Signature\n",
              "count  4296.000000  4296.000000  ...  4293.000000     4293.000000\n",
              "mean   2147.500000     1.032588  ...   117.886939        3.894712\n",
              "std    1240.292707     0.321318  ...    30.341885        0.472055\n",
              "min       0.000000     1.000000  ...     0.000000        0.000000\n",
              "25%    1073.750000     1.000000  ...    93.919000        4.000000\n",
              "50%    2147.500000     1.000000  ...   117.964000        4.000000\n",
              "75%    3221.250000     1.000000  ...   137.941000        4.000000\n",
              "max    4295.000000    11.000000  ...   214.131000        5.000000\n",
              "\n",
              "[8 rows x 18 columns]"
            ]
          },
          "metadata": {
            "tags": []
          },
          "execution_count": 6
        }
      ]
    },
    {
      "cell_type": "markdown",
      "metadata": {
        "id": "9ZTf-SH1CZLD"
      },
      "source": [
        "# Data Exploration/Analysis"
      ]
    },
    {
      "cell_type": "markdown",
      "metadata": {
        "id": "Z1c8CfrRse5_"
      },
      "source": [
        "## Looking at liked songs generally first"
      ]
    },
    {
      "cell_type": "markdown",
      "metadata": {
        "id": "QzveBN2nCZLD"
      },
      "source": [
        "Note: The label in the last column constitutes a song that I like."
      ]
    },
    {
      "cell_type": "code",
      "metadata": {
        "id": "tHdy6o6-CZLD",
        "colab": {
          "base_uri": "https://localhost:8080/"
        },
        "outputId": "a63cb3dc-ddb5-4a4a-bbd7-a1eb9fd0282c"
      },
      "source": [
        "analysis_data = raw_data.copy()\n",
        "analysis_data = analysis_data.loc[analysis_data['Label'] == True]\n",
        "analysis_data.info()"
      ],
      "execution_count": 7,
      "outputs": [
        {
          "output_type": "stream",
          "text": [
            "<class 'pandas.core.frame.DataFrame'>\n",
            "Int64Index: 2092 entries, 3 to 4293\n",
            "Data columns (total 32 columns):\n",
            " #   Column                Non-Null Count  Dtype  \n",
            "---  ------                --------------  -----  \n",
            " 0   Unnamed: 0            2092 non-null   int64  \n",
            " 1   Track URI             2092 non-null   object \n",
            " 2   Track Name            2092 non-null   object \n",
            " 3   Artist URI(s)         2092 non-null   object \n",
            " 4   Artist Name(s)        2092 non-null   object \n",
            " 5   Album URI             2092 non-null   object \n",
            " 6   Album Name            2092 non-null   object \n",
            " 7   Album Artist URI(s)   2092 non-null   object \n",
            " 8   Album Artist Name(s)  2092 non-null   object \n",
            " 9   Album Release Date    2092 non-null   object \n",
            " 10  Album Image URL       2092 non-null   object \n",
            " 11  Disc Number           2092 non-null   int64  \n",
            " 12  Track Number          2092 non-null   int64  \n",
            " 13  Track Duration (ms)   2092 non-null   int64  \n",
            " 14  Track Preview URL     1627 non-null   object \n",
            " 15  Explicit              2092 non-null   bool   \n",
            " 16  Popularity            2092 non-null   int64  \n",
            " 17  Added By              0 non-null      float64\n",
            " 18  Added At              2092 non-null   object \n",
            " 19  Danceability          2091 non-null   float64\n",
            " 20  Energy                2091 non-null   float64\n",
            " 21  Key                   2091 non-null   float64\n",
            " 22  Loudness              2091 non-null   float64\n",
            " 23  Mode                  2091 non-null   float64\n",
            " 24  Speechiness           2091 non-null   float64\n",
            " 25  Acousticness          2091 non-null   float64\n",
            " 26  Instrumentalness      2091 non-null   float64\n",
            " 27  Liveness              2091 non-null   float64\n",
            " 28  Valence               2091 non-null   float64\n",
            " 29  Tempo                 2091 non-null   float64\n",
            " 30  Time Signature        2091 non-null   float64\n",
            " 31  Label                 2092 non-null   bool   \n",
            "dtypes: bool(2), float64(13), int64(5), object(12)\n",
            "memory usage: 510.7+ KB\n"
          ],
          "name": "stdout"
        }
      ]
    },
    {
      "cell_type": "markdown",
      "metadata": {
        "id": "o4k_WTJQTRqo"
      },
      "source": [
        "Several of the following visulizations are inspired and modified from [pavelkomarov's tast_analysis notebook](https://github.com/pavelkomarov/exportify/blob/master/taste_analysis.ipynb)."
      ]
    },
    {
      "cell_type": "code",
      "metadata": {
        "id": "6L9QxazNCZLE",
        "colab": {
          "base_uri": "https://localhost:8080/"
        },
        "outputId": "7a0872cc-039f-4582-f397-1b49f8781a70"
      },
      "source": [
        "from collections import defaultdict\n",
        "artists = defaultdict(int)\n",
        "for i,song in analysis_data.iterrows():\n",
        "\tfor musician in song['Artist Name(s)'].split(','):\n",
        "\t\tartists[musician] += 1\n",
        "\n",
        "artists = pd.DataFrame(artists.items(), columns=['Artist', 'Track Count']).sort_values('Track Count', ascending=False).reset_index(drop=True)\n",
        "\n",
        "print(\"Number of unique artists: \" + str(len(analysis_data['Artist Name(s)'].unique())))"
      ],
      "execution_count": 8,
      "outputs": [
        {
          "output_type": "stream",
          "text": [
            "Number of unique artists: 936\n"
          ],
          "name": "stdout"
        }
      ]
    },
    {
      "cell_type": "code",
      "metadata": {
        "tags": [],
        "id": "R_8cZoY8CZLG",
        "colab": {
          "base_uri": "https://localhost:8080/",
          "height": 762
        },
        "outputId": "924f81f7-50f8-477a-e415-1fa5a34ce184"
      },
      "source": [
        "plt.figure(figsize=(18, 10))\n",
        "plt.bar(artists['Artist'][:50], artists['Track Count'][:50])\n",
        "plt.xticks(rotation=80)\n",
        "plt.xlabel(artists.columns[0])\n",
        "plt.ylabel(artists.columns[1])\n",
        "plt.title('Top 50 Artists by Number of Songs')"
      ],
      "execution_count": 9,
      "outputs": [
        {
          "output_type": "execute_result",
          "data": {
            "text/plain": [
              "Text(0.5, 1.0, 'Top 50 Artists by Number of Songs')"
            ]
          },
          "metadata": {
            "tags": []
          },
          "execution_count": 9
        },
        {
          "output_type": "display_data",
          "data": {
            "image/png": "[encoded data removed]",
            "text/plain": [
              "<Figure size 1296x720 with 1 Axes>"
            ]
          },
          "metadata": {
            "tags": [],
            "needs_background": "light"
          }
        }
      ]
    },
    {
      "cell_type": "code",
      "metadata": {
        "id": "hGfNo4wbCZLG",
        "colab": {
          "base_uri": "https://localhost:8080/",
          "height": 421
        },
        "outputId": "5b2ff358-32d1-463a-aae5-d5391c5a8a2b"
      },
      "source": [
        "years = defaultdict(int)\n",
        "for i,song in analysis_data.iterrows():\n",
        "    years[song['Album Release Date'][:4]] += 1\n",
        "\n",
        "years = pd.DataFrame(years.items(), columns=['Year', 'Track Count']).sort_values('Year')\n",
        "\n",
        "plt.figure(figsize=(10, 6))\n",
        "plt.bar(years['Year'], years['Track Count'])\n",
        "plt.xticks(rotation=80)\n",
        "plt.xlabel(years.columns[0])\n",
        "plt.ylabel(years.columns[1])\n",
        "plt.title('Liked songs by Release Year Frequency');"
      ],
      "execution_count": 10,
      "outputs": [
        {
          "output_type": "display_data",
          "data": {
            "image/png": "[encoded data removed]",
            "text/plain": [
              "<Figure size 720x432 with 1 Axes>"
            ]
          },
          "metadata": {
            "tags": [],
            "needs_background": "light"
          }
        }
      ]
    },
    {
      "cell_type": "code",
      "metadata": {
        "id": "wCWDRkORCZLH",
        "colab": {
          "base_uri": "https://localhost:8080/",
          "height": 386
        },
        "outputId": "91965620-a2d1-4319-aa4c-4a54d8f3fa0d"
      },
      "source": [
        "import seaborn as sns\n",
        "\n",
        "plt.figure(figsize=(15,4))\n",
        "\n",
        "plt.subplot(1, 2, 1)\n",
        "axes = sns.countplot(analysis_data['Key'])\n",
        "axes.set(xticklabels=['C', 'C#', 'D', 'D#', 'E', 'F', 'F#', 'G', 'G#', 'A', 'A#', 'B'])\n",
        "plt.ylabel('Track Count')\n",
        "plt.title('Key Frequency')\n",
        "\n",
        "plt.subplot(1, 2, 2)\n",
        "axes = sns.countplot(analysis_data['Mode'])\n",
        "axes.set(xticklabels=['Minor', 'Major'])\n",
        "plt.ylabel('Track Count')\n",
        "plt.title('Major vs Minor Key Frequency');\n",
        "\n",
        "plt.tight_layout(w_pad=2)"
      ],
      "execution_count": 11,
      "outputs": [
        {
          "output_type": "stream",
          "text": [
            "/usr/local/lib/python3.7/dist-packages/seaborn/_decorators.py:43: FutureWarning: Pass the following variable as a keyword arg: x. From version 0.12, the only valid positional argument will be `data`, and passing other arguments without an explicit keyword will result in an error or misinterpretation.\n",
            "  FutureWarning\n",
            "/usr/local/lib/python3.7/dist-packages/seaborn/_decorators.py:43: FutureWarning: Pass the following variable as a keyword arg: x. From version 0.12, the only valid positional argument will be `data`, and passing other arguments without an explicit keyword will result in an error or misinterpretation.\n",
            "  FutureWarning\n"
          ],
          "name": "stderr"
        },
        {
          "output_type": "display_data",
          "data": {
            "image/png": "[encoded data removed]",
            "text/plain": [
              "<Figure size 1080x288 with 2 Axes>"
            ]
          },
          "metadata": {
            "tags": [],
            "needs_background": "light"
          }
        }
      ]
    },
    {
      "cell_type": "markdown",
      "metadata": {
        "id": "Uq2khUEesP-G"
      },
      "source": [
        "## Looking at the Bigger Picture\n"
      ]
    },
    {
      "cell_type": "code",
      "metadata": {
        "colab": {
          "base_uri": "https://localhost:8080/",
          "height": 198
        },
        "id": "zcJQFpUzsFV1",
        "outputId": "be4a44d7-8289-4c44-b25e-317e080f8d53"
      },
      "source": [
        "analysis_data = raw_data.copy()\n",
        "analysis_data.groupby('Label').mean()"
      ],
      "execution_count": 12,
      "outputs": [
        {
          "output_type": "execute_result",
          "data": {
            "text/html": [
              "<div>\n",
              "<style scoped>\n",
              "    .dataframe tbody tr th:only-of-type {\n",
              "        vertical-align: middle;\n",
              "    }\n",
              "\n",
              "    .dataframe tbody tr th {\n",
              "        vertical-align: top;\n",
              "    }\n",
              "\n",
              "    .dataframe thead th {\n",
              "        text-align: right;\n",
              "    }\n",
              "</style>\n",
              "<table border=\"1\" class=\"dataframe\">\n",
              "  <thead>\n",
              "    <tr style=\"text-align: right;\">\n",
              "      <th></th>\n",
              "      <th>Unnamed: 0</th>\n",
              "      <th>Disc Number</th>\n",
              "      <th>Track Number</th>\n",
              "      <th>Track Duration (ms)</th>\n",
              "      <th>Explicit</th>\n",
              "      <th>Popularity</th>\n",
              "      <th>Added By</th>\n",
              "      <th>Danceability</th>\n",
              "      <th>Energy</th>\n",
              "      <th>Key</th>\n",
              "      <th>Loudness</th>\n",
              "      <th>Mode</th>\n",
              "      <th>Speechiness</th>\n",
              "      <th>Acousticness</th>\n",
              "      <th>Instrumentalness</th>\n",
              "      <th>Liveness</th>\n",
              "      <th>Valence</th>\n",
              "      <th>Tempo</th>\n",
              "      <th>Time Signature</th>\n",
              "    </tr>\n",
              "    <tr>\n",
              "      <th>Label</th>\n",
              "      <th></th>\n",
              "      <th></th>\n",
              "      <th></th>\n",
              "      <th></th>\n",
              "      <th></th>\n",
              "      <th></th>\n",
              "      <th></th>\n",
              "      <th></th>\n",
              "      <th></th>\n",
              "      <th></th>\n",
              "      <th></th>\n",
              "      <th></th>\n",
              "      <th></th>\n",
              "      <th></th>\n",
              "      <th></th>\n",
              "      <th></th>\n",
              "      <th></th>\n",
              "      <th></th>\n",
              "      <th></th>\n",
              "    </tr>\n",
              "  </thead>\n",
              "  <tbody>\n",
              "    <tr>\n",
              "      <th>False</th>\n",
              "      <td>2198.617060</td>\n",
              "      <td>1.040381</td>\n",
              "      <td>7.369328</td>\n",
              "      <td>236687.539927</td>\n",
              "      <td>0.164701</td>\n",
              "      <td>27.604809</td>\n",
              "      <td>NaN</td>\n",
              "      <td>0.559191</td>\n",
              "      <td>0.529814</td>\n",
              "      <td>5.263397</td>\n",
              "      <td>-10.538458</td>\n",
              "      <td>0.589464</td>\n",
              "      <td>0.114923</td>\n",
              "      <td>0.377752</td>\n",
              "      <td>0.351939</td>\n",
              "      <td>0.200036</td>\n",
              "      <td>0.391058</td>\n",
              "      <td>117.172566</td>\n",
              "      <td>3.883742</td>\n",
              "    </tr>\n",
              "    <tr>\n",
              "      <th>True</th>\n",
              "      <td>2093.646272</td>\n",
              "      <td>1.024379</td>\n",
              "      <td>5.667304</td>\n",
              "      <td>248234.139101</td>\n",
              "      <td>0.174952</td>\n",
              "      <td>36.484704</td>\n",
              "      <td>NaN</td>\n",
              "      <td>0.568123</td>\n",
              "      <td>0.536986</td>\n",
              "      <td>5.175992</td>\n",
              "      <td>-10.243712</td>\n",
              "      <td>0.637016</td>\n",
              "      <td>0.091516</td>\n",
              "      <td>0.371844</td>\n",
              "      <td>0.293425</td>\n",
              "      <td>0.185493</td>\n",
              "      <td>0.384280</td>\n",
              "      <td>118.639233</td>\n",
              "      <td>3.906265</td>\n",
              "    </tr>\n",
              "  </tbody>\n",
              "</table>\n",
              "</div>"
            ],
            "text/plain": [
              "        Unnamed: 0  Disc Number  ...       Tempo  Time Signature\n",
              "Label                            ...                            \n",
              "False  2198.617060     1.040381  ...  117.172566        3.883742\n",
              "True   2093.646272     1.024379  ...  118.639233        3.906265\n",
              "\n",
              "[2 rows x 19 columns]"
            ]
          },
          "metadata": {
            "tags": []
          },
          "execution_count": 12
        }
      ]
    },
    {
      "cell_type": "markdown",
      "metadata": {
        "id": "b8ybINfds3ps"
      },
      "source": [
        "From this we have some observations:\n",
        "- The average popularity of songs that I like is more than those I do not like.\n",
        "- On average I am liking more tracks that are in a Major key.\n",
        "- I tend to like lett speechy tracks.\n",
        "- I prefer less instrumental tracks (not by too much). According to [Spotify's API reference](https://developer.spotify.com/documentation/web-api/reference/) this would indicate that on average my liked songs are containing more vocal content, which is interesting because if someone were to ask me this question I would probably respond with the opposite observation."
      ]
    },
    {
      "cell_type": "code",
      "metadata": {
        "colab": {
          "base_uri": "https://localhost:8080/",
          "height": 512
        },
        "id": "4591mVaRwpEK",
        "outputId": "b8d0f09a-e21c-46f4-c6b7-0a9a6ca18254"
      },
      "source": [
        "# ['C', 'C#', 'D', 'D#', 'E', 'F', 'F#', 'G', 'G#', 'A', 'A#', 'B']\n",
        "analysis_data.groupby('Key').mean()"
      ],
      "execution_count": 13,
      "outputs": [
        {
          "output_type": "execute_result",
          "data": {
            "text/html": [
              "<div>\n",
              "<style scoped>\n",
              "    .dataframe tbody tr th:only-of-type {\n",
              "        vertical-align: middle;\n",
              "    }\n",
              "\n",
              "    .dataframe tbody tr th {\n",
              "        vertical-align: top;\n",
              "    }\n",
              "\n",
              "    .dataframe thead th {\n",
              "        text-align: right;\n",
              "    }\n",
              "</style>\n",
              "<table border=\"1\" class=\"dataframe\">\n",
              "  <thead>\n",
              "    <tr style=\"text-align: right;\">\n",
              "      <th></th>\n",
              "      <th>Unnamed: 0</th>\n",
              "      <th>Disc Number</th>\n",
              "      <th>Track Number</th>\n",
              "      <th>Track Duration (ms)</th>\n",
              "      <th>Explicit</th>\n",
              "      <th>Popularity</th>\n",
              "      <th>Added By</th>\n",
              "      <th>Danceability</th>\n",
              "      <th>Energy</th>\n",
              "      <th>Loudness</th>\n",
              "      <th>Mode</th>\n",
              "      <th>Speechiness</th>\n",
              "      <th>Acousticness</th>\n",
              "      <th>Instrumentalness</th>\n",
              "      <th>Liveness</th>\n",
              "      <th>Valence</th>\n",
              "      <th>Tempo</th>\n",
              "      <th>Time Signature</th>\n",
              "      <th>Label</th>\n",
              "    </tr>\n",
              "    <tr>\n",
              "      <th>Key</th>\n",
              "      <th></th>\n",
              "      <th></th>\n",
              "      <th></th>\n",
              "      <th></th>\n",
              "      <th></th>\n",
              "      <th></th>\n",
              "      <th></th>\n",
              "      <th></th>\n",
              "      <th></th>\n",
              "      <th></th>\n",
              "      <th></th>\n",
              "      <th></th>\n",
              "      <th></th>\n",
              "      <th></th>\n",
              "      <th></th>\n",
              "      <th></th>\n",
              "      <th></th>\n",
              "      <th></th>\n",
              "      <th></th>\n",
              "    </tr>\n",
              "  </thead>\n",
              "  <tbody>\n",
              "    <tr>\n",
              "      <th>0.0</th>\n",
              "      <td>2085.915152</td>\n",
              "      <td>1.038384</td>\n",
              "      <td>6.721212</td>\n",
              "      <td>221065.911111</td>\n",
              "      <td>0.137374</td>\n",
              "      <td>32.064646</td>\n",
              "      <td>NaN</td>\n",
              "      <td>0.548035</td>\n",
              "      <td>0.517326</td>\n",
              "      <td>-10.461842</td>\n",
              "      <td>0.789899</td>\n",
              "      <td>0.085621</td>\n",
              "      <td>0.398969</td>\n",
              "      <td>0.338569</td>\n",
              "      <td>0.185462</td>\n",
              "      <td>0.378276</td>\n",
              "      <td>118.144028</td>\n",
              "      <td>3.890909</td>\n",
              "      <td>0.490909</td>\n",
              "    </tr>\n",
              "    <tr>\n",
              "      <th>1.0</th>\n",
              "      <td>2147.745283</td>\n",
              "      <td>1.035849</td>\n",
              "      <td>6.307547</td>\n",
              "      <td>250480.715094</td>\n",
              "      <td>0.283019</td>\n",
              "      <td>31.049057</td>\n",
              "      <td>NaN</td>\n",
              "      <td>0.603719</td>\n",
              "      <td>0.558732</td>\n",
              "      <td>-9.750691</td>\n",
              "      <td>0.686792</td>\n",
              "      <td>0.131452</td>\n",
              "      <td>0.321296</td>\n",
              "      <td>0.301386</td>\n",
              "      <td>0.190895</td>\n",
              "      <td>0.392844</td>\n",
              "      <td>117.221072</td>\n",
              "      <td>3.949057</td>\n",
              "      <td>0.500000</td>\n",
              "    </tr>\n",
              "    <tr>\n",
              "      <th>2.0</th>\n",
              "      <td>2247.328395</td>\n",
              "      <td>1.039506</td>\n",
              "      <td>6.506173</td>\n",
              "      <td>231245.464198</td>\n",
              "      <td>0.123457</td>\n",
              "      <td>29.846914</td>\n",
              "      <td>NaN</td>\n",
              "      <td>0.533584</td>\n",
              "      <td>0.535737</td>\n",
              "      <td>-10.179793</td>\n",
              "      <td>0.782716</td>\n",
              "      <td>0.086269</td>\n",
              "      <td>0.374760</td>\n",
              "      <td>0.321024</td>\n",
              "      <td>0.194462</td>\n",
              "      <td>0.375006</td>\n",
              "      <td>116.695281</td>\n",
              "      <td>3.883951</td>\n",
              "      <td>0.459259</td>\n",
              "    </tr>\n",
              "    <tr>\n",
              "      <th>3.0</th>\n",
              "      <td>2125.042857</td>\n",
              "      <td>1.007143</td>\n",
              "      <td>6.385714</td>\n",
              "      <td>212895.457143</td>\n",
              "      <td>0.128571</td>\n",
              "      <td>32.821429</td>\n",
              "      <td>NaN</td>\n",
              "      <td>0.555042</td>\n",
              "      <td>0.431869</td>\n",
              "      <td>-12.807400</td>\n",
              "      <td>0.621429</td>\n",
              "      <td>0.092522</td>\n",
              "      <td>0.503701</td>\n",
              "      <td>0.413260</td>\n",
              "      <td>0.165076</td>\n",
              "      <td>0.352465</td>\n",
              "      <td>113.129664</td>\n",
              "      <td>3.864286</td>\n",
              "      <td>0.585714</td>\n",
              "    </tr>\n",
              "    <tr>\n",
              "      <th>4.0</th>\n",
              "      <td>2096.023490</td>\n",
              "      <td>1.026846</td>\n",
              "      <td>6.721477</td>\n",
              "      <td>242011.560403</td>\n",
              "      <td>0.140940</td>\n",
              "      <td>33.248322</td>\n",
              "      <td>NaN</td>\n",
              "      <td>0.541803</td>\n",
              "      <td>0.536351</td>\n",
              "      <td>-10.178040</td>\n",
              "      <td>0.489933</td>\n",
              "      <td>0.084041</td>\n",
              "      <td>0.392277</td>\n",
              "      <td>0.300525</td>\n",
              "      <td>0.207067</td>\n",
              "      <td>0.378469</td>\n",
              "      <td>119.907872</td>\n",
              "      <td>3.889262</td>\n",
              "      <td>0.500000</td>\n",
              "    </tr>\n",
              "    <tr>\n",
              "      <th>5.0</th>\n",
              "      <td>2136.562310</td>\n",
              "      <td>1.027356</td>\n",
              "      <td>6.519757</td>\n",
              "      <td>266010.182371</td>\n",
              "      <td>0.133739</td>\n",
              "      <td>31.413374</td>\n",
              "      <td>NaN</td>\n",
              "      <td>0.550513</td>\n",
              "      <td>0.536502</td>\n",
              "      <td>-10.515988</td>\n",
              "      <td>0.574468</td>\n",
              "      <td>0.094173</td>\n",
              "      <td>0.396759</td>\n",
              "      <td>0.330578</td>\n",
              "      <td>0.198621</td>\n",
              "      <td>0.396662</td>\n",
              "      <td>116.075881</td>\n",
              "      <td>3.893617</td>\n",
              "      <td>0.492401</td>\n",
              "    </tr>\n",
              "    <tr>\n",
              "      <th>6.0</th>\n",
              "      <td>2081.170492</td>\n",
              "      <td>1.013115</td>\n",
              "      <td>6.501639</td>\n",
              "      <td>249424.918033</td>\n",
              "      <td>0.134426</td>\n",
              "      <td>29.796721</td>\n",
              "      <td>NaN</td>\n",
              "      <td>0.566066</td>\n",
              "      <td>0.541556</td>\n",
              "      <td>-10.186374</td>\n",
              "      <td>0.452459</td>\n",
              "      <td>0.110742</td>\n",
              "      <td>0.363552</td>\n",
              "      <td>0.341945</td>\n",
              "      <td>0.199674</td>\n",
              "      <td>0.387511</td>\n",
              "      <td>119.213754</td>\n",
              "      <td>3.947541</td>\n",
              "      <td>0.491803</td>\n",
              "    </tr>\n",
              "    <tr>\n",
              "      <th>7.0</th>\n",
              "      <td>2222.311751</td>\n",
              "      <td>1.059952</td>\n",
              "      <td>6.568345</td>\n",
              "      <td>232041.546763</td>\n",
              "      <td>0.141487</td>\n",
              "      <td>34.621103</td>\n",
              "      <td>NaN</td>\n",
              "      <td>0.555553</td>\n",
              "      <td>0.536761</td>\n",
              "      <td>-10.542427</td>\n",
              "      <td>0.721823</td>\n",
              "      <td>0.103544</td>\n",
              "      <td>0.376695</td>\n",
              "      <td>0.328109</td>\n",
              "      <td>0.194372</td>\n",
              "      <td>0.395613</td>\n",
              "      <td>117.615417</td>\n",
              "      <td>3.844125</td>\n",
              "      <td>0.450839</td>\n",
              "    </tr>\n",
              "    <tr>\n",
              "      <th>8.0</th>\n",
              "      <td>2278.511327</td>\n",
              "      <td>1.029126</td>\n",
              "      <td>6.508091</td>\n",
              "      <td>232546.417476</td>\n",
              "      <td>0.165049</td>\n",
              "      <td>31.074434</td>\n",
              "      <td>NaN</td>\n",
              "      <td>0.577841</td>\n",
              "      <td>0.500842</td>\n",
              "      <td>-11.172091</td>\n",
              "      <td>0.656958</td>\n",
              "      <td>0.112780</td>\n",
              "      <td>0.397335</td>\n",
              "      <td>0.361743</td>\n",
              "      <td>0.188878</td>\n",
              "      <td>0.369049</td>\n",
              "      <td>115.625071</td>\n",
              "      <td>3.841424</td>\n",
              "      <td>0.488673</td>\n",
              "    </tr>\n",
              "    <tr>\n",
              "      <th>9.0</th>\n",
              "      <td>2148.353808</td>\n",
              "      <td>1.034398</td>\n",
              "      <td>5.992629</td>\n",
              "      <td>235598.395577</td>\n",
              "      <td>0.144963</td>\n",
              "      <td>32.498771</td>\n",
              "      <td>NaN</td>\n",
              "      <td>0.547763</td>\n",
              "      <td>0.536634</td>\n",
              "      <td>-10.229943</td>\n",
              "      <td>0.538084</td>\n",
              "      <td>0.087635</td>\n",
              "      <td>0.385295</td>\n",
              "      <td>0.320845</td>\n",
              "      <td>0.184282</td>\n",
              "      <td>0.386029</td>\n",
              "      <td>120.742818</td>\n",
              "      <td>3.869779</td>\n",
              "      <td>0.501229</td>\n",
              "    </tr>\n",
              "    <tr>\n",
              "      <th>10.0</th>\n",
              "      <td>2171.967320</td>\n",
              "      <td>1.039216</td>\n",
              "      <td>7.336601</td>\n",
              "      <td>215941.264706</td>\n",
              "      <td>0.222222</td>\n",
              "      <td>32.173203</td>\n",
              "      <td>NaN</td>\n",
              "      <td>0.580362</td>\n",
              "      <td>0.513931</td>\n",
              "      <td>-11.093003</td>\n",
              "      <td>0.421569</td>\n",
              "      <td>0.133715</td>\n",
              "      <td>0.377672</td>\n",
              "      <td>0.297620</td>\n",
              "      <td>0.201334</td>\n",
              "      <td>0.394789</td>\n",
              "      <td>116.144804</td>\n",
              "      <td>3.879085</td>\n",
              "      <td>0.480392</td>\n",
              "    </tr>\n",
              "    <tr>\n",
              "      <th>11.0</th>\n",
              "      <td>2022.230114</td>\n",
              "      <td>1.011364</td>\n",
              "      <td>6.502841</td>\n",
              "      <td>262193.292614</td>\n",
              "      <td>0.224432</td>\n",
              "      <td>33.255682</td>\n",
              "      <td>NaN</td>\n",
              "      <td>0.591624</td>\n",
              "      <td>0.579747</td>\n",
              "      <td>-9.536599</td>\n",
              "      <td>0.414773</td>\n",
              "      <td>0.113811</td>\n",
              "      <td>0.308826</td>\n",
              "      <td>0.285394</td>\n",
              "      <td>0.197498</td>\n",
              "      <td>0.424885</td>\n",
              "      <td>121.142912</td>\n",
              "      <td>3.951705</td>\n",
              "      <td>0.465909</td>\n",
              "    </tr>\n",
              "  </tbody>\n",
              "</table>\n",
              "</div>"
            ],
            "text/plain": [
              "       Unnamed: 0  Disc Number  ...  Time Signature     Label\n",
              "Key                             ...                          \n",
              "0.0   2085.915152     1.038384  ...        3.890909  0.490909\n",
              "1.0   2147.745283     1.035849  ...        3.949057  0.500000\n",
              "2.0   2247.328395     1.039506  ...        3.883951  0.459259\n",
              "3.0   2125.042857     1.007143  ...        3.864286  0.585714\n",
              "4.0   2096.023490     1.026846  ...        3.889262  0.500000\n",
              "5.0   2136.562310     1.027356  ...        3.893617  0.492401\n",
              "6.0   2081.170492     1.013115  ...        3.947541  0.491803\n",
              "7.0   2222.311751     1.059952  ...        3.844125  0.450839\n",
              "8.0   2278.511327     1.029126  ...        3.841424  0.488673\n",
              "9.0   2148.353808     1.034398  ...        3.869779  0.501229\n",
              "10.0  2171.967320     1.039216  ...        3.879085  0.480392\n",
              "11.0  2022.230114     1.011364  ...        3.951705  0.465909\n",
              "\n",
              "[12 rows x 19 columns]"
            ]
          },
          "metadata": {
            "tags": []
          },
          "execution_count": 13
        }
      ]
    },
    {
      "cell_type": "markdown",
      "metadata": {
        "id": "gPPVSnMgxHE-"
      },
      "source": [
        "- Songs in C# are on average the most explicit? This is pretty interesting.\n",
        "- The most popular songs have a key of G."
      ]
    },
    {
      "cell_type": "code",
      "metadata": {
        "colab": {
          "base_uri": "https://localhost:8080/"
        },
        "id": "8-FtyLXmyAdz",
        "outputId": "abe27d05-22b5-480c-c2fc-c23f5cca8d45"
      },
      "source": [
        "cmatrix = analysis_data.corr()\n",
        "cmatrix[\"Label\"].sort_values(ascending = False)"
      ],
      "execution_count": 14,
      "outputs": [
        {
          "output_type": "execute_result",
          "data": {
            "text/plain": [
              "Label                  1.000000\n",
              "Popularity             0.188764\n",
              "Mode                   0.048790\n",
              "Loudness               0.024206\n",
              "Tempo                  0.024164\n",
              "Danceability           0.024129\n",
              "Time Signature         0.023851\n",
              "Track Duration (ms)    0.019943\n",
              "Energy                 0.014470\n",
              "Explicit               0.013651\n",
              "Acousticness          -0.008568\n",
              "Key                   -0.012017\n",
              "Valence               -0.013575\n",
              "Disc Number           -0.024896\n",
              "Unnamed: 0            -0.042307\n",
              "Liveness              -0.044454\n",
              "Instrumentalness      -0.076210\n",
              "Speechiness           -0.095719\n",
              "Track Number          -0.136299\n",
              "Added By                    NaN\n",
              "Name: Label, dtype: float64"
            ]
          },
          "metadata": {
            "tags": []
          },
          "execution_count": 14
        }
      ]
    },
    {
      "cell_type": "markdown",
      "metadata": {
        "id": "IVk7OCauykAa"
      },
      "source": [
        "From this correlation reading I'm inclined to believe that Track Number would be rather important in determing which songs I would like, but it's important to rmemeber there may be some bias here because single realeases would have a track number of 1 while tracks that reside within a full album will have a lot more variance."
      ]
    },
    {
      "cell_type": "code",
      "metadata": {
        "colab": {
          "base_uri": "https://localhost:8080/",
          "height": 610
        },
        "id": "mwlcG7P5zyUH",
        "outputId": "823acfaf-c0a2-4826-9e39-37e87e4f4616"
      },
      "source": [
        "pd.crosstab(analysis_data['Track Number'], analysis_data.Label).plot(kind = 'bar', figsize = (20,10))\n",
        "plt.title('Frequency of liked songs by Track Number')\n",
        "plt.xlabel('Track Number')\n",
        "plt.ylabel('Frequency of Occurance')"
      ],
      "execution_count": 15,
      "outputs": [
        {
          "output_type": "execute_result",
          "data": {
            "text/plain": [
              "Text(0, 0.5, 'Frequency of Occurance')"
            ]
          },
          "metadata": {
            "tags": []
          },
          "execution_count": 15
        },
        {
          "output_type": "display_data",
          "data": {
            "image/png": "[encoded data removed]",
            "text/plain": [
              "<Figure size 1440x720 with 1 Axes>"
            ]
          },
          "metadata": {
            "tags": [],
            "needs_background": "light"
          }
        }
      ]
    },
    {
      "cell_type": "markdown",
      "metadata": {
        "id": "yECiJK7G0RhJ"
      },
      "source": [
        "Sure enough we can see this imbalance indicating the presence of the bias I suspected. We will ditch this variable later on in the cleaning phase."
      ]
    },
    {
      "cell_type": "code",
      "metadata": {
        "colab": {
          "base_uri": "https://localhost:8080/",
          "height": 610
        },
        "id": "MyrN-t9n0fbu",
        "outputId": "fbec7fe6-3fe0-49b4-95e8-8f40183f6de9"
      },
      "source": [
        "pd.crosstab(analysis_data['Popularity'].round(), analysis_data.Label).plot(kind = 'bar', figsize = (20,10))\n",
        "plt.title('Frequency of liked songs by Popularity')\n",
        "plt.xlabel('Popularity')\n",
        "plt.ylabel('Frequency of Occurance')"
      ],
      "execution_count": 16,
      "outputs": [
        {
          "output_type": "execute_result",
          "data": {
            "text/plain": [
              "Text(0, 0.5, 'Frequency of Occurance')"
            ]
          },
          "metadata": {
            "tags": []
          },
          "execution_count": 16
        },
        {
          "output_type": "display_data",
          "data": {
            "image/png": "[encoded data removed]",
            "text/plain": [
              "<Figure size 1440x720 with 1 Axes>"
            ]
          },
          "metadata": {
            "tags": [],
            "needs_background": "light"
          }
        }
      ]
    },
    {
      "cell_type": "code",
      "metadata": {
        "colab": {
          "base_uri": "https://localhost:8080/",
          "height": 620
        },
        "id": "efWMmti_4HOE",
        "outputId": "7802f053-c759-4280-a179-9468a2c227ca"
      },
      "source": [
        "pd.crosstab(analysis_data['Key'], analysis_data.Label).plot(kind = 'bar', figsize = (20,10))\n",
        "plt.title('Frequency of liked songs by Key')\n",
        "plt.xlabel('Key')\n",
        "plt.ylabel('Frequency of Occurance')"
      ],
      "execution_count": 17,
      "outputs": [
        {
          "output_type": "execute_result",
          "data": {
            "text/plain": [
              "Text(0, 0.5, 'Frequency of Occurance')"
            ]
          },
          "metadata": {
            "tags": []
          },
          "execution_count": 17
        },
        {
          "output_type": "display_data",
          "data": {
            "image/png": "[encoded data removed]",
            "text/plain": [
              "<Figure size 1440x720 with 1 Axes>"
            ]
          },
          "metadata": {
            "tags": [],
            "needs_background": "light"
          }
        }
      ]
    },
    {
      "cell_type": "markdown",
      "metadata": {
        "id": "ioD1B50g53UO"
      },
      "source": [
        "Nothing incredibly telling with popularity and key. We will keep these variables around. It also appears that there are no major imbalances present (at least in these variables)."
      ]
    },
    {
      "cell_type": "markdown",
      "metadata": {
        "id": "gWIZVk64-eQL"
      },
      "source": [
        "# Data Cleaning"
      ]
    },
    {
      "cell_type": "code",
      "metadata": {
        "id": "ewYg5v5D-eQM"
      },
      "source": [
        "processing_data = raw_data.copy()\n",
        "\n",
        "# Features we are going to be training on\n",
        "features = ['Explicit', \n",
        "            'Popularity', \n",
        "            'Danceability', \n",
        "            'Energy', \n",
        "            'Key', \n",
        "            'Loudness', \n",
        "            'Mode', \n",
        "            'Speechiness', \n",
        "            'Acousticness', \n",
        "            'Instrumentalness', \n",
        "            'Liveness', \n",
        "            'Valence', \n",
        "            'Tempo', \n",
        "            'Time Signature',\n",
        "            'Label']\n",
        "labels = ['Label']\n",
        "\n",
        "processing_data = processing_data[features]"
      ],
      "execution_count": 18,
      "outputs": []
    },
    {
      "cell_type": "code",
      "metadata": {
        "colab": {
          "base_uri": "https://localhost:8080/"
        },
        "id": "KRPs6zcc-eQN",
        "outputId": "64674a5b-f7ce-4ebe-bfa8-e1302b3364f6"
      },
      "source": [
        "processing_data.info()"
      ],
      "execution_count": 19,
      "outputs": [
        {
          "output_type": "stream",
          "text": [
            "<class 'pandas.core.frame.DataFrame'>\n",
            "RangeIndex: 4296 entries, 0 to 4295\n",
            "Data columns (total 15 columns):\n",
            " #   Column            Non-Null Count  Dtype  \n",
            "---  ------            --------------  -----  \n",
            " 0   Explicit          4296 non-null   bool   \n",
            " 1   Popularity        4296 non-null   int64  \n",
            " 2   Danceability      4293 non-null   float64\n",
            " 3   Energy            4293 non-null   float64\n",
            " 4   Key               4293 non-null   float64\n",
            " 5   Loudness          4293 non-null   float64\n",
            " 6   Mode              4293 non-null   float64\n",
            " 7   Speechiness       4293 non-null   float64\n",
            " 8   Acousticness      4293 non-null   float64\n",
            " 9   Instrumentalness  4293 non-null   float64\n",
            " 10  Liveness          4293 non-null   float64\n",
            " 11  Valence           4293 non-null   float64\n",
            " 12  Tempo             4293 non-null   float64\n",
            " 13  Time Signature    4293 non-null   float64\n",
            " 14  Label             4296 non-null   bool   \n",
            "dtypes: bool(2), float64(12), int64(1)\n",
            "memory usage: 444.8 KB\n"
          ],
          "name": "stdout"
        }
      ]
    },
    {
      "cell_type": "code",
      "metadata": {
        "colab": {
          "base_uri": "https://localhost:8080/"
        },
        "id": "59IQkoSk-eQO",
        "outputId": "8f32dd35-93b6-4de2-9baa-a4df10d76901"
      },
      "source": [
        "processing_data['Explicit'].value_counts()"
      ],
      "execution_count": 20,
      "outputs": [
        {
          "output_type": "execute_result",
          "data": {
            "text/plain": [
              "False    3567\n",
              "True      729\n",
              "Name: Explicit, dtype: int64"
            ]
          },
          "metadata": {
            "tags": []
          },
          "execution_count": 20
        }
      ]
    },
    {
      "cell_type": "code",
      "metadata": {
        "colab": {
          "base_uri": "https://localhost:8080/"
        },
        "id": "UnNIF2QN-eQP",
        "outputId": "0c3b1494-9804-464f-fd61-e272f5ac4b01"
      },
      "source": [
        "processing_data['Key'].value_counts()"
      ],
      "execution_count": 21,
      "outputs": [
        {
          "output_type": "execute_result",
          "data": {
            "text/plain": [
              "1.0     530\n",
              "0.0     495\n",
              "7.0     417\n",
              "9.0     407\n",
              "2.0     405\n",
              "11.0    352\n",
              "5.0     329\n",
              "8.0     309\n",
              "10.0    306\n",
              "6.0     305\n",
              "4.0     298\n",
              "3.0     140\n",
              "Name: Key, dtype: int64"
            ]
          },
          "metadata": {
            "tags": []
          },
          "execution_count": 21
        }
      ]
    },
    {
      "cell_type": "code",
      "metadata": {
        "colab": {
          "base_uri": "https://localhost:8080/"
        },
        "id": "eCsRnYH3-eQP",
        "outputId": "795b6b05-3075-4cac-832f-b56abad0218f"
      },
      "source": [
        "processing_data['Mode'].value_counts()"
      ],
      "execution_count": 22,
      "outputs": [
        {
          "output_type": "execute_result",
          "data": {
            "text/plain": [
              "1.0    2630\n",
              "0.0    1663\n",
              "Name: Mode, dtype: int64"
            ]
          },
          "metadata": {
            "tags": []
          },
          "execution_count": 22
        }
      ]
    },
    {
      "cell_type": "code",
      "metadata": {
        "colab": {
          "base_uri": "https://localhost:8080/"
        },
        "id": "Th2f4Npj-eQQ",
        "outputId": "6b1c4814-3ba6-4e12-c869-fd98bd0d82c8"
      },
      "source": [
        "# Checking for imbalance in the Labels (seems pretty good)\n",
        "processing_data['Label'].value_counts(True)"
      ],
      "execution_count": 23,
      "outputs": [
        {
          "output_type": "execute_result",
          "data": {
            "text/plain": [
              "False    0.513035\n",
              "True     0.486965\n",
              "Name: Label, dtype: float64"
            ]
          },
          "metadata": {
            "tags": []
          },
          "execution_count": 23
        }
      ]
    },
    {
      "cell_type": "code",
      "metadata": {
        "colab": {
          "base_uri": "https://localhost:8080/"
        },
        "id": "2dCOOYLL-eQQ",
        "outputId": "1c429275-c746-4b07-8805-4336cbdf85ca"
      },
      "source": [
        "for col in processing_data.columns:\n",
        "    print(col, \":\", processing_data[col].isnull().sum())"
      ],
      "execution_count": 24,
      "outputs": [
        {
          "output_type": "stream",
          "text": [
            "Explicit : 0\n",
            "Popularity : 0\n",
            "Danceability : 3\n",
            "Energy : 3\n",
            "Key : 3\n",
            "Loudness : 3\n",
            "Mode : 3\n",
            "Speechiness : 3\n",
            "Acousticness : 3\n",
            "Instrumentalness : 3\n",
            "Liveness : 3\n",
            "Valence : 3\n",
            "Tempo : 3\n",
            "Time Signature : 3\n",
            "Label : 0\n"
          ],
          "name": "stdout"
        }
      ]
    },
    {
      "cell_type": "code",
      "metadata": {
        "colab": {
          "base_uri": "https://localhost:8080/",
          "height": 181
        },
        "id": "bVe8up0S-eQQ",
        "outputId": "3bc1729a-cbc7-4cbf-9774-2148bf6fc4d1"
      },
      "source": [
        "processing_data[processing_data['Danceability'].isna()]"
      ],
      "execution_count": 25,
      "outputs": [
        {
          "output_type": "execute_result",
          "data": {
            "text/html": [
              "<div>\n",
              "<style scoped>\n",
              "    .dataframe tbody tr th:only-of-type {\n",
              "        vertical-align: middle;\n",
              "    }\n",
              "\n",
              "    .dataframe tbody tr th {\n",
              "        vertical-align: top;\n",
              "    }\n",
              "\n",
              "    .dataframe thead th {\n",
              "        text-align: right;\n",
              "    }\n",
              "</style>\n",
              "<table border=\"1\" class=\"dataframe\">\n",
              "  <thead>\n",
              "    <tr style=\"text-align: right;\">\n",
              "      <th></th>\n",
              "      <th>Explicit</th>\n",
              "      <th>Popularity</th>\n",
              "      <th>Danceability</th>\n",
              "      <th>Energy</th>\n",
              "      <th>Key</th>\n",
              "      <th>Loudness</th>\n",
              "      <th>Mode</th>\n",
              "      <th>Speechiness</th>\n",
              "      <th>Acousticness</th>\n",
              "      <th>Instrumentalness</th>\n",
              "      <th>Liveness</th>\n",
              "      <th>Valence</th>\n",
              "      <th>Tempo</th>\n",
              "      <th>Time Signature</th>\n",
              "      <th>Label</th>\n",
              "    </tr>\n",
              "  </thead>\n",
              "  <tbody>\n",
              "    <tr>\n",
              "      <th>491</th>\n",
              "      <td>False</td>\n",
              "      <td>8</td>\n",
              "      <td>NaN</td>\n",
              "      <td>NaN</td>\n",
              "      <td>NaN</td>\n",
              "      <td>NaN</td>\n",
              "      <td>NaN</td>\n",
              "      <td>NaN</td>\n",
              "      <td>NaN</td>\n",
              "      <td>NaN</td>\n",
              "      <td>NaN</td>\n",
              "      <td>NaN</td>\n",
              "      <td>NaN</td>\n",
              "      <td>NaN</td>\n",
              "      <td>True</td>\n",
              "    </tr>\n",
              "    <tr>\n",
              "      <th>703</th>\n",
              "      <td>False</td>\n",
              "      <td>0</td>\n",
              "      <td>NaN</td>\n",
              "      <td>NaN</td>\n",
              "      <td>NaN</td>\n",
              "      <td>NaN</td>\n",
              "      <td>NaN</td>\n",
              "      <td>NaN</td>\n",
              "      <td>NaN</td>\n",
              "      <td>NaN</td>\n",
              "      <td>NaN</td>\n",
              "      <td>NaN</td>\n",
              "      <td>NaN</td>\n",
              "      <td>NaN</td>\n",
              "      <td>False</td>\n",
              "    </tr>\n",
              "    <tr>\n",
              "      <th>2067</th>\n",
              "      <td>False</td>\n",
              "      <td>0</td>\n",
              "      <td>NaN</td>\n",
              "      <td>NaN</td>\n",
              "      <td>NaN</td>\n",
              "      <td>NaN</td>\n",
              "      <td>NaN</td>\n",
              "      <td>NaN</td>\n",
              "      <td>NaN</td>\n",
              "      <td>NaN</td>\n",
              "      <td>NaN</td>\n",
              "      <td>NaN</td>\n",
              "      <td>NaN</td>\n",
              "      <td>NaN</td>\n",
              "      <td>False</td>\n",
              "    </tr>\n",
              "  </tbody>\n",
              "</table>\n",
              "</div>"
            ],
            "text/plain": [
              "      Explicit  Popularity  Danceability  ...  Tempo  Time Signature  Label\n",
              "491      False           8           NaN  ...    NaN             NaN   True\n",
              "703      False           0           NaN  ...    NaN             NaN  False\n",
              "2067     False           0           NaN  ...    NaN             NaN  False\n",
              "\n",
              "[3 rows x 15 columns]"
            ]
          },
          "metadata": {
            "tags": []
          },
          "execution_count": 25
        }
      ]
    },
    {
      "cell_type": "code",
      "metadata": {
        "id": "C6mM9unp-eQR"
      },
      "source": [
        "# Drop rows that contain any null values\n",
        "processing_data.dropna(inplace = True)"
      ],
      "execution_count": 26,
      "outputs": []
    },
    {
      "cell_type": "code",
      "metadata": {
        "colab": {
          "base_uri": "https://localhost:8080/"
        },
        "id": "ZyGxsbVF-eQR",
        "outputId": "388ebd0e-7349-4cdd-f81c-c65528d37ac2"
      },
      "source": [
        "# Ensuring all features were fixed\n",
        "for col in processing_data.columns:\n",
        "    print(col, \":\", processing_data[col].isnull().sum())"
      ],
      "execution_count": 27,
      "outputs": [
        {
          "output_type": "stream",
          "text": [
            "Explicit : 0\n",
            "Popularity : 0\n",
            "Danceability : 0\n",
            "Energy : 0\n",
            "Key : 0\n",
            "Loudness : 0\n",
            "Mode : 0\n",
            "Speechiness : 0\n",
            "Acousticness : 0\n",
            "Instrumentalness : 0\n",
            "Liveness : 0\n",
            "Valence : 0\n",
            "Tempo : 0\n",
            "Time Signature : 0\n",
            "Label : 0\n"
          ],
          "name": "stdout"
        }
      ]
    },
    {
      "cell_type": "code",
      "metadata": {
        "id": "uaIw_Nsb-eQR"
      },
      "source": [
        "# Replacing any NaN values with median\n",
        "for col in processing_data.columns:\n",
        "    if processing_data[col].isnull().sum() > 0 == True and processing_data[col].dtypes not in ['bool', 'category'] == True:\n",
        "        processing_data[col] = processing_data[col].fillna(processing_data[col].median())"
      ],
      "execution_count": 28,
      "outputs": []
    },
    {
      "cell_type": "code",
      "metadata": {
        "colab": {
          "base_uri": "https://localhost:8080/",
          "height": 1000
        },
        "id": "PDQl7V1KCZLL",
        "outputId": "6b14dc47-ebdf-4d81-a002-f4515605036f"
      },
      "source": [
        "# Overview of whole data set\n",
        "import matplotlib.pyplot as plt\n",
        "\n",
        "processing_data[:-1].hist(bins = 50, figsize = (20,15))\n",
        "plt.show()"
      ],
      "execution_count": 29,
      "outputs": [
        {
          "output_type": "stream",
          "text": [
            "<string>:6: RuntimeWarning: Converting input from bool to <class 'numpy.uint8'> for compatibility.\n"
          ],
          "name": "stderr"
        },
        {
          "output_type": "error",
          "ename": "TypeError",
          "evalue": "ignored",
          "traceback": [
            "\u001b[0;31m---------------------------------------------------------------------------\u001b[0m",
            "\u001b[0;31mKeyError\u001b[0m                                  Traceback (most recent call last)",
            "\u001b[0;32m/usr/local/lib/python3.7/dist-packages/numpy/lib/histograms.py\u001b[0m in \u001b[0;36m_unsigned_subtract\u001b[0;34m(a, b)\u001b[0m\n\u001b[1;32m    350\u001b[0m     \u001b[0;32mtry\u001b[0m\u001b[0;34m:\u001b[0m\u001b[0;34m\u001b[0m\u001b[0;34m\u001b[0m\u001b[0m\n\u001b[0;32m--> 351\u001b[0;31m         \u001b[0mdt\u001b[0m \u001b[0;34m=\u001b[0m \u001b[0msigned_to_unsigned\u001b[0m\u001b[0;34m[\u001b[0m\u001b[0mdt\u001b[0m\u001b[0;34m.\u001b[0m\u001b[0mtype\u001b[0m\u001b[0;34m]\u001b[0m\u001b[0;34m\u001b[0m\u001b[0;34m\u001b[0m\u001b[0m\n\u001b[0m\u001b[1;32m    352\u001b[0m     \u001b[0;32mexcept\u001b[0m \u001b[0mKeyError\u001b[0m\u001b[0;34m:\u001b[0m\u001b[0;34m\u001b[0m\u001b[0;34m\u001b[0m\u001b[0m\n",
            "\u001b[0;31mKeyError\u001b[0m: <class 'numpy.bool_'>",
            "\nDuring handling of the above exception, another exception occurred:\n",
            "\u001b[0;31mTypeError\u001b[0m                                 Traceback (most recent call last)",
            "\u001b[0;32m<ipython-input-29-79771f26b90f>\u001b[0m in \u001b[0;36m<module>\u001b[0;34m()\u001b[0m\n\u001b[1;32m      2\u001b[0m \u001b[0;32mimport\u001b[0m \u001b[0mmatplotlib\u001b[0m\u001b[0;34m.\u001b[0m\u001b[0mpyplot\u001b[0m \u001b[0;32mas\u001b[0m \u001b[0mplt\u001b[0m\u001b[0;34m\u001b[0m\u001b[0;34m\u001b[0m\u001b[0m\n\u001b[1;32m      3\u001b[0m \u001b[0;34m\u001b[0m\u001b[0m\n\u001b[0;32m----> 4\u001b[0;31m \u001b[0mprocessing_data\u001b[0m\u001b[0;34m[\u001b[0m\u001b[0;34m:\u001b[0m\u001b[0;34m-\u001b[0m\u001b[0;36m1\u001b[0m\u001b[0;34m]\u001b[0m\u001b[0;34m.\u001b[0m\u001b[0mhist\u001b[0m\u001b[0;34m(\u001b[0m\u001b[0mbins\u001b[0m \u001b[0;34m=\u001b[0m \u001b[0;36m50\u001b[0m\u001b[0;34m,\u001b[0m \u001b[0mfigsize\u001b[0m \u001b[0;34m=\u001b[0m \u001b[0;34m(\u001b[0m\u001b[0;36m20\u001b[0m\u001b[0;34m,\u001b[0m\u001b[0;36m15\u001b[0m\u001b[0;34m)\u001b[0m\u001b[0;34m)\u001b[0m\u001b[0;34m\u001b[0m\u001b[0;34m\u001b[0m\u001b[0m\n\u001b[0m\u001b[1;32m      5\u001b[0m \u001b[0mplt\u001b[0m\u001b[0;34m.\u001b[0m\u001b[0mshow\u001b[0m\u001b[0;34m(\u001b[0m\u001b[0;34m)\u001b[0m\u001b[0;34m\u001b[0m\u001b[0;34m\u001b[0m\u001b[0m\n",
            "\u001b[0;32m/usr/local/lib/python3.7/dist-packages/pandas/plotting/_core.py\u001b[0m in \u001b[0;36mhist_frame\u001b[0;34m(data, column, by, grid, xlabelsize, xrot, ylabelsize, yrot, ax, sharex, sharey, figsize, layout, bins, backend, legend, **kwargs)\u001b[0m\n\u001b[1;32m    225\u001b[0m         \u001b[0mlegend\u001b[0m\u001b[0;34m=\u001b[0m\u001b[0mlegend\u001b[0m\u001b[0;34m,\u001b[0m\u001b[0;34m\u001b[0m\u001b[0;34m\u001b[0m\u001b[0m\n\u001b[1;32m    226\u001b[0m         \u001b[0mbins\u001b[0m\u001b[0;34m=\u001b[0m\u001b[0mbins\u001b[0m\u001b[0;34m,\u001b[0m\u001b[0;34m\u001b[0m\u001b[0;34m\u001b[0m\u001b[0m\n\u001b[0;32m--> 227\u001b[0;31m         \u001b[0;34m**\u001b[0m\u001b[0mkwargs\u001b[0m\u001b[0;34m,\u001b[0m\u001b[0;34m\u001b[0m\u001b[0;34m\u001b[0m\u001b[0m\n\u001b[0m\u001b[1;32m    228\u001b[0m     )\n\u001b[1;32m    229\u001b[0m \u001b[0;34m\u001b[0m\u001b[0m\n",
            "\u001b[0;32m/usr/local/lib/python3.7/dist-packages/pandas/plotting/_matplotlib/hist.py\u001b[0m in \u001b[0;36mhist_frame\u001b[0;34m(data, column, by, grid, xlabelsize, xrot, ylabelsize, yrot, ax, sharex, sharey, figsize, layout, bins, legend, **kwds)\u001b[0m\n\u001b[1;32m    432\u001b[0m         \u001b[0;32mif\u001b[0m \u001b[0mlegend\u001b[0m \u001b[0;32mand\u001b[0m \u001b[0mcan_set_label\u001b[0m\u001b[0;34m:\u001b[0m\u001b[0;34m\u001b[0m\u001b[0;34m\u001b[0m\u001b[0m\n\u001b[1;32m    433\u001b[0m             \u001b[0mkwds\u001b[0m\u001b[0;34m[\u001b[0m\u001b[0;34m\"label\"\u001b[0m\u001b[0;34m]\u001b[0m \u001b[0;34m=\u001b[0m \u001b[0mcol\u001b[0m\u001b[0;34m\u001b[0m\u001b[0;34m\u001b[0m\u001b[0m\n\u001b[0;32m--> 434\u001b[0;31m         \u001b[0max\u001b[0m\u001b[0;34m.\u001b[0m\u001b[0mhist\u001b[0m\u001b[0;34m(\u001b[0m\u001b[0mdata\u001b[0m\u001b[0;34m[\u001b[0m\u001b[0mcol\u001b[0m\u001b[0;34m]\u001b[0m\u001b[0;34m.\u001b[0m\u001b[0mdropna\u001b[0m\u001b[0;34m(\u001b[0m\u001b[0;34m)\u001b[0m\u001b[0;34m.\u001b[0m\u001b[0mvalues\u001b[0m\u001b[0;34m,\u001b[0m \u001b[0mbins\u001b[0m\u001b[0;34m=\u001b[0m\u001b[0mbins\u001b[0m\u001b[0;34m,\u001b[0m \u001b[0;34m**\u001b[0m\u001b[0mkwds\u001b[0m\u001b[0;34m)\u001b[0m\u001b[0;34m\u001b[0m\u001b[0;34m\u001b[0m\u001b[0m\n\u001b[0m\u001b[1;32m    435\u001b[0m         \u001b[0max\u001b[0m\u001b[0;34m.\u001b[0m\u001b[0mset_title\u001b[0m\u001b[0;34m(\u001b[0m\u001b[0mcol\u001b[0m\u001b[0;34m)\u001b[0m\u001b[0;34m\u001b[0m\u001b[0;34m\u001b[0m\u001b[0m\n\u001b[1;32m    436\u001b[0m         \u001b[0max\u001b[0m\u001b[0;34m.\u001b[0m\u001b[0mgrid\u001b[0m\u001b[0;34m(\u001b[0m\u001b[0mgrid\u001b[0m\u001b[0;34m)\u001b[0m\u001b[0;34m\u001b[0m\u001b[0;34m\u001b[0m\u001b[0m\n",
            "\u001b[0;32m/usr/local/lib/python3.7/dist-packages/matplotlib/__init__.py\u001b[0m in \u001b[0;36minner\u001b[0;34m(ax, data, *args, **kwargs)\u001b[0m\n\u001b[1;32m   1563\u001b[0m     \u001b[0;32mdef\u001b[0m \u001b[0minner\u001b[0m\u001b[0;34m(\u001b[0m\u001b[0max\u001b[0m\u001b[0;34m,\u001b[0m \u001b[0;34m*\u001b[0m\u001b[0margs\u001b[0m\u001b[0;34m,\u001b[0m \u001b[0mdata\u001b[0m\u001b[0;34m=\u001b[0m\u001b[0;32mNone\u001b[0m\u001b[0;34m,\u001b[0m \u001b[0;34m**\u001b[0m\u001b[0mkwargs\u001b[0m\u001b[0;34m)\u001b[0m\u001b[0;34m:\u001b[0m\u001b[0;34m\u001b[0m\u001b[0;34m\u001b[0m\u001b[0m\n\u001b[1;32m   1564\u001b[0m         \u001b[0;32mif\u001b[0m \u001b[0mdata\u001b[0m \u001b[0;32mis\u001b[0m \u001b[0;32mNone\u001b[0m\u001b[0;34m:\u001b[0m\u001b[0;34m\u001b[0m\u001b[0;34m\u001b[0m\u001b[0m\n\u001b[0;32m-> 1565\u001b[0;31m             \u001b[0;32mreturn\u001b[0m \u001b[0mfunc\u001b[0m\u001b[0;34m(\u001b[0m\u001b[0max\u001b[0m\u001b[0;34m,\u001b[0m \u001b[0;34m*\u001b[0m\u001b[0mmap\u001b[0m\u001b[0;34m(\u001b[0m\u001b[0msanitize_sequence\u001b[0m\u001b[0;34m,\u001b[0m \u001b[0margs\u001b[0m\u001b[0;34m)\u001b[0m\u001b[0;34m,\u001b[0m \u001b[0;34m**\u001b[0m\u001b[0mkwargs\u001b[0m\u001b[0;34m)\u001b[0m\u001b[0;34m\u001b[0m\u001b[0;34m\u001b[0m\u001b[0m\n\u001b[0m\u001b[1;32m   1566\u001b[0m \u001b[0;34m\u001b[0m\u001b[0m\n\u001b[1;32m   1567\u001b[0m         \u001b[0mbound\u001b[0m \u001b[0;34m=\u001b[0m \u001b[0mnew_sig\u001b[0m\u001b[0;34m.\u001b[0m\u001b[0mbind\u001b[0m\u001b[0;34m(\u001b[0m\u001b[0max\u001b[0m\u001b[0;34m,\u001b[0m \u001b[0;34m*\u001b[0m\u001b[0margs\u001b[0m\u001b[0;34m,\u001b[0m \u001b[0;34m**\u001b[0m\u001b[0mkwargs\u001b[0m\u001b[0;34m)\u001b[0m\u001b[0;34m\u001b[0m\u001b[0;34m\u001b[0m\u001b[0m\n",
            "\u001b[0;32m/usr/local/lib/python3.7/dist-packages/matplotlib/axes/_axes.py\u001b[0m in \u001b[0;36mhist\u001b[0;34m(self, x, bins, range, density, weights, cumulative, bottom, histtype, align, orientation, rwidth, log, color, label, stacked, **kwargs)\u001b[0m\n\u001b[1;32m   6658\u001b[0m             \u001b[0;31m# this will automatically overwrite bins,\u001b[0m\u001b[0;34m\u001b[0m\u001b[0;34m\u001b[0m\u001b[0;34m\u001b[0m\u001b[0m\n\u001b[1;32m   6659\u001b[0m             \u001b[0;31m# so that each histogram uses the same bins\u001b[0m\u001b[0;34m\u001b[0m\u001b[0;34m\u001b[0m\u001b[0;34m\u001b[0m\u001b[0m\n\u001b[0;32m-> 6660\u001b[0;31m             \u001b[0mm\u001b[0m\u001b[0;34m,\u001b[0m \u001b[0mbins\u001b[0m \u001b[0;34m=\u001b[0m \u001b[0mnp\u001b[0m\u001b[0;34m.\u001b[0m\u001b[0mhistogram\u001b[0m\u001b[0;34m(\u001b[0m\u001b[0mx\u001b[0m\u001b[0;34m[\u001b[0m\u001b[0mi\u001b[0m\u001b[0;34m]\u001b[0m\u001b[0;34m,\u001b[0m \u001b[0mbins\u001b[0m\u001b[0;34m,\u001b[0m \u001b[0mweights\u001b[0m\u001b[0;34m=\u001b[0m\u001b[0mw\u001b[0m\u001b[0;34m[\u001b[0m\u001b[0mi\u001b[0m\u001b[0;34m]\u001b[0m\u001b[0;34m,\u001b[0m \u001b[0;34m**\u001b[0m\u001b[0mhist_kwargs\u001b[0m\u001b[0;34m)\u001b[0m\u001b[0;34m\u001b[0m\u001b[0;34m\u001b[0m\u001b[0m\n\u001b[0m\u001b[1;32m   6661\u001b[0m             \u001b[0mtops\u001b[0m\u001b[0;34m.\u001b[0m\u001b[0mappend\u001b[0m\u001b[0;34m(\u001b[0m\u001b[0mm\u001b[0m\u001b[0;34m)\u001b[0m\u001b[0;34m\u001b[0m\u001b[0;34m\u001b[0m\u001b[0m\n\u001b[1;32m   6662\u001b[0m         \u001b[0mtops\u001b[0m \u001b[0;34m=\u001b[0m \u001b[0mnp\u001b[0m\u001b[0;34m.\u001b[0m\u001b[0marray\u001b[0m\u001b[0;34m(\u001b[0m\u001b[0mtops\u001b[0m\u001b[0;34m,\u001b[0m \u001b[0mfloat\u001b[0m\u001b[0;34m)\u001b[0m  \u001b[0;31m# causes problems later if it's an int\u001b[0m\u001b[0;34m\u001b[0m\u001b[0;34m\u001b[0m\u001b[0m\n",
            "\u001b[0;32m<__array_function__ internals>\u001b[0m in \u001b[0;36mhistogram\u001b[0;34m(*args, **kwargs)\u001b[0m\n",
            "\u001b[0;32m/usr/local/lib/python3.7/dist-packages/numpy/lib/histograms.py\u001b[0m in \u001b[0;36mhistogram\u001b[0;34m(a, bins, range, normed, weights, density)\u001b[0m\n\u001b[1;32m    820\u001b[0m \u001b[0;34m\u001b[0m\u001b[0m\n\u001b[1;32m    821\u001b[0m         \u001b[0;31m# Pre-compute histogram scaling factor\u001b[0m\u001b[0;34m\u001b[0m\u001b[0;34m\u001b[0m\u001b[0;34m\u001b[0m\u001b[0m\n\u001b[0;32m--> 822\u001b[0;31m         \u001b[0mnorm\u001b[0m \u001b[0;34m=\u001b[0m \u001b[0mn_equal_bins\u001b[0m \u001b[0;34m/\u001b[0m \u001b[0m_unsigned_subtract\u001b[0m\u001b[0;34m(\u001b[0m\u001b[0mlast_edge\u001b[0m\u001b[0;34m,\u001b[0m \u001b[0mfirst_edge\u001b[0m\u001b[0;34m)\u001b[0m\u001b[0;34m\u001b[0m\u001b[0;34m\u001b[0m\u001b[0m\n\u001b[0m\u001b[1;32m    823\u001b[0m \u001b[0;34m\u001b[0m\u001b[0m\n\u001b[1;32m    824\u001b[0m         \u001b[0;31m# We iterate over blocks here for two reasons: the first is that for\u001b[0m\u001b[0;34m\u001b[0m\u001b[0;34m\u001b[0m\u001b[0;34m\u001b[0m\u001b[0m\n",
            "\u001b[0;32m/usr/local/lib/python3.7/dist-packages/numpy/lib/histograms.py\u001b[0m in \u001b[0;36m_unsigned_subtract\u001b[0;34m(a, b)\u001b[0m\n\u001b[1;32m    351\u001b[0m         \u001b[0mdt\u001b[0m \u001b[0;34m=\u001b[0m \u001b[0msigned_to_unsigned\u001b[0m\u001b[0;34m[\u001b[0m\u001b[0mdt\u001b[0m\u001b[0;34m.\u001b[0m\u001b[0mtype\u001b[0m\u001b[0;34m]\u001b[0m\u001b[0;34m\u001b[0m\u001b[0;34m\u001b[0m\u001b[0m\n\u001b[1;32m    352\u001b[0m     \u001b[0;32mexcept\u001b[0m \u001b[0mKeyError\u001b[0m\u001b[0;34m:\u001b[0m\u001b[0;34m\u001b[0m\u001b[0;34m\u001b[0m\u001b[0m\n\u001b[0;32m--> 353\u001b[0;31m         \u001b[0;32mreturn\u001b[0m \u001b[0mnp\u001b[0m\u001b[0;34m.\u001b[0m\u001b[0msubtract\u001b[0m\u001b[0;34m(\u001b[0m\u001b[0ma\u001b[0m\u001b[0;34m,\u001b[0m \u001b[0mb\u001b[0m\u001b[0;34m,\u001b[0m \u001b[0mdtype\u001b[0m\u001b[0;34m=\u001b[0m\u001b[0mdt\u001b[0m\u001b[0;34m)\u001b[0m\u001b[0;34m\u001b[0m\u001b[0;34m\u001b[0m\u001b[0m\n\u001b[0m\u001b[1;32m    354\u001b[0m     \u001b[0;32melse\u001b[0m\u001b[0;34m:\u001b[0m\u001b[0;34m\u001b[0m\u001b[0;34m\u001b[0m\u001b[0m\n\u001b[1;32m    355\u001b[0m         \u001b[0;31m# we know the inputs are integers, and we are deliberately casting\u001b[0m\u001b[0;34m\u001b[0m\u001b[0;34m\u001b[0m\u001b[0;34m\u001b[0m\u001b[0m\n",
            "\u001b[0;31mTypeError\u001b[0m: numpy boolean subtract, the `-` operator, is not supported, use the bitwise_xor, the `^` operator, or the logical_xor function instead."
          ]
        },
        {
          "output_type": "display_data",
          "data": {
            "image/png": "[encoded data removed]",
            "text/plain": [
              "<Figure size 1440x1080 with 16 Axes>"
            ]
          },
          "metadata": {
            "tags": [],
            "needs_background": "light"
          }
        }
      ]
    },
    {
      "cell_type": "code",
      "metadata": {
        "id": "vaS3Bh6a-eQS",
        "colab": {
          "base_uri": "https://localhost:8080/"
        },
        "outputId": "0a36b34a-3a47-4bb0-e156-403929b0164d"
      },
      "source": [
        "cmatrix = processing_data.corr()\n",
        "cmatrix[\"Label\"].sort_values(ascending = False)"
      ],
      "execution_count": 30,
      "outputs": [
        {
          "output_type": "execute_result",
          "data": {
            "text/plain": [
              "Label               1.000000\n",
              "Popularity          0.188560\n",
              "Mode                0.048790\n",
              "Loudness            0.024206\n",
              "Tempo               0.024164\n",
              "Danceability        0.024129\n",
              "Time Signature      0.023851\n",
              "Energy              0.014470\n",
              "Explicit            0.013560\n",
              "Acousticness       -0.008568\n",
              "Key                -0.012017\n",
              "Valence            -0.013575\n",
              "Liveness           -0.044454\n",
              "Instrumentalness   -0.076210\n",
              "Speechiness        -0.095719\n",
              "Name: Label, dtype: float64"
            ]
          },
          "metadata": {
            "tags": []
          },
          "execution_count": 30
        }
      ]
    },
    {
      "cell_type": "code",
      "metadata": {
        "colab": {
          "base_uri": "https://localhost:8080/"
        },
        "id": "PuyZnUzbhg8M",
        "outputId": "dadc16a9-b44a-4ce7-da08-9cf81c273964"
      },
      "source": [
        "processing_data.info()"
      ],
      "execution_count": 31,
      "outputs": [
        {
          "output_type": "stream",
          "text": [
            "<class 'pandas.core.frame.DataFrame'>\n",
            "Int64Index: 4293 entries, 0 to 4295\n",
            "Data columns (total 15 columns):\n",
            " #   Column            Non-Null Count  Dtype  \n",
            "---  ------            --------------  -----  \n",
            " 0   Explicit          4293 non-null   bool   \n",
            " 1   Popularity        4293 non-null   int64  \n",
            " 2   Danceability      4293 non-null   float64\n",
            " 3   Energy            4293 non-null   float64\n",
            " 4   Key               4293 non-null   float64\n",
            " 5   Loudness          4293 non-null   float64\n",
            " 6   Mode              4293 non-null   float64\n",
            " 7   Speechiness       4293 non-null   float64\n",
            " 8   Acousticness      4293 non-null   float64\n",
            " 9   Instrumentalness  4293 non-null   float64\n",
            " 10  Liveness          4293 non-null   float64\n",
            " 11  Valence           4293 non-null   float64\n",
            " 12  Tempo             4293 non-null   float64\n",
            " 13  Time Signature    4293 non-null   float64\n",
            " 14  Label             4293 non-null   bool   \n",
            "dtypes: bool(2), float64(12), int64(1)\n",
            "memory usage: 477.9 KB\n"
          ],
          "name": "stdout"
        }
      ]
    },
    {
      "cell_type": "code",
      "metadata": {
        "colab": {
          "base_uri": "https://localhost:8080/"
        },
        "id": "obO3v-QsiIwL",
        "outputId": "ed52250d-90d4-4882-dcb2-9f23e097bfc4"
      },
      "source": [
        "processing_data.info()"
      ],
      "execution_count": 32,
      "outputs": [
        {
          "output_type": "stream",
          "text": [
            "<class 'pandas.core.frame.DataFrame'>\n",
            "Int64Index: 4293 entries, 0 to 4295\n",
            "Data columns (total 15 columns):\n",
            " #   Column            Non-Null Count  Dtype  \n",
            "---  ------            --------------  -----  \n",
            " 0   Explicit          4293 non-null   bool   \n",
            " 1   Popularity        4293 non-null   int64  \n",
            " 2   Danceability      4293 non-null   float64\n",
            " 3   Energy            4293 non-null   float64\n",
            " 4   Key               4293 non-null   float64\n",
            " 5   Loudness          4293 non-null   float64\n",
            " 6   Mode              4293 non-null   float64\n",
            " 7   Speechiness       4293 non-null   float64\n",
            " 8   Acousticness      4293 non-null   float64\n",
            " 9   Instrumentalness  4293 non-null   float64\n",
            " 10  Liveness          4293 non-null   float64\n",
            " 11  Valence           4293 non-null   float64\n",
            " 12  Tempo             4293 non-null   float64\n",
            " 13  Time Signature    4293 non-null   float64\n",
            " 14  Label             4293 non-null   bool   \n",
            "dtypes: bool(2), float64(12), int64(1)\n",
            "memory usage: 477.9 KB\n"
          ],
          "name": "stdout"
        }
      ]
    },
    {
      "cell_type": "markdown",
      "metadata": {
        "id": "jt6EYdMuZ_Rq"
      },
      "source": [
        "# Data Set Splitting"
      ]
    },
    {
      "cell_type": "code",
      "metadata": {
        "id": "_qsk7uKV-eQV"
      },
      "source": [
        "from sklearn.model_selection import train_test_split\n",
        "\n",
        "ds_features = processing_data[features[:-1]]\n",
        "ds_labels = processing_data['Label']\n",
        "\n",
        "train_X, validation_X, train_Y, validation_Y  = train_test_split(ds_features, \n",
        "                                                                 ds_labels,\n",
        "                                                                 test_size = 0.20)"
      ],
      "execution_count": 33,
      "outputs": []
    },
    {
      "cell_type": "code",
      "metadata": {
        "colab": {
          "base_uri": "https://localhost:8080/"
        },
        "id": "EXshaf-B7-SO",
        "outputId": "4468e4f8-562e-46fe-e111-2dcd53122423"
      },
      "source": [
        "from imblearn.over_sampling import SMOTE\n",
        "\n",
        "samp = SMOTE(random_state = 0)\n",
        "\n",
        "columns = train_X.columns\n",
        "\n",
        "os_data_X, os_data_Y = samp.fit_sample(train_X, train_Y)\n",
        "\n",
        "os_data_X = pd.DataFrame(data = os_data_X, columns = columns)\n",
        "os_data_Y = pd.DataFrame(data = os_data_Y, columns = ['Label'])"
      ],
      "execution_count": 34,
      "outputs": [
        {
          "output_type": "stream",
          "text": [
            "/usr/local/lib/python3.7/dist-packages/sklearn/externals/six.py:31: FutureWarning: The module is deprecated in version 0.21 and will be removed in version 0.23 since we've dropped support for Python 2.7. Please rely on the official version of six (https://pypi.org/project/six/).\n",
            "  \"(https://pypi.org/project/six/).\", FutureWarning)\n",
            "/usr/local/lib/python3.7/dist-packages/sklearn/utils/deprecation.py:144: FutureWarning: The sklearn.neighbors.base module is  deprecated in version 0.22 and will be removed in version 0.24. The corresponding classes / functions should instead be imported from sklearn.neighbors. Anything that cannot be imported from sklearn.neighbors is now part of the private API.\n",
            "  warnings.warn(message, FutureWarning)\n",
            "/usr/local/lib/python3.7/dist-packages/sklearn/utils/deprecation.py:87: FutureWarning: Function safe_indexing is deprecated; safe_indexing is deprecated in version 0.22 and will be removed in version 0.24.\n",
            "  warnings.warn(msg, category=FutureWarning)\n"
          ],
          "name": "stderr"
        }
      ]
    },
    {
      "cell_type": "markdown",
      "metadata": {
        "id": "B9fQZLQ5DNz7"
      },
      "source": [
        "# Logistic Regression Approach"
      ]
    },
    {
      "cell_type": "markdown",
      "metadata": {
        "id": "zxYUtMAfmz41"
      },
      "source": [
        "## Prep"
      ]
    },
    {
      "cell_type": "code",
      "metadata": {
        "id": "jOiTHeNfNq3V"
      },
      "source": [
        "# Converting Trues and Falses into 0 or 1\n",
        "processing_data[processing_data[:] == True] = 1.0\n",
        "processing_data[processing_data[:] == False] = 0.0\n",
        "processing_data['Label'] = processing_data['Label'].astype('float64')"
      ],
      "execution_count": 35,
      "outputs": []
    },
    {
      "cell_type": "markdown",
      "metadata": {
        "id": "Nlb4ENFgm2W8"
      },
      "source": [
        "## Recursive Feature Elimination"
      ]
    },
    {
      "cell_type": "code",
      "metadata": {
        "colab": {
          "base_uri": "https://localhost:8080/"
        },
        "id": "tlhv4yLPCcVr",
        "outputId": "dc8c40af-b626-4905-e070-42c7668af23d"
      },
      "source": [
        "from sklearn.feature_selection import RFE\n",
        "from sklearn.linear_model import LogisticRegression\n",
        "\n",
        "l_reg = LogisticRegression()\n",
        "\n",
        "selection = RFE(l_reg, 50)\n",
        "selection = selection.fit(os_data_X, os_data_Y.values.ravel())\n",
        "print(selection.support_)\n",
        "print(selection.ranking_)"
      ],
      "execution_count": 36,
      "outputs": [
        {
          "output_type": "stream",
          "text": [
            "[ True  True  True  True  True  True  True  True  True  True  True  True\n",
            "  True  True]\n",
            "[1 1 1 1 1 1 1 1 1 1 1 1 1 1]\n"
          ],
          "name": "stdout"
        },
        {
          "output_type": "stream",
          "text": [
            "/usr/local/lib/python3.7/dist-packages/sklearn/linear_model/_logistic.py:940: ConvergenceWarning: lbfgs failed to converge (status=1):\n",
            "STOP: TOTAL NO. of ITERATIONS REACHED LIMIT.\n",
            "\n",
            "Increase the number of iterations (max_iter) or scale the data as shown in:\n",
            "    https://scikit-learn.org/stable/modules/preprocessing.html\n",
            "Please also refer to the documentation for alternative solver options:\n",
            "    https://scikit-learn.org/stable/modules/linear_model.html#logistic-regression\n",
            "  extra_warning_msg=_LOGISTIC_SOLVER_CONVERGENCE_MSG)\n"
          ],
          "name": "stderr"
        }
      ]
    },
    {
      "cell_type": "markdown",
      "metadata": {
        "id": "wZP8hMMvm7oi"
      },
      "source": [
        "## Training"
      ]
    },
    {
      "cell_type": "markdown",
      "metadata": {
        "id": "w20o5L7hFqOY"
      },
      "source": [
        "Looks like we will be using all of the variables I trimmed down to, nice."
      ]
    },
    {
      "cell_type": "code",
      "metadata": {
        "colab": {
          "base_uri": "https://localhost:8080/"
        },
        "id": "lnAskoPaU1V-",
        "outputId": "36d3ee5e-d1f0-48ed-fb58-347344349ffb"
      },
      "source": [
        "l_reg.fit(os_data_X, os_data_Y)"
      ],
      "execution_count": 37,
      "outputs": [
        {
          "output_type": "stream",
          "text": [
            "/usr/local/lib/python3.7/dist-packages/sklearn/utils/validation.py:760: DataConversionWarning: A column-vector y was passed when a 1d array was expected. Please change the shape of y to (n_samples, ), for example using ravel().\n",
            "  y = column_or_1d(y, warn=True)\n",
            "/usr/local/lib/python3.7/dist-packages/sklearn/linear_model/_logistic.py:940: ConvergenceWarning: lbfgs failed to converge (status=1):\n",
            "STOP: TOTAL NO. of ITERATIONS REACHED LIMIT.\n",
            "\n",
            "Increase the number of iterations (max_iter) or scale the data as shown in:\n",
            "    https://scikit-learn.org/stable/modules/preprocessing.html\n",
            "Please also refer to the documentation for alternative solver options:\n",
            "    https://scikit-learn.org/stable/modules/linear_model.html#logistic-regression\n",
            "  extra_warning_msg=_LOGISTIC_SOLVER_CONVERGENCE_MSG)\n"
          ],
          "name": "stderr"
        },
        {
          "output_type": "execute_result",
          "data": {
            "text/plain": [
              "LogisticRegression(C=1.0, class_weight=None, dual=False, fit_intercept=True,\n",
              "                   intercept_scaling=1, l1_ratio=None, max_iter=100,\n",
              "                   multi_class='auto', n_jobs=None, penalty='l2',\n",
              "                   random_state=None, solver='lbfgs', tol=0.0001, verbose=0,\n",
              "                   warm_start=False)"
            ]
          },
          "metadata": {
            "tags": []
          },
          "execution_count": 37
        }
      ]
    },
    {
      "cell_type": "markdown",
      "metadata": {
        "id": "HIrzotF-mviL"
      },
      "source": [
        "## Results"
      ]
    },
    {
      "cell_type": "code",
      "metadata": {
        "colab": {
          "base_uri": "https://localhost:8080/"
        },
        "id": "vx8QMiAaVEH_",
        "outputId": "604b0ccb-dcde-427d-837c-d93870626158"
      },
      "source": [
        "l_reg.score(validation_X, validation_Y) * 100"
      ],
      "execution_count": 38,
      "outputs": [
        {
          "output_type": "execute_result",
          "data": {
            "text/plain": [
              "58.207217694994185"
            ]
          },
          "metadata": {
            "tags": []
          },
          "execution_count": 38
        }
      ]
    },
    {
      "cell_type": "code",
      "metadata": {
        "colab": {
          "base_uri": "https://localhost:8080/"
        },
        "id": "Etv0u0UbYa1G",
        "outputId": "2f22bed9-0e23-40ee-96b4-8f934d3e577d"
      },
      "source": [
        "from sklearn.metrics import accuracy_score, precision_score, recall_score\n",
        "\n",
        "predictions = l_reg.predict(validation_X)\n",
        "\n",
        "print(\"Accuracy:\", round(accuracy_score(validation_Y, predictions), 3))\n",
        "print(\"Precision:\", round(precision_score(validation_Y, predictions), 3))\n",
        "print(\"Recall:\", round(recall_score(validation_Y, predictions), 3))"
      ],
      "execution_count": 39,
      "outputs": [
        {
          "output_type": "stream",
          "text": [
            "Accuracy: 0.582\n",
            "Precision: 0.602\n",
            "Recall: 0.596\n"
          ],
          "name": "stdout"
        }
      ]
    },
    {
      "cell_type": "code",
      "metadata": {
        "colab": {
          "base_uri": "https://localhost:8080/",
          "height": 310
        },
        "id": "eoOzW57umQDU",
        "outputId": "19322fda-fd7a-4ee0-aa8a-fb2414a82c25"
      },
      "source": [
        "import seaborn as sns\n",
        "from sklearn.metrics import confusion_matrix\n",
        "\n",
        "conf_mat = confusion_matrix(validation_Y, predictions)\n",
        "labels = [0,1]\n",
        "fig, ax = plt.subplots()\n",
        "ticks = np.arange(len(labels))\n",
        "\n",
        "plt.xticks(ticks, labels)\n",
        "plt.yticks(ticks, labels)\n",
        "sns.heatmap(pd.DataFrame(conf_mat), annot=True, cmap=\"flare\", fmt='g')\n",
        "\n",
        "ax.xaxis.set_label_position(\"top\")\n",
        "plt.title('Logistic Regression Confusion matrix', y=1.1)\n",
        "plt.ylabel('True Label')\n",
        "plt.xlabel('Predicted Label')"
      ],
      "execution_count": 40,
      "outputs": [
        {
          "output_type": "execute_result",
          "data": {
            "text/plain": [
              "Text(0.5, 15.0, 'Predicted Label')"
            ]
          },
          "metadata": {
            "tags": []
          },
          "execution_count": 40
        },
        {
          "output_type": "display_data",
          "data": {
            "image/png": "[encoded data removed]",
            "text/plain": [
              "<Figure size 432x288 with 2 Axes>"
            ]
          },
          "metadata": {
            "tags": [],
            "needs_background": "light"
          }
        }
      ]
    },
    {
      "cell_type": "markdown",
      "metadata": {
        "id": "cPAl5bVgmado"
      },
      "source": [
        "Our results are very sub-optimal because we are seeing a nearly equal distribution of fasle negatives and false positives, this is far from what we want."
      ]
    },
    {
      "cell_type": "markdown",
      "metadata": {
        "id": "96MSO0LY-eQV"
      },
      "source": [
        "# Decision Tree Classification Approach"
      ]
    },
    {
      "cell_type": "markdown",
      "metadata": {
        "id": "jhGnO98onswJ"
      },
      "source": [
        "## Classifier Training"
      ]
    },
    {
      "cell_type": "code",
      "metadata": {
        "colab": {
          "base_uri": "https://localhost:8080/"
        },
        "id": "nc-_D2BA-eQV",
        "outputId": "370257a3-7d4c-43f7-a9b1-ace91e8385d0"
      },
      "source": [
        "from sklearn.tree import DecisionTreeClassifier\n",
        "\n",
        "\n",
        "dt_model = DecisionTreeClassifier(max_depth = 5)\n",
        "dt_model.fit(train_X, train_Y)\n",
        "\n",
        "dt_model.score(validation_X, validation_Y)*100"
      ],
      "execution_count": 41,
      "outputs": [
        {
          "output_type": "execute_result",
          "data": {
            "text/plain": [
              "59.37136204889406"
            ]
          },
          "metadata": {
            "tags": []
          },
          "execution_count": 41
        }
      ]
    },
    {
      "cell_type": "markdown",
      "metadata": {
        "id": "HHarrPlpnvzY"
      },
      "source": [
        "## Classifier Results"
      ]
    },
    {
      "cell_type": "code",
      "metadata": {
        "colab": {
          "base_uri": "https://localhost:8080/"
        },
        "id": "Yu7JnRh7ac9n",
        "outputId": "e59b8100-4814-4605-f5a9-66a234f14339"
      },
      "source": [
        "predictions = dt_model.predict(validation_X)\n",
        "\n",
        "print(\"Accuracy:\", round(accuracy_score(validation_Y, predictions), 3))\n",
        "print(\"Precision:\", round(precision_score(validation_Y, predictions), 3))\n",
        "print(\"Recall:\", round(recall_score(validation_Y, predictions), 3))"
      ],
      "execution_count": 42,
      "outputs": [
        {
          "output_type": "stream",
          "text": [
            "Accuracy: 0.594\n",
            "Precision: 0.646\n",
            "Recall: 0.498\n"
          ],
          "name": "stdout"
        }
      ]
    },
    {
      "cell_type": "code",
      "metadata": {
        "colab": {
          "base_uri": "https://localhost:8080/",
          "height": 310
        },
        "id": "7Uj1YQbIkOAZ",
        "outputId": "633e6e00-ef94-48f6-9931-4f4f58799566"
      },
      "source": [
        "conf_mat = confusion_matrix(validation_Y, predictions)\n",
        "labels = [0,1]\n",
        "fig, ax = plt.subplots()\n",
        "ticks = np.arange(len(labels))\n",
        "\n",
        "plt.xticks(ticks, labels)\n",
        "plt.yticks(ticks, labels)\n",
        "sns.heatmap(pd.DataFrame(conf_mat), annot=True, cmap=\"flare\", fmt='g')\n",
        "\n",
        "ax.xaxis.set_label_position(\"top\")\n",
        "plt.title('Decision Tree Confusion matrix', y=1.1)\n",
        "plt.ylabel('True Label')\n",
        "plt.xlabel('Predicted Label')"
      ],
      "execution_count": 43,
      "outputs": [
        {
          "output_type": "execute_result",
          "data": {
            "text/plain": [
              "Text(0.5, 15.0, 'Predicted Label')"
            ]
          },
          "metadata": {
            "tags": []
          },
          "execution_count": 43
        },
        {
          "output_type": "display_data",
          "data": {
            "image/png": "[encoded data removed]",
            "text/plain": [
              "<Figure size 432x288 with 2 Axes>"
            ]
          },
          "metadata": {
            "tags": [],
            "needs_background": "light"
          }
        }
      ]
    },
    {
      "cell_type": "markdown",
      "metadata": {
        "id": "rlWDkdTUoOF9"
      },
      "source": [
        "# Random Forest Approach"
      ]
    },
    {
      "cell_type": "markdown",
      "metadata": {
        "id": "6NColvPeoAyJ"
      },
      "source": [
        "## Random Forest Classifier Training"
      ]
    },
    {
      "cell_type": "code",
      "metadata": {
        "colab": {
          "base_uri": "https://localhost:8080/"
        },
        "id": "4P2wGFj_-eQV",
        "outputId": "cd6cf942-bf44-4214-cdae-b8e8659f0c05"
      },
      "source": [
        "from sklearn.ensemble import RandomForestClassifier\n",
        "\n",
        "rf_model = RandomForestClassifier(criterion = 'entropy', max_depth = 5, n_estimators = 100)\n",
        "rf_model.fit(train_X, train_Y)\n",
        "\n",
        "rf_model.score(validation_X, validation_Y) * 100"
      ],
      "execution_count": 44,
      "outputs": [
        {
          "output_type": "execute_result",
          "data": {
            "text/plain": [
              "58.78928987194412"
            ]
          },
          "metadata": {
            "tags": []
          },
          "execution_count": 44
        }
      ]
    },
    {
      "cell_type": "markdown",
      "metadata": {
        "id": "IpuoyjBmoIJ7"
      },
      "source": [
        "## Random Forest Classifier Results"
      ]
    },
    {
      "cell_type": "code",
      "metadata": {
        "colab": {
          "base_uri": "https://localhost:8080/"
        },
        "id": "IiIvZxzFah2h",
        "outputId": "4a4f2e15-cc72-452b-ede0-1a6f29aff441"
      },
      "source": [
        "predictions = rf_model.predict(validation_X)\n",
        "\n",
        "print(\"Accuracy:\", round(accuracy_score(validation_Y, predictions), 3))\n",
        "print(\"Precision:\", round(precision_score(validation_Y, predictions), 3))\n",
        "print(\"Recall:\", round(recall_score(validation_Y, predictions), 3))"
      ],
      "execution_count": 45,
      "outputs": [
        {
          "output_type": "stream",
          "text": [
            "Accuracy: 0.588\n",
            "Precision: 0.645\n",
            "Recall: 0.473\n"
          ],
          "name": "stdout"
        }
      ]
    },
    {
      "cell_type": "code",
      "metadata": {
        "colab": {
          "base_uri": "https://localhost:8080/",
          "height": 310
        },
        "id": "0lChg2TilZKq",
        "outputId": "c67f151c-7e5d-4c53-d85d-f7f248c7a791"
      },
      "source": [
        "conf_mat = confusion_matrix(validation_Y, predictions)\n",
        "labels = [0,1]\n",
        "fig, ax = plt.subplots()\n",
        "ticks = np.arange(len(labels))\n",
        "\n",
        "plt.xticks(ticks, labels)\n",
        "plt.yticks(ticks, labels)\n",
        "sns.heatmap(pd.DataFrame(conf_mat), annot=True, cmap=\"flare\", fmt='g')\n",
        "\n",
        "ax.xaxis.set_label_position(\"top\")\n",
        "plt.title('Random Forest Decision Tree Confusion matrix', y=1.1)\n",
        "plt.ylabel('True Label')\n",
        "plt.xlabel('Predicted Label')"
      ],
      "execution_count": 46,
      "outputs": [
        {
          "output_type": "execute_result",
          "data": {
            "text/plain": [
              "Text(0.5, 15.0, 'Predicted Label')"
            ]
          },
          "metadata": {
            "tags": []
          },
          "execution_count": 46
        },
        {
          "output_type": "display_data",
          "data": {
            "image/png": "[encoded data removed]",
            "text/plain": [
              "<Figure size 432x288 with 2 Axes>"
            ]
          },
          "metadata": {
            "tags": [],
            "needs_background": "light"
          }
        }
      ]
    },
    {
      "cell_type": "markdown",
      "metadata": {
        "id": "vJeJHqDF-eQW"
      },
      "source": [
        "# Neural Network Data Prep\n",
        "In order to this we must tranform the labels into their 0 and 1 counterparts to fit the Binary classification specifications."
      ]
    },
    {
      "cell_type": "code",
      "metadata": {
        "id": "zaw1FCAU-eQX"
      },
      "source": [
        "# Copy of the training sets and conversion \n",
        "nn_train_X = train_X.copy()\n",
        "nn_validation_X = validation_X.copy()\n",
        "\n",
        "nn_train_Y = train_Y.copy()\n",
        "nn_train_Y[nn_train_Y[:] == True] = 1.0\n",
        "\n",
        "nn_validation_Y = validation_Y.copy()\n",
        "nn_validation_Y[nn_validation_Y[:] == True] = 1.0"
      ],
      "execution_count": 47,
      "outputs": []
    },
    {
      "cell_type": "code",
      "metadata": {
        "id": "fyhG84w_-eQX"
      },
      "source": [
        "# Ordinal encoding for categorical variables\n",
        "for col in nn_train_X.columns:\n",
        "    if nn_train_X[col].dtypes.name == 'category':\n",
        "        nn_train_X[col] = nn_train_X[col].astype(\"float64\")\n",
        "\n",
        "for col in nn_validation_X.columns:\n",
        "    if nn_validation_X[col].dtypes.name == 'category':\n",
        "        nn_validation_X[col] = nn_validation_X[col].astype(\"float64\")"
      ],
      "execution_count": 48,
      "outputs": []
    },
    {
      "cell_type": "code",
      "metadata": {
        "colab": {
          "base_uri": "https://localhost:8080/"
        },
        "id": "xKgRGV3O-eQX",
        "outputId": "bc1a0a2b-4607-4be7-da52-07e70281c454"
      },
      "source": [
        "nn_validation_X.info()"
      ],
      "execution_count": 49,
      "outputs": [
        {
          "output_type": "stream",
          "text": [
            "<class 'pandas.core.frame.DataFrame'>\n",
            "Int64Index: 859 entries, 1565 to 1302\n",
            "Data columns (total 14 columns):\n",
            " #   Column            Non-Null Count  Dtype  \n",
            "---  ------            --------------  -----  \n",
            " 0   Explicit          859 non-null    bool   \n",
            " 1   Popularity        859 non-null    int64  \n",
            " 2   Danceability      859 non-null    float64\n",
            " 3   Energy            859 non-null    float64\n",
            " 4   Key               859 non-null    float64\n",
            " 5   Loudness          859 non-null    float64\n",
            " 6   Mode              859 non-null    float64\n",
            " 7   Speechiness       859 non-null    float64\n",
            " 8   Acousticness      859 non-null    float64\n",
            " 9   Instrumentalness  859 non-null    float64\n",
            " 10  Liveness          859 non-null    float64\n",
            " 11  Valence           859 non-null    float64\n",
            " 12  Tempo             859 non-null    float64\n",
            " 13  Time Signature    859 non-null    float64\n",
            "dtypes: bool(1), float64(12), int64(1)\n",
            "memory usage: 94.8 KB\n"
          ],
          "name": "stdout"
        }
      ]
    },
    {
      "cell_type": "code",
      "metadata": {
        "colab": {
          "base_uri": "https://localhost:8080/"
        },
        "id": "bQWMWo_Z-eQY",
        "outputId": "11eff639-9395-4b87-8f02-25a76c86b949"
      },
      "source": [
        "nn_validation_X.info()"
      ],
      "execution_count": 50,
      "outputs": [
        {
          "output_type": "stream",
          "text": [
            "<class 'pandas.core.frame.DataFrame'>\n",
            "Int64Index: 859 entries, 1565 to 1302\n",
            "Data columns (total 14 columns):\n",
            " #   Column            Non-Null Count  Dtype  \n",
            "---  ------            --------------  -----  \n",
            " 0   Explicit          859 non-null    bool   \n",
            " 1   Popularity        859 non-null    int64  \n",
            " 2   Danceability      859 non-null    float64\n",
            " 3   Energy            859 non-null    float64\n",
            " 4   Key               859 non-null    float64\n",
            " 5   Loudness          859 non-null    float64\n",
            " 6   Mode              859 non-null    float64\n",
            " 7   Speechiness       859 non-null    float64\n",
            " 8   Acousticness      859 non-null    float64\n",
            " 9   Instrumentalness  859 non-null    float64\n",
            " 10  Liveness          859 non-null    float64\n",
            " 11  Valence           859 non-null    float64\n",
            " 12  Tempo             859 non-null    float64\n",
            " 13  Time Signature    859 non-null    float64\n",
            "dtypes: bool(1), float64(12), int64(1)\n",
            "memory usage: 94.8 KB\n"
          ],
          "name": "stdout"
        }
      ]
    },
    {
      "cell_type": "code",
      "metadata": {
        "id": "0CQeyJ6h-eQY"
      },
      "source": [
        "# Normalizing Training Data\n",
        "nn_train_X -= nn_train_X.mean(axis = 0)\n",
        "nn_train_X /= nn_train_X.std(axis = 0)"
      ],
      "execution_count": 51,
      "outputs": []
    },
    {
      "cell_type": "code",
      "metadata": {
        "id": "pV4vGanh-eQY"
      },
      "source": [
        "# Normalizing Validation Data\n",
        "nn_validation_X -= nn_validation_X.mean(axis = 0)\n",
        "nn_validation_X /= nn_validation_X.std(axis = 0)"
      ],
      "execution_count": 52,
      "outputs": []
    },
    {
      "cell_type": "markdown",
      "metadata": {
        "id": "zhJb6Yf3EWuw"
      },
      "source": [
        "# Binary Classification Neural Network Approach"
      ]
    },
    {
      "cell_type": "markdown",
      "metadata": {
        "id": "jrgYY-KKo2nD"
      },
      "source": [
        "## BCNN Definition"
      ]
    },
    {
      "cell_type": "code",
      "metadata": {
        "colab": {
          "base_uri": "https://localhost:8080/"
        },
        "id": "pWOxgpZt-eQY",
        "outputId": "85344ea9-5f51-4b37-b5ad-d8434280a295"
      },
      "source": [
        "from tensorflow.keras.layers import Dense\n",
        "from tensorflow.keras.models import Sequential\n",
        "\n",
        "nn_model = Sequential()\n",
        "nn_model.add(Dense(8, input_dim = len(ds_features.columns), activation = 'relu'))\n",
        "nn_model.add(Dense(4, activation = 'relu'))\n",
        "nn_model.add(Dense(2, activation = 'relu'))\n",
        "nn_model.add(Dense(1, activation = 'tanh'))\n",
        "\n",
        "nn_model.summary()"
      ],
      "execution_count": 53,
      "outputs": [
        {
          "output_type": "stream",
          "text": [
            "Model: \"sequential\"\n",
            "_________________________________________________________________\n",
            "Layer (type)                 Output Shape              Param #   \n",
            "=================================================================\n",
            "dense (Dense)                (None, 8)                 120       \n",
            "_________________________________________________________________\n",
            "dense_1 (Dense)              (None, 4)                 36        \n",
            "_________________________________________________________________\n",
            "dense_2 (Dense)              (None, 2)                 10        \n",
            "_________________________________________________________________\n",
            "dense_3 (Dense)              (None, 1)                 3         \n",
            "=================================================================\n",
            "Total params: 169\n",
            "Trainable params: 169\n",
            "Non-trainable params: 0\n",
            "_________________________________________________________________\n"
          ],
          "name": "stdout"
        }
      ]
    },
    {
      "cell_type": "markdown",
      "metadata": {
        "id": "mXuYRSV0o6oo"
      },
      "source": [
        "## BCNN Training"
      ]
    },
    {
      "cell_type": "code",
      "metadata": {
        "colab": {
          "base_uri": "https://localhost:8080/"
        },
        "id": "KN2D91CYAnGr",
        "outputId": "68efcdc3-a6a1-407d-b20d-e4c5b896cb69"
      },
      "source": [
        "# Checking devices available\n",
        "tf.config.list_physical_devices()"
      ],
      "execution_count": 54,
      "outputs": [
        {
          "output_type": "execute_result",
          "data": {
            "text/plain": [
              "[PhysicalDevice(name='/physical_device:CPU:0', device_type='CPU'),\n",
              " PhysicalDevice(name='/physical_device:GPU:0', device_type='GPU')]"
            ]
          },
          "metadata": {
            "tags": []
          },
          "execution_count": 54
        }
      ]
    },
    {
      "cell_type": "code",
      "metadata": {
        "colab": {
          "base_uri": "https://localhost:8080/"
        },
        "id": "DgWT_5g2-eQZ",
        "tags": [
          "outputPrepend"
        ],
        "outputId": "f5ecd50d-39de-48c8-8327-bbc2585d2a50"
      },
      "source": [
        "# Training model\n",
        "with tf.device('/GPU:0'):\n",
        "    nn_model.compile(loss = 'binary_crossentropy', optimizer = 'adam', metrics = ['accuracy'])\n",
        "    nn_model.fit(nn_train_X, nn_train_Y, epochs = 100, verbose = True, validation_data = (nn_validation_X, nn_validation_Y))"
      ],
      "execution_count": 55,
      "outputs": [
        {
          "output_type": "stream",
          "text": [
            "Epoch 1/100\n",
            "108/108 [==============================] - 2s 4ms/step - loss: 7.3711 - accuracy: 0.5221 - val_loss: 8.0806 - val_accuracy: 0.4761\n",
            "Epoch 2/100\n",
            "108/108 [==============================] - 0s 3ms/step - loss: 7.3711 - accuracy: 0.5221 - val_loss: 8.0806 - val_accuracy: 0.4761\n",
            "Epoch 3/100\n",
            "108/108 [==============================] - 0s 3ms/step - loss: 7.3711 - accuracy: 0.5221 - val_loss: 8.0806 - val_accuracy: 0.4761\n",
            "Epoch 4/100\n",
            "108/108 [==============================] - 0s 2ms/step - loss: 7.3711 - accuracy: 0.5221 - val_loss: 8.0806 - val_accuracy: 0.4761\n",
            "Epoch 5/100\n",
            "108/108 [==============================] - 0s 2ms/step - loss: 7.3711 - accuracy: 0.5221 - val_loss: 8.0806 - val_accuracy: 0.4761\n",
            "Epoch 6/100\n",
            "108/108 [==============================] - 0s 2ms/step - loss: 7.3711 - accuracy: 0.5221 - val_loss: 8.0806 - val_accuracy: 0.4761\n",
            "Epoch 7/100\n",
            "108/108 [==============================] - 0s 3ms/step - loss: 7.3711 - accuracy: 0.5221 - val_loss: 8.0806 - val_accuracy: 0.4761\n",
            "Epoch 8/100\n",
            "108/108 [==============================] - 0s 2ms/step - loss: 7.3711 - accuracy: 0.5221 - val_loss: 8.0806 - val_accuracy: 0.4761\n",
            "Epoch 9/100\n",
            "108/108 [==============================] - 0s 2ms/step - loss: 7.3711 - accuracy: 0.5221 - val_loss: 8.0806 - val_accuracy: 0.4761\n",
            "Epoch 10/100\n",
            "108/108 [==============================] - 0s 3ms/step - loss: 7.3711 - accuracy: 0.5221 - val_loss: 8.0806 - val_accuracy: 0.4761\n",
            "Epoch 11/100\n",
            "108/108 [==============================] - 0s 3ms/step - loss: 7.3711 - accuracy: 0.5221 - val_loss: 8.0806 - val_accuracy: 0.4761\n",
            "Epoch 12/100\n",
            "108/108 [==============================] - 0s 2ms/step - loss: 7.3711 - accuracy: 0.5221 - val_loss: 8.0806 - val_accuracy: 0.4761\n",
            "Epoch 13/100\n",
            "108/108 [==============================] - 0s 2ms/step - loss: 7.3711 - accuracy: 0.5221 - val_loss: 8.0806 - val_accuracy: 0.4761\n",
            "Epoch 14/100\n",
            "108/108 [==============================] - 0s 2ms/step - loss: 7.3711 - accuracy: 0.5221 - val_loss: 8.0806 - val_accuracy: 0.4761\n",
            "Epoch 15/100\n",
            "108/108 [==============================] - 0s 3ms/step - loss: 7.3711 - accuracy: 0.5221 - val_loss: 8.0806 - val_accuracy: 0.4761\n",
            "Epoch 16/100\n",
            "108/108 [==============================] - 0s 3ms/step - loss: 7.3711 - accuracy: 0.5221 - val_loss: 8.0806 - val_accuracy: 0.4761\n",
            "Epoch 17/100\n",
            "108/108 [==============================] - 0s 2ms/step - loss: 7.3711 - accuracy: 0.5221 - val_loss: 8.0806 - val_accuracy: 0.4761\n",
            "Epoch 18/100\n",
            "108/108 [==============================] - 0s 3ms/step - loss: 7.3711 - accuracy: 0.5221 - val_loss: 8.0806 - val_accuracy: 0.4761\n",
            "Epoch 19/100\n",
            "108/108 [==============================] - 0s 3ms/step - loss: 7.3711 - accuracy: 0.5221 - val_loss: 8.0806 - val_accuracy: 0.4761\n",
            "Epoch 20/100\n",
            "108/108 [==============================] - 0s 2ms/step - loss: 7.3711 - accuracy: 0.5221 - val_loss: 8.0806 - val_accuracy: 0.4761\n",
            "Epoch 21/100\n",
            "108/108 [==============================] - 0s 2ms/step - loss: 7.3711 - accuracy: 0.5221 - val_loss: 8.0806 - val_accuracy: 0.4761\n",
            "Epoch 22/100\n",
            "108/108 [==============================] - 0s 2ms/step - loss: 7.3711 - accuracy: 0.5221 - val_loss: 8.0806 - val_accuracy: 0.4761\n",
            "Epoch 23/100\n",
            "108/108 [==============================] - 0s 2ms/step - loss: 7.3711 - accuracy: 0.5221 - val_loss: 8.0806 - val_accuracy: 0.4761\n",
            "Epoch 24/100\n",
            "108/108 [==============================] - 0s 2ms/step - loss: 7.3711 - accuracy: 0.5221 - val_loss: 8.0806 - val_accuracy: 0.4761\n",
            "Epoch 25/100\n",
            "108/108 [==============================] - 0s 2ms/step - loss: 7.3711 - accuracy: 0.5221 - val_loss: 8.0806 - val_accuracy: 0.4761\n",
            "Epoch 26/100\n",
            "108/108 [==============================] - 0s 2ms/step - loss: 7.3711 - accuracy: 0.5221 - val_loss: 8.0806 - val_accuracy: 0.4761\n",
            "Epoch 27/100\n",
            "108/108 [==============================] - 0s 2ms/step - loss: 7.3711 - accuracy: 0.5221 - val_loss: 8.0806 - val_accuracy: 0.4761\n",
            "Epoch 28/100\n",
            "108/108 [==============================] - 0s 2ms/step - loss: 7.3711 - accuracy: 0.5221 - val_loss: 8.0806 - val_accuracy: 0.4761\n",
            "Epoch 29/100\n",
            "108/108 [==============================] - 0s 3ms/step - loss: 7.3711 - accuracy: 0.5221 - val_loss: 8.0806 - val_accuracy: 0.4761\n",
            "Epoch 30/100\n",
            "108/108 [==============================] - 0s 3ms/step - loss: 7.3711 - accuracy: 0.5221 - val_loss: 8.0806 - val_accuracy: 0.4761\n",
            "Epoch 31/100\n",
            "108/108 [==============================] - 0s 2ms/step - loss: 7.3711 - accuracy: 0.5221 - val_loss: 8.0806 - val_accuracy: 0.4761\n",
            "Epoch 32/100\n",
            "108/108 [==============================] - 0s 2ms/step - loss: 7.3711 - accuracy: 0.5221 - val_loss: 8.0806 - val_accuracy: 0.4761\n",
            "Epoch 33/100\n",
            "108/108 [==============================] - 0s 3ms/step - loss: 7.3711 - accuracy: 0.5221 - val_loss: 8.0806 - val_accuracy: 0.4761\n",
            "Epoch 34/100\n",
            "108/108 [==============================] - 0s 2ms/step - loss: 7.3711 - accuracy: 0.5221 - val_loss: 8.0806 - val_accuracy: 0.4761\n",
            "Epoch 35/100\n",
            "108/108 [==============================] - 0s 2ms/step - loss: 7.3711 - accuracy: 0.5221 - val_loss: 8.0806 - val_accuracy: 0.4761\n",
            "Epoch 36/100\n",
            "108/108 [==============================] - 0s 2ms/step - loss: 7.3711 - accuracy: 0.5221 - val_loss: 8.0806 - val_accuracy: 0.4761\n",
            "Epoch 37/100\n",
            "108/108 [==============================] - 0s 3ms/step - loss: 7.3711 - accuracy: 0.5221 - val_loss: 8.0806 - val_accuracy: 0.4761\n",
            "Epoch 38/100\n",
            "108/108 [==============================] - 0s 2ms/step - loss: 7.3711 - accuracy: 0.5221 - val_loss: 8.0806 - val_accuracy: 0.4761\n",
            "Epoch 39/100\n",
            "108/108 [==============================] - 0s 2ms/step - loss: 7.3711 - accuracy: 0.5221 - val_loss: 8.0806 - val_accuracy: 0.4761\n",
            "Epoch 40/100\n",
            "108/108 [==============================] - 0s 2ms/step - loss: 7.3711 - accuracy: 0.5221 - val_loss: 8.0806 - val_accuracy: 0.4761\n",
            "Epoch 41/100\n",
            "108/108 [==============================] - 0s 3ms/step - loss: 7.3711 - accuracy: 0.5221 - val_loss: 8.0806 - val_accuracy: 0.4761\n",
            "Epoch 42/100\n",
            "108/108 [==============================] - 0s 2ms/step - loss: 7.3711 - accuracy: 0.5221 - val_loss: 8.0806 - val_accuracy: 0.4761\n",
            "Epoch 43/100\n",
            "108/108 [==============================] - 0s 2ms/step - loss: 7.3711 - accuracy: 0.5221 - val_loss: 8.0806 - val_accuracy: 0.4761\n",
            "Epoch 44/100\n",
            "108/108 [==============================] - 0s 2ms/step - loss: 7.3711 - accuracy: 0.5221 - val_loss: 8.0806 - val_accuracy: 0.4761\n",
            "Epoch 45/100\n",
            "108/108 [==============================] - 0s 3ms/step - loss: 7.3711 - accuracy: 0.5221 - val_loss: 8.0806 - val_accuracy: 0.4761\n",
            "Epoch 46/100\n",
            "108/108 [==============================] - 0s 2ms/step - loss: 7.3711 - accuracy: 0.5221 - val_loss: 8.0806 - val_accuracy: 0.4761\n",
            "Epoch 47/100\n",
            "108/108 [==============================] - 0s 2ms/step - loss: 7.3711 - accuracy: 0.5221 - val_loss: 8.0806 - val_accuracy: 0.4761\n",
            "Epoch 48/100\n",
            "108/108 [==============================] - 0s 2ms/step - loss: 7.3711 - accuracy: 0.5221 - val_loss: 8.0806 - val_accuracy: 0.4761\n",
            "Epoch 49/100\n",
            "108/108 [==============================] - 0s 2ms/step - loss: 7.3711 - accuracy: 0.5221 - val_loss: 8.0806 - val_accuracy: 0.4761\n",
            "Epoch 50/100\n",
            "108/108 [==============================] - 0s 2ms/step - loss: 7.3711 - accuracy: 0.5221 - val_loss: 8.0806 - val_accuracy: 0.4761\n",
            "Epoch 51/100\n",
            "108/108 [==============================] - 0s 2ms/step - loss: 7.3711 - accuracy: 0.5221 - val_loss: 8.0806 - val_accuracy: 0.4761\n",
            "Epoch 52/100\n",
            "108/108 [==============================] - 0s 2ms/step - loss: 7.3711 - accuracy: 0.5221 - val_loss: 8.0806 - val_accuracy: 0.4761\n",
            "Epoch 53/100\n",
            "108/108 [==============================] - 0s 2ms/step - loss: 7.3711 - accuracy: 0.5221 - val_loss: 8.0806 - val_accuracy: 0.4761\n",
            "Epoch 54/100\n",
            "108/108 [==============================] - 0s 2ms/step - loss: 7.3711 - accuracy: 0.5221 - val_loss: 8.0806 - val_accuracy: 0.4761\n",
            "Epoch 55/100\n",
            "108/108 [==============================] - 0s 3ms/step - loss: 7.3711 - accuracy: 0.5221 - val_loss: 8.0806 - val_accuracy: 0.4761\n",
            "Epoch 56/100\n",
            "108/108 [==============================] - 0s 3ms/step - loss: 7.3711 - accuracy: 0.5221 - val_loss: 8.0806 - val_accuracy: 0.4761\n",
            "Epoch 57/100\n",
            "108/108 [==============================] - 0s 3ms/step - loss: 7.3711 - accuracy: 0.5221 - val_loss: 8.0806 - val_accuracy: 0.4761\n",
            "Epoch 58/100\n",
            "108/108 [==============================] - 0s 2ms/step - loss: 7.3711 - accuracy: 0.5221 - val_loss: 8.0806 - val_accuracy: 0.4761\n",
            "Epoch 59/100\n",
            "108/108 [==============================] - 0s 2ms/step - loss: 7.3711 - accuracy: 0.5221 - val_loss: 8.0806 - val_accuracy: 0.4761\n",
            "Epoch 60/100\n",
            "108/108 [==============================] - 0s 2ms/step - loss: 7.3711 - accuracy: 0.5221 - val_loss: 8.0806 - val_accuracy: 0.4761\n",
            "Epoch 61/100\n",
            "108/108 [==============================] - 0s 3ms/step - loss: 7.3711 - accuracy: 0.5221 - val_loss: 8.0806 - val_accuracy: 0.4761\n",
            "Epoch 62/100\n",
            "108/108 [==============================] - 0s 2ms/step - loss: 7.3711 - accuracy: 0.5221 - val_loss: 8.0806 - val_accuracy: 0.4761\n",
            "Epoch 63/100\n",
            "108/108 [==============================] - 0s 2ms/step - loss: 7.3711 - accuracy: 0.5221 - val_loss: 8.0806 - val_accuracy: 0.4761\n",
            "Epoch 64/100\n",
            "108/108 [==============================] - 0s 2ms/step - loss: 7.3711 - accuracy: 0.5221 - val_loss: 8.0806 - val_accuracy: 0.4761\n",
            "Epoch 65/100\n",
            "108/108 [==============================] - 0s 3ms/step - loss: 7.3711 - accuracy: 0.5221 - val_loss: 8.0806 - val_accuracy: 0.4761\n",
            "Epoch 66/100\n",
            "108/108 [==============================] - 0s 2ms/step - loss: 7.3711 - accuracy: 0.5221 - val_loss: 8.0806 - val_accuracy: 0.4761\n",
            "Epoch 67/100\n",
            "108/108 [==============================] - 0s 2ms/step - loss: 7.3711 - accuracy: 0.5221 - val_loss: 8.0806 - val_accuracy: 0.4761\n",
            "Epoch 68/100\n",
            "108/108 [==============================] - 0s 2ms/step - loss: 7.3711 - accuracy: 0.5221 - val_loss: 8.0806 - val_accuracy: 0.4761\n",
            "Epoch 69/100\n",
            "108/108 [==============================] - 0s 2ms/step - loss: 7.3711 - accuracy: 0.5221 - val_loss: 8.0806 - val_accuracy: 0.4761\n",
            "Epoch 70/100\n",
            "108/108 [==============================] - 0s 3ms/step - loss: 7.3711 - accuracy: 0.5221 - val_loss: 8.0806 - val_accuracy: 0.4761\n",
            "Epoch 71/100\n",
            "108/108 [==============================] - 0s 2ms/step - loss: 7.3711 - accuracy: 0.5221 - val_loss: 8.0806 - val_accuracy: 0.4761\n",
            "Epoch 72/100\n",
            "108/108 [==============================] - 0s 2ms/step - loss: 7.3711 - accuracy: 0.5221 - val_loss: 8.0806 - val_accuracy: 0.4761\n",
            "Epoch 73/100\n",
            "108/108 [==============================] - 0s 2ms/step - loss: 7.3711 - accuracy: 0.5221 - val_loss: 8.0806 - val_accuracy: 0.4761\n",
            "Epoch 74/100\n",
            "108/108 [==============================] - 0s 3ms/step - loss: 7.3711 - accuracy: 0.5221 - val_loss: 8.0806 - val_accuracy: 0.4761\n",
            "Epoch 75/100\n",
            "108/108 [==============================] - 0s 2ms/step - loss: 7.3711 - accuracy: 0.5221 - val_loss: 8.0806 - val_accuracy: 0.4761\n",
            "Epoch 76/100\n",
            "108/108 [==============================] - 0s 2ms/step - loss: 7.3711 - accuracy: 0.5221 - val_loss: 8.0806 - val_accuracy: 0.4761\n",
            "Epoch 77/100\n",
            "108/108 [==============================] - 0s 3ms/step - loss: 7.3711 - accuracy: 0.5221 - val_loss: 8.0806 - val_accuracy: 0.4761\n",
            "Epoch 78/100\n",
            "108/108 [==============================] - 0s 2ms/step - loss: 7.3711 - accuracy: 0.5221 - val_loss: 8.0806 - val_accuracy: 0.4761\n",
            "Epoch 79/100\n",
            "108/108 [==============================] - 0s 2ms/step - loss: 7.3711 - accuracy: 0.5221 - val_loss: 8.0806 - val_accuracy: 0.4761\n",
            "Epoch 80/100\n",
            "108/108 [==============================] - 0s 3ms/step - loss: 7.3711 - accuracy: 0.5221 - val_loss: 8.0806 - val_accuracy: 0.4761\n",
            "Epoch 81/100\n",
            "108/108 [==============================] - 0s 2ms/step - loss: 7.3711 - accuracy: 0.5221 - val_loss: 8.0806 - val_accuracy: 0.4761\n",
            "Epoch 82/100\n",
            "108/108 [==============================] - 0s 3ms/step - loss: 7.3711 - accuracy: 0.5221 - val_loss: 8.0806 - val_accuracy: 0.4761\n",
            "Epoch 83/100\n",
            "108/108 [==============================] - 0s 2ms/step - loss: 7.3711 - accuracy: 0.5221 - val_loss: 8.0806 - val_accuracy: 0.4761\n",
            "Epoch 84/100\n",
            "108/108 [==============================] - 0s 2ms/step - loss: 7.3711 - accuracy: 0.5221 - val_loss: 8.0806 - val_accuracy: 0.4761\n",
            "Epoch 85/100\n",
            "108/108 [==============================] - 0s 2ms/step - loss: 7.3711 - accuracy: 0.5221 - val_loss: 8.0806 - val_accuracy: 0.4761\n",
            "Epoch 86/100\n",
            "108/108 [==============================] - 0s 2ms/step - loss: 7.3711 - accuracy: 0.5221 - val_loss: 8.0806 - val_accuracy: 0.4761\n",
            "Epoch 87/100\n",
            "108/108 [==============================] - 0s 3ms/step - loss: 7.3711 - accuracy: 0.5221 - val_loss: 8.0806 - val_accuracy: 0.4761\n",
            "Epoch 88/100\n",
            "108/108 [==============================] - 0s 2ms/step - loss: 7.3711 - accuracy: 0.5221 - val_loss: 8.0806 - val_accuracy: 0.4761\n",
            "Epoch 89/100\n",
            "108/108 [==============================] - 0s 2ms/step - loss: 7.3711 - accuracy: 0.5221 - val_loss: 8.0806 - val_accuracy: 0.4761\n",
            "Epoch 90/100\n",
            "108/108 [==============================] - 0s 3ms/step - loss: 7.3711 - accuracy: 0.5221 - val_loss: 8.0806 - val_accuracy: 0.4761\n",
            "Epoch 91/100\n",
            "108/108 [==============================] - 0s 2ms/step - loss: 7.3711 - accuracy: 0.5221 - val_loss: 8.0806 - val_accuracy: 0.4761\n",
            "Epoch 92/100\n",
            "108/108 [==============================] - 0s 2ms/step - loss: 7.3711 - accuracy: 0.5221 - val_loss: 8.0806 - val_accuracy: 0.4761\n",
            "Epoch 93/100\n",
            "108/108 [==============================] - 0s 2ms/step - loss: 7.3711 - accuracy: 0.5221 - val_loss: 8.0806 - val_accuracy: 0.4761\n",
            "Epoch 94/100\n",
            "108/108 [==============================] - 0s 2ms/step - loss: 7.3711 - accuracy: 0.5221 - val_loss: 8.0806 - val_accuracy: 0.4761\n",
            "Epoch 95/100\n",
            "108/108 [==============================] - 0s 3ms/step - loss: 7.3711 - accuracy: 0.5221 - val_loss: 8.0806 - val_accuracy: 0.4761\n",
            "Epoch 96/100\n",
            "108/108 [==============================] - 0s 3ms/step - loss: 7.3711 - accuracy: 0.5221 - val_loss: 8.0806 - val_accuracy: 0.4761\n",
            "Epoch 97/100\n",
            "108/108 [==============================] - 0s 2ms/step - loss: 7.3711 - accuracy: 0.5221 - val_loss: 8.0806 - val_accuracy: 0.4761\n",
            "Epoch 98/100\n",
            "108/108 [==============================] - 0s 3ms/step - loss: 7.3711 - accuracy: 0.5221 - val_loss: 8.0806 - val_accuracy: 0.4761\n",
            "Epoch 99/100\n",
            "108/108 [==============================] - 0s 3ms/step - loss: 7.3711 - accuracy: 0.5221 - val_loss: 8.0806 - val_accuracy: 0.4761\n",
            "Epoch 100/100\n",
            "108/108 [==============================] - 0s 2ms/step - loss: 7.3711 - accuracy: 0.5221 - val_loss: 8.0806 - val_accuracy: 0.4761\n"
          ],
          "name": "stdout"
        }
      ]
    },
    {
      "cell_type": "code",
      "metadata": {
        "id": "XHp9w9Z--eQZ"
      },
      "source": [
        "# Evaluating the neural network\n",
        "nn_predictions = nn_model.predict(nn_validation_X).round()"
      ],
      "execution_count": 61,
      "outputs": []
    },
    {
      "cell_type": "code",
      "metadata": {
        "colab": {
          "base_uri": "https://localhost:8080/"
        },
        "id": "2eoqySl7-eQZ",
        "outputId": "b6a15f4e-b444-45c5-83a6-7799c1a39161"
      },
      "source": [
        "from sklearn.metrics import accuracy_score, precision_score, recall_score, f1_score\n",
        "\n",
        "acc_score = accuracy_score(nn_validation_Y, nn_predictions)\n",
        "acc_score"
      ],
      "execution_count": 62,
      "outputs": [
        {
          "output_type": "execute_result",
          "data": {
            "text/plain": [
              "0.47613504074505236"
            ]
          },
          "metadata": {
            "tags": []
          },
          "execution_count": 62
        }
      ]
    },
    {
      "cell_type": "code",
      "metadata": {
        "colab": {
          "base_uri": "https://localhost:8080/"
        },
        "id": "5d2sb2cI-eQZ",
        "outputId": "faf744a2-dbe1-4f8d-c583-d654df1108dd"
      },
      "source": [
        "prec_score = precision_score(nn_validation_Y, nn_predictions)\n",
        "prec_score"
      ],
      "execution_count": 63,
      "outputs": [
        {
          "output_type": "stream",
          "text": [
            "/usr/local/lib/python3.7/dist-packages/sklearn/metrics/_classification.py:1272: UndefinedMetricWarning: Precision is ill-defined and being set to 0.0 due to no predicted samples. Use `zero_division` parameter to control this behavior.\n",
            "  _warn_prf(average, modifier, msg_start, len(result))\n"
          ],
          "name": "stderr"
        },
        {
          "output_type": "execute_result",
          "data": {
            "text/plain": [
              "0.0"
            ]
          },
          "metadata": {
            "tags": []
          },
          "execution_count": 63
        }
      ]
    },
    {
      "cell_type": "code",
      "metadata": {
        "colab": {
          "base_uri": "https://localhost:8080/"
        },
        "id": "xYesWrSZ-eQZ",
        "outputId": "00b4f7ba-c3a8-410c-cb7b-eb59272ed67b"
      },
      "source": [
        "rec_score = recall_score(nn_validation_Y, nn_predictions)\n",
        "rec_score"
      ],
      "execution_count": 59,
      "outputs": [
        {
          "output_type": "execute_result",
          "data": {
            "text/plain": [
              "0.0"
            ]
          },
          "metadata": {
            "tags": []
          },
          "execution_count": 59
        }
      ]
    },
    {
      "cell_type": "code",
      "metadata": {
        "colab": {
          "base_uri": "https://localhost:8080/"
        },
        "id": "-ni2c5J0-eQa",
        "outputId": "a7064b40-ca2d-4f07-a630-eb048109b22f"
      },
      "source": [
        "f1 = f1_score(nn_validation_Y, nn_predictions)\n",
        "f1"
      ],
      "execution_count": 60,
      "outputs": [
        {
          "output_type": "execute_result",
          "data": {
            "text/plain": [
              "0.0"
            ]
          },
          "metadata": {
            "tags": []
          },
          "execution_count": 60
        }
      ]
    },
    {
      "cell_type": "markdown",
      "metadata": {
        "id": "6husdth-IEbx"
      },
      "source": [
        "# Convolutional Neural Network Approach (SuperTML)\n",
        "Following concepts from this paper here: https://arxiv.org/abs/1903.06246"
      ]
    },
    {
      "cell_type": "markdown",
      "metadata": {
        "id": "wxqnqWRxpH-p"
      },
      "source": [
        "## Data Prep"
      ]
    },
    {
      "cell_type": "code",
      "metadata": {
        "id": "ZLH3oHR1MTtf"
      },
      "source": [
        "# Copying datasets over to be manipulated\n",
        "cnn_train_X = nn_train_X.copy()\n",
        "cnn_train_Y = nn_train_Y.copy()\n",
        "\n",
        "cnn_valid_X = nn_validation_X.copy()\n",
        "cnn_valid_Y = nn_validation_Y.copy()"
      ],
      "execution_count": 64,
      "outputs": []
    },
    {
      "cell_type": "markdown",
      "metadata": {
        "id": "fVcqYKffpMNX"
      },
      "source": [
        "## Transforming Features Into Images"
      ]
    },
    {
      "cell_type": "code",
      "metadata": {
        "colab": {
          "base_uri": "https://localhost:8080/"
        },
        "id": "YhkyPOXkkpBN",
        "tags": [
          "outputPrepend"
        ],
        "outputId": "7cc171c9-fe9d-4622-9e26-7d55bcee406a"
      },
      "source": [
        "!fc-list"
      ],
      "execution_count": 65,
      "outputs": [
        {
          "output_type": "stream",
          "text": [
            "/usr/share/fonts/truetype/liberation/LiberationSansNarrow-Italic.ttf: Liberation Sans Narrow:style=Italic\n",
            "/usr/share/fonts/truetype/liberation/LiberationSans-Regular.ttf: Liberation Sans:style=Regular\n",
            "/usr/share/fonts/truetype/liberation/LiberationMono-BoldItalic.ttf: Liberation Mono:style=Bold Italic\n",
            "/usr/share/fonts/truetype/liberation/LiberationSerif-Italic.ttf: Liberation Serif:style=Italic\n",
            "/usr/share/fonts/truetype/liberation/LiberationMono-Bold.ttf: Liberation Mono:style=Bold\n",
            "/usr/share/fonts/truetype/liberation/LiberationSansNarrow-Regular.ttf: Liberation Sans Narrow:style=Regular\n",
            "/usr/share/fonts/truetype/liberation/LiberationSerif-Bold.ttf: Liberation Serif:style=Bold\n",
            "/usr/share/fonts/truetype/liberation/LiberationMono-Regular.ttf: Liberation Mono:style=Regular\n",
            "/usr/share/fonts/truetype/liberation/LiberationSans-Italic.ttf: Liberation Sans:style=Italic\n",
            "/usr/share/fonts/truetype/liberation/LiberationSerif-BoldItalic.ttf: Liberation Serif:style=Bold Italic\n",
            "/usr/share/fonts/truetype/liberation/LiberationSansNarrow-BoldItalic.ttf: Liberation Sans Narrow:style=Bold Italic\n",
            "/usr/share/fonts/truetype/liberation/LiberationMono-Italic.ttf: Liberation Mono:style=Italic\n",
            "/usr/share/fonts/truetype/liberation/LiberationSans-BoldItalic.ttf: Liberation Sans:style=Bold Italic\n",
            "/usr/share/fonts/truetype/liberation/LiberationSerif-Regular.ttf: Liberation Serif:style=Regular\n",
            "/usr/share/fonts/truetype/liberation/LiberationSansNarrow-Bold.ttf: Liberation Sans Narrow:style=Bold\n",
            "/usr/share/fonts/truetype/liberation/LiberationSans-Bold.ttf: Liberation Sans:style=Bold\n",
            "/usr/share/fonts/truetype/humor-sans/Humor-Sans.ttf: Humor Sans:style=Regular\n"
          ],
          "name": "stdout"
        }
      ]
    },
    {
      "cell_type": "markdown",
      "metadata": {
        "id": "WmKvLxzkSKlH"
      },
      "source": [
        "A large portion of the following conversion algorithm is based on [EmjayAhn's implementation of feature creation.](https://github.com/EmjayAhn/SuperTML-pytorch/blob/c962956fe80112ec9cae9086fca296b52c67718a/data_preparation.py#L28)\n",
        "\n",
        "My algorithm differs in the number of parameters it is converting, its final format (channels last), and that it is taking a Pandas data frame as input."
      ]
    },
    {
      "cell_type": "code",
      "metadata": {
        "id": "HHweDWNwpgFk"
      },
      "source": [
        "# can likely improve this by not constructing a dataset in memory\n",
        "\n",
        "from PIL import Image, ImageDraw, ImageFont\n",
        "import pandas as pd\n",
        "\n",
        "def imageEncode(data):\n",
        "    images = []\n",
        "    font = ImageFont.truetype(\"LiberationMono-Regular.ttf\", size = 25)\n",
        "    location = [(25, 20), (100, 20), (175, 20), \n",
        "                (25, 70), (100, 70), (175, 70), \n",
        "                (25, 120), (100, 120), (175, 120), \n",
        "                (25, 170), (100, 170),(175, 170),\n",
        "                (50, 215), (150, 215)]\n",
        "    \n",
        "\n",
        "    # Going through each row\n",
        "    for row in data.iterrows():\n",
        "        # Generate base image\n",
        "        bg = np.array([[0 for _ in range(255)] for _ in range(255)], dtype = 'uint8')\n",
        "        image = Image.fromarray(bg)\n",
        "        draw = ImageDraw.Draw(image)\n",
        "\n",
        "        # Adding each feature to the image\n",
        "        l = 0\n",
        "        for col in range(0, len(data.columns)):\n",
        "          value = round(row[1][col], 2)\n",
        "#           if value < -0.50:\n",
        "#             draw.text(location[l], str(value), fill = '#333399', font = font)\n",
        "#           elif value > -0.50 and value < 0.0:\n",
        "#             draw.text(location[l], str(value), fill = '#3366cc', font = font)\n",
        "#           elif value == 0.0:\n",
        "#             draw.text(location[l], str(value), fill = 'white', font = font)\n",
        "#           elif value > 0.0 and value < 0.50:\n",
        "#             draw.text(location[l], str(value), fill = '#cc6600', font = font)\n",
        "#           elif value > 0.50:\n",
        "#             draw.text(location[l], str(value), fill = '#cc3300', font = font)\n",
        "          \n",
        "          draw.text(location[l], str(value), fill = 'white', font = font)\n",
        "          l += 1\n",
        "        \n",
        "        rgb = [np.array(image, dtype='uint8') for _ in range(3)]\n",
        "        images.append(rgb)\n",
        "\n",
        "    images = np.array(images) / 255\n",
        "\n",
        "    # move to channels last format\n",
        "    images = np.moveaxis(images, 1, -1)\n",
        "\n",
        "    return images"
      ],
      "execution_count": 66,
      "outputs": []
    },
    {
      "cell_type": "code",
      "metadata": {
        "id": "pG36FrXsTn12"
      },
      "source": [
        "temp_set = imageEncode(cnn_train_X.sample(1))"
      ],
      "execution_count": 67,
      "outputs": []
    },
    {
      "cell_type": "code",
      "metadata": {
        "colab": {
          "base_uri": "https://localhost:8080/",
          "height": 269
        },
        "id": "hcQPl0HqCZLU",
        "outputId": "382755a2-0e9b-4a2f-cb3e-176be1f49a46"
      },
      "source": [
        "plt.figure()\n",
        "plt.xticks([])\n",
        "plt.yticks([])\n",
        "plt.grid(False)\n",
        "plt.imshow(temp_set[0])"
      ],
      "execution_count": 68,
      "outputs": [
        {
          "output_type": "execute_result",
          "data": {
            "text/plain": [
              "<matplotlib.image.AxesImage at 0x7f0fb7fd5450>"
            ]
          },
          "metadata": {
            "tags": []
          },
          "execution_count": 68
        },
        {
          "output_type": "display_data",
          "data": {
            "image/png": "[encoded data removed]",
            "text/plain": [
              "<Figure size 432x288 with 1 Axes>"
            ]
          },
          "metadata": {
            "tags": []
          }
        }
      ]
    },
    {
      "cell_type": "code",
      "metadata": {
        "id": "HjnbElh7CZLV"
      },
      "source": [
        "cnn_train_X = imageEncode(cnn_train_X)\n",
        "cnn_valid_X = imageEncode(cnn_valid_X)"
      ],
      "execution_count": 69,
      "outputs": []
    },
    {
      "cell_type": "code",
      "metadata": {
        "colab": {
          "base_uri": "https://localhost:8080/"
        },
        "id": "lkd-mhm4CZLV",
        "outputId": "22c06f32-1c8f-4e04-f90f-d2373af69552"
      },
      "source": [
        "print(cnn_train_X.shape)\n",
        "print(cnn_valid_X.shape)"
      ],
      "execution_count": 70,
      "outputs": [
        {
          "output_type": "stream",
          "text": [
            "(3434, 255, 255, 3)\n",
            "(859, 255, 255, 3)\n"
          ],
          "name": "stdout"
        }
      ]
    },
    {
      "cell_type": "markdown",
      "metadata": {
        "id": "tk4dWfiupf1l"
      },
      "source": [
        "## Network Definition"
      ]
    },
    {
      "cell_type": "code",
      "metadata": {
        "colab": {
          "base_uri": "https://localhost:8080/"
        },
        "id": "TDhvy6zxCZLV",
        "outputId": "9872031d-1663-4e95-a56d-9a878f907535"
      },
      "source": [
        "from tensorflow.keras import datasets, layers, models\n",
        "from tensorflow.keras.models import Sequential\n",
        "from tensorflow.keras.layers import Input, Dropout, Flatten, Conv2D, MaxPooling2D, Dense, Activation\n",
        "    \n",
        "cnn_model = Sequential()\n",
        "cnn_model.add(Conv2D(32, (3, 3), activation='relu', input_shape=(255, 255, 3)))\n",
        "cnn_model.add(MaxPooling2D((2, 2)))\n",
        "cnn_model.add(Conv2D(64, (3, 3), activation='relu'))\n",
        "cnn_model.add(MaxPooling2D((2, 2)))\n",
        "cnn_model.add(Conv2D(64, (3, 3), activation='relu'))\n",
        "\n",
        "cnn_model.add(Flatten())\n",
        "cnn_model.add(Dense(64, activation='relu'))\n",
        "cnn_model.add(Dense(10))\n",
        "cnn_model.add(Dense(1, activation = 'tanh'))\n",
        "\n",
        "cnn_model.summary()"
      ],
      "execution_count": 71,
      "outputs": [
        {
          "output_type": "stream",
          "text": [
            "Model: \"sequential_1\"\n",
            "_________________________________________________________________\n",
            "Layer (type)                 Output Shape              Param #   \n",
            "=================================================================\n",
            "conv2d (Conv2D)              (None, 253, 253, 32)      896       \n",
            "_________________________________________________________________\n",
            "max_pooling2d (MaxPooling2D) (None, 126, 126, 32)      0         \n",
            "_________________________________________________________________\n",
            "conv2d_1 (Conv2D)            (None, 124, 124, 64)      18496     \n",
            "_________________________________________________________________\n",
            "max_pooling2d_1 (MaxPooling2 (None, 62, 62, 64)        0         \n",
            "_________________________________________________________________\n",
            "conv2d_2 (Conv2D)            (None, 60, 60, 64)        36928     \n",
            "_________________________________________________________________\n",
            "flatten (Flatten)            (None, 230400)            0         \n",
            "_________________________________________________________________\n",
            "dense_4 (Dense)              (None, 64)                14745664  \n",
            "_________________________________________________________________\n",
            "dense_5 (Dense)              (None, 10)                650       \n",
            "_________________________________________________________________\n",
            "dense_6 (Dense)              (None, 1)                 11        \n",
            "=================================================================\n",
            "Total params: 14,802,645\n",
            "Trainable params: 14,802,645\n",
            "Non-trainable params: 0\n",
            "_________________________________________________________________\n"
          ],
          "name": "stdout"
        }
      ]
    },
    {
      "cell_type": "markdown",
      "metadata": {
        "id": "EToVAfzzp0RQ"
      },
      "source": [
        "## Network Training"
      ]
    },
    {
      "cell_type": "code",
      "metadata": {
        "id": "6Ddtm6gMCZLW",
        "colab": {
          "base_uri": "https://localhost:8080/"
        },
        "outputId": "cfaa336e-da89-447f-e709-d096dceefd8a"
      },
      "source": [
        "optimizer = tf.keras.optimizers.Adam(learning_rate = 0.0001)\n",
        "\n",
        "with tf.device('/GPU:0'):\n",
        "    cnn_model.compile(loss = 'binary_crossentropy', optimizer = optimizer, metrics = ['accuracy'])\n",
        "    cnn_model.fit(cnn_train_X, cnn_train_Y, epochs = 5, verbose = True, validation_data = (cnn_valid_X, cnn_valid_Y))"
      ],
      "execution_count": 72,
      "outputs": [
        {
          "output_type": "stream",
          "text": [
            "Epoch 1/5\n",
            "108/108 [==============================] - 18s 34ms/step - loss: 1.0371 - accuracy: 0.5076 - val_loss: 0.7016 - val_accuracy: 0.5227\n",
            "Epoch 2/5\n",
            "108/108 [==============================] - 3s 26ms/step - loss: 0.6755 - accuracy: 0.5751 - val_loss: 0.6901 - val_accuracy: 0.5704\n",
            "Epoch 3/5\n",
            "108/108 [==============================] - 3s 26ms/step - loss: 0.6636 - accuracy: 0.5897 - val_loss: 0.6656 - val_accuracy: 0.6042\n",
            "Epoch 4/5\n",
            "108/108 [==============================] - 3s 26ms/step - loss: 0.6732 - accuracy: 0.5920 - val_loss: 0.6758 - val_accuracy: 0.5902\n",
            "Epoch 5/5\n",
            "108/108 [==============================] - 3s 26ms/step - loss: 0.6519 - accuracy: 0.6136 - val_loss: 0.6973 - val_accuracy: 0.5728\n"
          ],
          "name": "stdout"
        }
      ]
    },
    {
      "cell_type": "markdown",
      "metadata": {
        "id": "09FNGrfaBF7d"
      },
      "source": [
        "It appears that even with a realtively simple network, normalization, and Adam dropout optimization there is some clear overfitting happening here. Even when using a minute learning rate, the model produces the same accuracy metrics for each pass. This constitutes a dead end for this method as I cannot produce more accurately labeled data. \n",
        "\n",
        "Either this approach to the network is flawed or perhaps a simpler method overall is more advantageous for a solution."
      ]
    }
  ]
}